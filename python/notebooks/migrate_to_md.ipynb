{
 "cells": [
  {
   "cell_type": "code",
   "execution_count": 1,
   "metadata": {},
   "outputs": [],
   "source": [
    "import ibis\n",
    "import duckdb\n",
    "\n",
    "from alaska_legislative_data._db import Backend, SCHEMAS"
   ]
  },
  {
   "cell_type": "code",
   "execution_count": 2,
   "metadata": {},
   "outputs": [
    {
     "data": {
      "text/plain": [
       "<duckdb.duckdb.DuckDBPyConnection at 0x1196bc6b0>"
      ]
     },
     "execution_count": 2,
     "metadata": {},
     "output_type": "execute_result"
    }
   ],
   "source": [
    "d = duckdb.connect(\"md:ak_leg\")\n",
    "# i = ibis.duckdb.connect(\"md:ak_leg\")\n",
    "# i = Backend(i)\n",
    "d"
   ]
  },
  {
   "cell_type": "code",
   "execution_count": null,
   "metadata": {},
   "outputs": [],
   "source": [
    "# for table_name in SCHEMAS:\n",
    "# for table_name in reversed(SCHEMAS):\n",
    "# d.sql(f\"CREATE TABLE {table_name}2 AS SELECT * FROM {table_name}\")\n",
    "# d.sql(\"DROP TABLE IF EXISTS \" + table_name)\n",
    "# d.sql(\"DROP TABLE IF EXISTS \" + table_name + \"2\")\n",
    "# d.sql(\"INSERT INTO \" + table_name + \" SELECT * FROM \" + table_name + \"2\")"
   ]
  },
  {
   "cell_type": "code",
   "execution_count": null,
   "metadata": {},
   "outputs": [],
   "source": [
    "# Backend.create_tables(d)"
   ]
  },
  {
   "cell_type": "code",
   "execution_count": null,
   "metadata": {},
   "outputs": [
    {
     "data": {
      "text/plain": [
       "┌───────────────────────┐\n",
       "│         name          │\n",
       "│        varchar        │\n",
       "├───────────────────────┤\n",
       "│ bills                 │\n",
       "│ bills2                │\n",
       "│ choices               │\n",
       "│ choices2              │\n",
       "│ legislature_sessions  │\n",
       "│ legislature_sessions2 │\n",
       "│ legislatures          │\n",
       "│ legislatures2         │\n",
       "│ members               │\n",
       "│ members2              │\n",
       "│ people                │\n",
       "│ people2               │\n",
       "│ votes                 │\n",
       "│ votes2                │\n",
       "├───────────────────────┤\n",
       "│        14 rows        │\n",
       "└───────────────────────┘"
      ]
     },
     "execution_count": 6,
     "metadata": {},
     "output_type": "execute_result"
    }
   ],
   "source": [
    "# d.sql(\"DROP TABLE legislatures\")\n",
    "d.sql(\"SHOW TABLES\")\n",
    "# i.tables"
   ]
  },
  {
   "cell_type": "code",
   "execution_count": null,
   "metadata": {},
   "outputs": [],
   "source": []
  },
  {
   "cell_type": "code",
   "execution_count": 5,
   "metadata": {},
   "outputs": [],
   "source": [
    "Backend.create_tables(d)"
   ]
  },
  {
   "cell_type": "code",
   "execution_count": null,
   "metadata": {},
   "outputs": [],
   "source": [
    "d.sql(\"EXPORT DATABASE 'export_for_ddl'\")"
   ]
  },
  {
   "cell_type": "code",
   "execution_count": 3,
   "metadata": {},
   "outputs": [
    {
     "data": {
      "text/plain": [
       "['ak_leg', 'md_information_schema', 'sample_data', 'scg_db', 'system', 'temp']"
      ]
     },
     "execution_count": 3,
     "metadata": {},
     "output_type": "execute_result"
    }
   ],
   "source": [
    "i.list_catalogs()"
   ]
  },
  {
   "cell_type": "code",
   "execution_count": 4,
   "metadata": {},
   "outputs": [
    {
     "data": {
      "text/plain": [
       "<duckdb.duckdb.DuckDBPyConnection at 0x104bf6530>"
      ]
     },
     "execution_count": 4,
     "metadata": {},
     "output_type": "execute_result"
    }
   ],
   "source": [
    "i.raw_sql(\"ATTACH IF NOT EXISTS '../export/ak_leg.duckdb' AS local\")"
   ]
  },
  {
   "cell_type": "code",
   "execution_count": 5,
   "metadata": {},
   "outputs": [
    {
     "data": {
      "text/plain": [
       "['ak_leg',\n",
       " 'local',\n",
       " 'md_information_schema',\n",
       " 'sample_data',\n",
       " 'scg_db',\n",
       " 'system',\n",
       " 'temp']"
      ]
     },
     "execution_count": 5,
     "metadata": {},
     "output_type": "execute_result"
    }
   ],
   "source": [
    "i.list_catalogs()"
   ]
  },
  {
   "cell_type": "code",
   "execution_count": 10,
   "metadata": {},
   "outputs": [
    {
     "data": {
      "text/html": [
       "<pre style=\"white-space:pre;overflow-x:auto;line-height:normal;font-family:Menlo,'DejaVu Sans Mono',consolas,'Courier New',monospace\">┏━━━━━━━━━┳━━━━━━━━━━━━━━━━━━━┳━━━━━━━━━━━━┳━━━━━━━━━━┳━━━━━━━━━━━━━┳━━━━━━━━━━━━━┳━━━━━━━━━┳━━━━━━━━━━━━┳━━━━━━━━━━━━┳━━━━━━━━━━━━┳━━━━━━━━┳━━━━━━━┳━━━━━━━━━━━━┳━━━━━━━━━━━━━━━┳━━━━━━━━━━━━━━━━━━━┳━━━━━━━━━┳━━━━━━━━┳━━━━━━━━┳━━━━━━━━━━━━━┳━━━━━━━━━━━━━┳━━━━━━━━━━━━━━━┳━━━━━━━━━━━━━━━━┳━━━━━━━━━━━━━┳━━━━━━━━━━━━━━━━━━━━━━━━━━━━━━━━━━━━━━━━━━━━━━━━━━━━━━━━━━━━━━━━━━━━━━━━━━━━━━━━━━┓\n",
       "┃<span style=\"font-weight: bold\"> BillId  </span>┃<span style=\"font-weight: bold\"> LegislatureNumber </span>┃<span style=\"font-weight: bold\"> BillNumber </span>┃<span style=\"font-weight: bold\"> BillName </span>┃<span style=\"font-weight: bold\"> Documents   </span>┃<span style=\"font-weight: bold\"> PartialVeto </span>┃<span style=\"font-weight: bold\"> Vetoed  </span>┃<span style=\"font-weight: bold\"> ShortTitle </span>┃<span style=\"font-weight: bold\"> StatusCode </span>┃<span style=\"font-weight: bold\"> StatusText </span>┃<span style=\"font-weight: bold\"> Flag1  </span>┃<span style=\"font-weight: bold\"> Flag2 </span>┃<span style=\"font-weight: bold\"> StatusDate </span>┃<span style=\"font-weight: bold\"> StatusAndThen </span>┃<span style=\"font-weight: bold\"> StatusSummaryCode </span>┃<span style=\"font-weight: bold\"> OnFloor </span>┃<span style=\"font-weight: bold\"> Filler </span>┃<span style=\"font-weight: bold\"> Lock   </span>┃<span style=\"font-weight: bold\"> AllMeetings </span>┃<span style=\"font-weight: bold\"> Meetings    </span>┃<span style=\"font-weight: bold\"> Subjects      </span>┃<span style=\"font-weight: bold\"> ManifestErrors </span>┃<span style=\"font-weight: bold\"> Statutes    </span>┃<span style=\"font-weight: bold\"> CurrentCommittee                                                                 </span>┃\n",
       "┡━━━━━━━━━╇━━━━━━━━━━━━━━━━━━━╇━━━━━━━━━━━━╇━━━━━━━━━━╇━━━━━━━━━━━━━╇━━━━━━━━━━━━━╇━━━━━━━━━╇━━━━━━━━━━━━╇━━━━━━━━━━━━╇━━━━━━━━━━━━╇━━━━━━━━╇━━━━━━━╇━━━━━━━━━━━━╇━━━━━━━━━━━━━━━╇━━━━━━━━━━━━━━━━━━━╇━━━━━━━━━╇━━━━━━━━╇━━━━━━━━╇━━━━━━━━━━━━━╇━━━━━━━━━━━━━╇━━━━━━━━━━━━━━━╇━━━━━━━━━━━━━━━━╇━━━━━━━━━━━━━╇━━━━━━━━━━━━━━━━━━━━━━━━━━━━━━━━━━━━━━━━━━━━━━━━━━━━━━━━━━━━━━━━━━━━━━━━━━━━━━━━━━┩\n",
       "│ <span style=\"color: #7f7f7f; text-decoration-color: #7f7f7f\">!string</span> │ <span style=\"color: #7f7f7f; text-decoration-color: #7f7f7f\">!int16</span>            │ <span style=\"color: #7f7f7f; text-decoration-color: #7f7f7f\">!string</span>    │ <span style=\"color: #7f7f7f; text-decoration-color: #7f7f7f\">string</span>   │ <span style=\"color: #7f7f7f; text-decoration-color: #7f7f7f\">array&lt;json&gt;</span> │ <span style=\"color: #7f7f7f; text-decoration-color: #7f7f7f\">boolean</span>     │ <span style=\"color: #7f7f7f; text-decoration-color: #7f7f7f\">boolean</span> │ <span style=\"color: #7f7f7f; text-decoration-color: #7f7f7f\">string</span>     │ <span style=\"color: #7f7f7f; text-decoration-color: #7f7f7f\">string</span>     │ <span style=\"color: #7f7f7f; text-decoration-color: #7f7f7f\">string</span>     │ <span style=\"color: #7f7f7f; text-decoration-color: #7f7f7f\">string</span> │ <span style=\"color: #7f7f7f; text-decoration-color: #7f7f7f\">uint8</span> │ <span style=\"color: #7f7f7f; text-decoration-color: #7f7f7f\">date</span>       │ <span style=\"color: #7f7f7f; text-decoration-color: #7f7f7f\">array&lt;json&gt;</span>   │ <span style=\"color: #7f7f7f; text-decoration-color: #7f7f7f\">string</span>            │ <span style=\"color: #7f7f7f; text-decoration-color: #7f7f7f\">string</span>  │ <span style=\"color: #7f7f7f; text-decoration-color: #7f7f7f\">string</span> │ <span style=\"color: #7f7f7f; text-decoration-color: #7f7f7f\">string</span> │ <span style=\"color: #7f7f7f; text-decoration-color: #7f7f7f\">array&lt;json&gt;</span> │ <span style=\"color: #7f7f7f; text-decoration-color: #7f7f7f\">array&lt;json&gt;</span> │ <span style=\"color: #7f7f7f; text-decoration-color: #7f7f7f\">array&lt;string&gt;</span> │ <span style=\"color: #7f7f7f; text-decoration-color: #7f7f7f\">array&lt;json&gt;</span>    │ <span style=\"color: #7f7f7f; text-decoration-color: #7f7f7f\">array&lt;json&gt;</span> │ <span style=\"color: #7f7f7f; text-decoration-color: #7f7f7f\">struct&lt;Chamber: string, Code: string, Catagory: string, Name: string, MeetingDa…</span> │\n",
       "└─────────┴───────────────────┴────────────┴──────────┴─────────────┴─────────────┴─────────┴────────────┴────────────┴────────────┴────────┴───────┴────────────┴───────────────┴───────────────────┴─────────┴────────┴────────┴─────────────┴─────────────┴───────────────┴────────────────┴─────────────┴──────────────────────────────────────────────────────────────────────────────────┘\n",
       "</pre>\n"
      ],
      "text/plain": [
       "┏━━━━━━━━━┳━━━━━━━━━━━━━━━━━━━┳━━━━━━━━━━━━┳━━━━━━━━━━┳━━━━━━━━━━━━━┳━━━━━━━━━━━━━┳━━━━━━━━━┳━━━━━━━━━━━━┳━━━━━━━━━━━━┳━━━━━━━━━━━━┳━━━━━━━━┳━━━━━━━┳━━━━━━━━━━━━┳━━━━━━━━━━━━━━━┳━━━━━━━━━━━━━━━━━━━┳━━━━━━━━━┳━━━━━━━━┳━━━━━━━━┳━━━━━━━━━━━━━┳━━━━━━━━━━━━━┳━━━━━━━━━━━━━━━┳━━━━━━━━━━━━━━━━┳━━━━━━━━━━━━━┳━━━━━━━━━━━━━━━━━━━━━━━━━━━━━━━━━━━━━━━━━━━━━━━━━━━━━━━━━━━━━━━━━━━━━━━━━━━━━━━━━━┓\n",
       "┃\u001b[1m \u001b[0m\u001b[1mBillId\u001b[0m\u001b[1m \u001b[0m\u001b[1m \u001b[0m┃\u001b[1m \u001b[0m\u001b[1mLegislatureNumber\u001b[0m\u001b[1m \u001b[0m┃\u001b[1m \u001b[0m\u001b[1mBillNumber\u001b[0m\u001b[1m \u001b[0m┃\u001b[1m \u001b[0m\u001b[1mBillName\u001b[0m\u001b[1m \u001b[0m┃\u001b[1m \u001b[0m\u001b[1mDocuments\u001b[0m\u001b[1m  \u001b[0m\u001b[1m \u001b[0m┃\u001b[1m \u001b[0m\u001b[1mPartialVeto\u001b[0m\u001b[1m \u001b[0m┃\u001b[1m \u001b[0m\u001b[1mVetoed\u001b[0m\u001b[1m \u001b[0m\u001b[1m \u001b[0m┃\u001b[1m \u001b[0m\u001b[1mShortTitle\u001b[0m\u001b[1m \u001b[0m┃\u001b[1m \u001b[0m\u001b[1mStatusCode\u001b[0m\u001b[1m \u001b[0m┃\u001b[1m \u001b[0m\u001b[1mStatusText\u001b[0m\u001b[1m \u001b[0m┃\u001b[1m \u001b[0m\u001b[1mFlag1\u001b[0m\u001b[1m \u001b[0m\u001b[1m \u001b[0m┃\u001b[1m \u001b[0m\u001b[1mFlag2\u001b[0m\u001b[1m \u001b[0m┃\u001b[1m \u001b[0m\u001b[1mStatusDate\u001b[0m\u001b[1m \u001b[0m┃\u001b[1m \u001b[0m\u001b[1mStatusAndThen\u001b[0m\u001b[1m \u001b[0m┃\u001b[1m \u001b[0m\u001b[1mStatusSummaryCode\u001b[0m\u001b[1m \u001b[0m┃\u001b[1m \u001b[0m\u001b[1mOnFloor\u001b[0m\u001b[1m \u001b[0m┃\u001b[1m \u001b[0m\u001b[1mFiller\u001b[0m\u001b[1m \u001b[0m┃\u001b[1m \u001b[0m\u001b[1mLock\u001b[0m\u001b[1m  \u001b[0m\u001b[1m \u001b[0m┃\u001b[1m \u001b[0m\u001b[1mAllMeetings\u001b[0m\u001b[1m \u001b[0m┃\u001b[1m \u001b[0m\u001b[1mMeetings\u001b[0m\u001b[1m   \u001b[0m\u001b[1m \u001b[0m┃\u001b[1m \u001b[0m\u001b[1mSubjects\u001b[0m\u001b[1m     \u001b[0m\u001b[1m \u001b[0m┃\u001b[1m \u001b[0m\u001b[1mManifestErrors\u001b[0m\u001b[1m \u001b[0m┃\u001b[1m \u001b[0m\u001b[1mStatutes\u001b[0m\u001b[1m   \u001b[0m\u001b[1m \u001b[0m┃\u001b[1m \u001b[0m\u001b[1mCurrentCommittee\u001b[0m\u001b[1m                                                                \u001b[0m\u001b[1m \u001b[0m┃\n",
       "┡━━━━━━━━━╇━━━━━━━━━━━━━━━━━━━╇━━━━━━━━━━━━╇━━━━━━━━━━╇━━━━━━━━━━━━━╇━━━━━━━━━━━━━╇━━━━━━━━━╇━━━━━━━━━━━━╇━━━━━━━━━━━━╇━━━━━━━━━━━━╇━━━━━━━━╇━━━━━━━╇━━━━━━━━━━━━╇━━━━━━━━━━━━━━━╇━━━━━━━━━━━━━━━━━━━╇━━━━━━━━━╇━━━━━━━━╇━━━━━━━━╇━━━━━━━━━━━━━╇━━━━━━━━━━━━━╇━━━━━━━━━━━━━━━╇━━━━━━━━━━━━━━━━╇━━━━━━━━━━━━━╇━━━━━━━━━━━━━━━━━━━━━━━━━━━━━━━━━━━━━━━━━━━━━━━━━━━━━━━━━━━━━━━━━━━━━━━━━━━━━━━━━━┩\n",
       "│ \u001b[2m!string\u001b[0m │ \u001b[2m!int16\u001b[0m            │ \u001b[2m!string\u001b[0m    │ \u001b[2mstring\u001b[0m   │ \u001b[2marray<json>\u001b[0m │ \u001b[2mboolean\u001b[0m     │ \u001b[2mboolean\u001b[0m │ \u001b[2mstring\u001b[0m     │ \u001b[2mstring\u001b[0m     │ \u001b[2mstring\u001b[0m     │ \u001b[2mstring\u001b[0m │ \u001b[2muint8\u001b[0m │ \u001b[2mdate\u001b[0m       │ \u001b[2marray<json>\u001b[0m   │ \u001b[2mstring\u001b[0m            │ \u001b[2mstring\u001b[0m  │ \u001b[2mstring\u001b[0m │ \u001b[2mstring\u001b[0m │ \u001b[2marray<json>\u001b[0m │ \u001b[2marray<json>\u001b[0m │ \u001b[2marray<string>\u001b[0m │ \u001b[2marray<json>\u001b[0m    │ \u001b[2marray<json>\u001b[0m │ \u001b[2mstruct<Chamber: string, Code: string, Catagory: string, Name: string, MeetingDa…\u001b[0m │\n",
       "└─────────┴───────────────────┴────────────┴──────────┴─────────────┴─────────────┴─────────┴────────────┴────────────┴────────────┴────────┴───────┴────────────┴───────────────┴───────────────────┴─────────┴────────┴────────┴─────────────┴─────────────┴───────────────┴────────────────┴─────────────┴──────────────────────────────────────────────────────────────────────────────────┘"
      ]
     },
     "execution_count": 10,
     "metadata": {},
     "output_type": "execute_result"
    }
   ],
   "source": [
    "i.Bill"
   ]
  },
  {
   "cell_type": "code",
   "execution_count": 20,
   "metadata": {},
   "outputs": [
    {
     "data": {
      "text/plain": [
       "['ak_leg',\n",
       " 'local',\n",
       " 'md_information_schema',\n",
       " 'sample_data',\n",
       " 'scg_db',\n",
       " 'system',\n",
       " 'temp']"
      ]
     },
     "execution_count": 20,
     "metadata": {},
     "output_type": "execute_result"
    }
   ],
   "source": [
    "i.list_catalogs()"
   ]
  },
  {
   "cell_type": "code",
   "execution_count": 21,
   "metadata": {},
   "outputs": [
    {
     "data": {
      "text/plain": [
       "['main']"
      ]
     },
     "execution_count": 21,
     "metadata": {},
     "output_type": "execute_result"
    }
   ],
   "source": [
    "i.list_databases(catalog=\"local\")"
   ]
  },
  {
   "cell_type": "code",
   "execution_count": 8,
   "metadata": {},
   "outputs": [
    {
     "data": {
      "text/plain": [
       "['bills',\n",
       " 'choices',\n",
       " 'legislature_sessions',\n",
       " 'legislatures',\n",
       " 'members',\n",
       " 'people',\n",
       " 'votes']"
      ]
     },
     "execution_count": 8,
     "metadata": {},
     "output_type": "execute_result"
    }
   ],
   "source": [
    "i.list_tables(database=(\"local\", \"main\"))"
   ]
  },
  {
   "cell_type": "code",
   "execution_count": 9,
   "metadata": {},
   "outputs": [
    {
     "data": {
      "text/html": [
       "<pre style=\"white-space:pre;overflow-x:auto;line-height:normal;font-family:Menlo,'DejaVu Sans Mono',consolas,'Courier New',monospace\">┏━━━━━━━━━━━┳━━━━━━━━━━━━━━━━━━━┳━━━━━━━━━━━━┳━━━━━━━━━━┳━━━━━━━━━━━━━┳━━━━━━━━━━━━━┳━━━━━━━━━┳━━━━━━━━━━━━━━━━━━━━━━━━━━━━━━━━━━━━━━━━━━━━━━━━━━━━┳━━━━━━━━━━━━┳━━━━━━━━━━━━━━━━━━━━━━━━━━━━━━━━━━┳━━━━━━━━┳━━━━━━━┳━━━━━━━━━━━━┳━━━━━━━━━━━━━━━┳━━━━━━━━━━━━━━━━━━━┳━━━━━━━━━┳━━━━━━━━┳━━━━━━━━┳━━━━━━━━━━━━━┳━━━━━━━━━━━━━┳━━━━━━━━━━━━━━━┳━━━━━━━━━━━━━━━━┳━━━━━━━━━━━━━┳━━━━━━━━━━━━━━━━━━┓\n",
       "┃<span style=\"font-weight: bold\"> BillId    </span>┃<span style=\"font-weight: bold\"> LegislatureNumber </span>┃<span style=\"font-weight: bold\"> BillNumber </span>┃<span style=\"font-weight: bold\"> BillName </span>┃<span style=\"font-weight: bold\"> Documents   </span>┃<span style=\"font-weight: bold\"> PartialVeto </span>┃<span style=\"font-weight: bold\"> Vetoed  </span>┃<span style=\"font-weight: bold\"> ShortTitle                                         </span>┃<span style=\"font-weight: bold\"> StatusCode </span>┃<span style=\"font-weight: bold\"> StatusText                       </span>┃<span style=\"font-weight: bold\"> Flag1  </span>┃<span style=\"font-weight: bold\"> Flag2 </span>┃<span style=\"font-weight: bold\"> StatusDate </span>┃<span style=\"font-weight: bold\"> StatusAndThen </span>┃<span style=\"font-weight: bold\"> StatusSummaryCode </span>┃<span style=\"font-weight: bold\"> OnFloor </span>┃<span style=\"font-weight: bold\"> Filler </span>┃<span style=\"font-weight: bold\"> Lock   </span>┃<span style=\"font-weight: bold\"> AllMeetings </span>┃<span style=\"font-weight: bold\"> Meetings    </span>┃<span style=\"font-weight: bold\"> Subjects      </span>┃<span style=\"font-weight: bold\"> ManifestErrors </span>┃<span style=\"font-weight: bold\"> Statutes    </span>┃<span style=\"font-weight: bold\"> CurrentCommittee </span>┃\n",
       "┡━━━━━━━━━━━╇━━━━━━━━━━━━━━━━━━━╇━━━━━━━━━━━━╇━━━━━━━━━━╇━━━━━━━━━━━━━╇━━━━━━━━━━━━━╇━━━━━━━━━╇━━━━━━━━━━━━━━━━━━━━━━━━━━━━━━━━━━━━━━━━━━━━━━━━━━━━╇━━━━━━━━━━━━╇━━━━━━━━━━━━━━━━━━━━━━━━━━━━━━━━━━╇━━━━━━━━╇━━━━━━━╇━━━━━━━━━━━━╇━━━━━━━━━━━━━━━╇━━━━━━━━━━━━━━━━━━━╇━━━━━━━━━╇━━━━━━━━╇━━━━━━━━╇━━━━━━━━━━━━━╇━━━━━━━━━━━━━╇━━━━━━━━━━━━━━━╇━━━━━━━━━━━━━━━━╇━━━━━━━━━━━━━╇━━━━━━━━━━━━━━━━━━┩\n",
       "│ <span style=\"color: #7f7f7f; text-decoration-color: #7f7f7f\">!string</span>   │ <span style=\"color: #7f7f7f; text-decoration-color: #7f7f7f\">!int16</span>            │ <span style=\"color: #7f7f7f; text-decoration-color: #7f7f7f\">!string</span>    │ <span style=\"color: #7f7f7f; text-decoration-color: #7f7f7f\">string</span>   │ <span style=\"color: #7f7f7f; text-decoration-color: #7f7f7f\">array&lt;json&gt;</span> │ <span style=\"color: #7f7f7f; text-decoration-color: #7f7f7f\">boolean</span>     │ <span style=\"color: #7f7f7f; text-decoration-color: #7f7f7f\">boolean</span> │ <span style=\"color: #7f7f7f; text-decoration-color: #7f7f7f\">string</span>                                             │ <span style=\"color: #7f7f7f; text-decoration-color: #7f7f7f\">string</span>     │ <span style=\"color: #7f7f7f; text-decoration-color: #7f7f7f\">string</span>                           │ <span style=\"color: #7f7f7f; text-decoration-color: #7f7f7f\">string</span> │ <span style=\"color: #7f7f7f; text-decoration-color: #7f7f7f\">uint8</span> │ <span style=\"color: #7f7f7f; text-decoration-color: #7f7f7f\">date</span>       │ <span style=\"color: #7f7f7f; text-decoration-color: #7f7f7f\">array&lt;json&gt;</span>   │ <span style=\"color: #7f7f7f; text-decoration-color: #7f7f7f\">string</span>            │ <span style=\"color: #7f7f7f; text-decoration-color: #7f7f7f\">string</span>  │ <span style=\"color: #7f7f7f; text-decoration-color: #7f7f7f\">string</span> │ <span style=\"color: #7f7f7f; text-decoration-color: #7f7f7f\">string</span> │ <span style=\"color: #7f7f7f; text-decoration-color: #7f7f7f\">array&lt;json&gt;</span> │ <span style=\"color: #7f7f7f; text-decoration-color: #7f7f7f\">array&lt;json&gt;</span> │ <span style=\"color: #7f7f7f; text-decoration-color: #7f7f7f\">array&lt;string&gt;</span> │ <span style=\"color: #7f7f7f; text-decoration-color: #7f7f7f\">array&lt;json&gt;</span>    │ <span style=\"color: #7f7f7f; text-decoration-color: #7f7f7f\">array&lt;json&gt;</span> │ <span style=\"color: #7f7f7f; text-decoration-color: #7f7f7f\">struct&lt;Chamber:…</span> │\n",
       "├───────────┼───────────────────┼────────────┼──────────┼─────────────┼─────────────┼─────────┼────────────────────────────────────────────────────┼────────────┼──────────────────────────────────┼────────┼───────┼────────────┼───────────────┼───────────────────┼─────────┼────────┼────────┼─────────────┼─────────────┼───────────────┼────────────────┼─────────────┼──────────────────┤\n",
       "│ <span style=\"color: #008000; text-decoration-color: #008000\">12:HB 1  </span> │                <span style=\"color: #008080; text-decoration-color: #008080; font-weight: bold\">12</span> │ <span style=\"color: #008000; text-decoration-color: #008000\">HB 1      </span> │ <span style=\"color: #008000; text-decoration-color: #008000\">FCCS*   </span> │ <span style=\"font-weight: bold\">[]</span>          │ False       │ False   │ <span style=\"color: #008000; text-decoration-color: #008000\">SPEC APPROP/AK PERM FUND/APPROP/AID TO MUNIS; ED  </span> │ <span style=\"color: #008000; text-decoration-color: #008000\">0         </span> │ <span style=\"color: #008000; text-decoration-color: #008000\">CHAPTER 0061 SLA 81             </span> │ <span style=\"color: #7f7f7f; text-decoration-color: #7f7f7f\">NULL</span>   │  <span style=\"color: #7f7f7f; text-decoration-color: #7f7f7f\">NULL</span> │ <span style=\"color: #7f7f7f; text-decoration-color: #7f7f7f\">NULL</span>       │ <span style=\"font-weight: bold\">[]</span>            │ <span style=\"color: #7f7f7f; text-decoration-color: #7f7f7f\">NULL</span>              │ <span style=\"color: #7f7f7f; text-decoration-color: #7f7f7f\">NULL</span>    │ <span style=\"color: #7f7f7f; text-decoration-color: #7f7f7f\">NULL</span>   │ <span style=\"color: #7f7f7f; text-decoration-color: #7f7f7f\">NULL</span>   │ <span style=\"font-weight: bold\">[]</span>          │ <span style=\"font-weight: bold\">[]</span>          │ <span style=\"font-weight: bold\">[]</span>            │ <span style=\"font-weight: bold\">[]</span>             │ <span style=\"font-weight: bold\">[]</span>          │ <span style=\"color: #7f7f7f; text-decoration-color: #7f7f7f\">NULL</span>             │\n",
       "│ <span style=\"color: #008000; text-decoration-color: #008000\">12:HB 10 </span> │                <span style=\"color: #008080; text-decoration-color: #008080; font-weight: bold\">12</span> │ <span style=\"color: #008000; text-decoration-color: #008000\">HB 10     </span> │ <span style=\"color: #7f7f7f; text-decoration-color: #7f7f7f\">NULL</span>     │ <span style=\"font-weight: bold\">[]</span>          │ False       │ False   │ <span style=\"color: #008000; text-decoration-color: #008000\">PROHIBITING SMOKING WHERE FOOD IS SOLD            </span> │ <span style=\"color: #008000; text-decoration-color: #008000\">0         </span> │ <span style=\"color: #008000; text-decoration-color: #008000\">IN (H) RULES                    </span> │ <span style=\"color: #7f7f7f; text-decoration-color: #7f7f7f\">NULL</span>   │  <span style=\"color: #7f7f7f; text-decoration-color: #7f7f7f\">NULL</span> │ <span style=\"color: #7f7f7f; text-decoration-color: #7f7f7f\">NULL</span>       │ <span style=\"font-weight: bold\">[]</span>            │ <span style=\"color: #7f7f7f; text-decoration-color: #7f7f7f\">NULL</span>              │ <span style=\"color: #7f7f7f; text-decoration-color: #7f7f7f\">NULL</span>    │ <span style=\"color: #7f7f7f; text-decoration-color: #7f7f7f\">NULL</span>   │ <span style=\"color: #7f7f7f; text-decoration-color: #7f7f7f\">NULL</span>   │ <span style=\"font-weight: bold\">[]</span>          │ <span style=\"font-weight: bold\">[]</span>          │ <span style=\"font-weight: bold\">[]</span>            │ <span style=\"font-weight: bold\">[]</span>             │ <span style=\"font-weight: bold\">[]</span>          │ <span style=\"color: #7f7f7f; text-decoration-color: #7f7f7f\">NULL</span>             │\n",
       "│ <span style=\"color: #008000; text-decoration-color: #008000\">12:HB 100</span> │                <span style=\"color: #008080; text-decoration-color: #008080; font-weight: bold\">12</span> │ <span style=\"color: #008000; text-decoration-color: #008000\">HB 100    </span> │ <span style=\"color: #008000; text-decoration-color: #008000\">SS*     </span> │ <span style=\"font-weight: bold\">[]</span>          │ False       │ False   │ <span style=\"color: #008000; text-decoration-color: #008000\">PROVIDE G.O. BONDS/ENERGY RELATED PROJECTS; ED    </span> │ <span style=\"color: #008000; text-decoration-color: #008000\">0         </span> │ <span style=\"color: #008000; text-decoration-color: #008000\">IN (H) RESOURCES THEN FINANCE   </span> │ <span style=\"color: #7f7f7f; text-decoration-color: #7f7f7f\">NULL</span>   │  <span style=\"color: #7f7f7f; text-decoration-color: #7f7f7f\">NULL</span> │ <span style=\"color: #7f7f7f; text-decoration-color: #7f7f7f\">NULL</span>       │ <span style=\"font-weight: bold\">[]</span>            │ <span style=\"color: #7f7f7f; text-decoration-color: #7f7f7f\">NULL</span>              │ <span style=\"color: #7f7f7f; text-decoration-color: #7f7f7f\">NULL</span>    │ <span style=\"color: #7f7f7f; text-decoration-color: #7f7f7f\">NULL</span>   │ <span style=\"color: #7f7f7f; text-decoration-color: #7f7f7f\">NULL</span>   │ <span style=\"font-weight: bold\">[]</span>          │ <span style=\"font-weight: bold\">[]</span>          │ <span style=\"font-weight: bold\">[]</span>            │ <span style=\"font-weight: bold\">[]</span>             │ <span style=\"font-weight: bold\">[]</span>          │ <span style=\"color: #7f7f7f; text-decoration-color: #7f7f7f\">NULL</span>             │\n",
       "│ <span style=\"color: #008000; text-decoration-color: #008000\">12:HB 101</span> │                <span style=\"color: #008080; text-decoration-color: #008080; font-weight: bold\">12</span> │ <span style=\"color: #008000; text-decoration-color: #008000\">HB 101    </span> │ <span style=\"color: #008000; text-decoration-color: #008000\">CCS*    </span> │ <span style=\"font-weight: bold\">[]</span>          │ False       │ False   │ <span style=\"color: #008000; text-decoration-color: #008000\">RE/STATE TAXATION; ED                             </span> │ <span style=\"color: #008000; text-decoration-color: #008000\">0         </span> │ <span style=\"color: #008000; text-decoration-color: #008000\">CHAPTER 0082 SLA 82             </span> │ <span style=\"color: #7f7f7f; text-decoration-color: #7f7f7f\">NULL</span>   │  <span style=\"color: #7f7f7f; text-decoration-color: #7f7f7f\">NULL</span> │ <span style=\"color: #7f7f7f; text-decoration-color: #7f7f7f\">NULL</span>       │ <span style=\"font-weight: bold\">[]</span>            │ <span style=\"color: #7f7f7f; text-decoration-color: #7f7f7f\">NULL</span>              │ <span style=\"color: #7f7f7f; text-decoration-color: #7f7f7f\">NULL</span>    │ <span style=\"color: #7f7f7f; text-decoration-color: #7f7f7f\">NULL</span>   │ <span style=\"color: #7f7f7f; text-decoration-color: #7f7f7f\">NULL</span>   │ <span style=\"font-weight: bold\">[]</span>          │ <span style=\"font-weight: bold\">[]</span>          │ <span style=\"font-weight: bold\">[]</span>            │ <span style=\"font-weight: bold\">[]</span>             │ <span style=\"font-weight: bold\">[]</span>          │ <span style=\"color: #7f7f7f; text-decoration-color: #7f7f7f\">NULL</span>             │\n",
       "│ <span style=\"color: #008000; text-decoration-color: #008000\">12:HB 102</span> │                <span style=\"color: #008080; text-decoration-color: #008080; font-weight: bold\">12</span> │ <span style=\"color: #008000; text-decoration-color: #008000\">HB 102    </span> │ <span style=\"color: #7f7f7f; text-decoration-color: #7f7f7f\">NULL</span>     │ <span style=\"font-weight: bold\">[]</span>          │ False       │ False   │ <span style=\"color: #008000; text-decoration-color: #008000\">EXTEND CERTAIN BENEFITS/PERM &amp; TOTALLY DISABLED   </span> │ <span style=\"color: #008000; text-decoration-color: #008000\">0         </span> │ <span style=\"color: #008000; text-decoration-color: #008000\">IN (H) HESS THEN FINANCE        </span> │ <span style=\"color: #7f7f7f; text-decoration-color: #7f7f7f\">NULL</span>   │  <span style=\"color: #7f7f7f; text-decoration-color: #7f7f7f\">NULL</span> │ <span style=\"color: #7f7f7f; text-decoration-color: #7f7f7f\">NULL</span>       │ <span style=\"font-weight: bold\">[]</span>            │ <span style=\"color: #7f7f7f; text-decoration-color: #7f7f7f\">NULL</span>              │ <span style=\"color: #7f7f7f; text-decoration-color: #7f7f7f\">NULL</span>    │ <span style=\"color: #7f7f7f; text-decoration-color: #7f7f7f\">NULL</span>   │ <span style=\"color: #7f7f7f; text-decoration-color: #7f7f7f\">NULL</span>   │ <span style=\"font-weight: bold\">[]</span>          │ <span style=\"font-weight: bold\">[]</span>          │ <span style=\"font-weight: bold\">[]</span>            │ <span style=\"font-weight: bold\">[]</span>             │ <span style=\"font-weight: bold\">[]</span>          │ <span style=\"color: #7f7f7f; text-decoration-color: #7f7f7f\">NULL</span>             │\n",
       "│ <span style=\"color: #008000; text-decoration-color: #008000\">12:HB 103</span> │                <span style=\"color: #008080; text-decoration-color: #008080; font-weight: bold\">12</span> │ <span style=\"color: #008000; text-decoration-color: #008000\">HB 103    </span> │ <span style=\"color: #7f7f7f; text-decoration-color: #7f7f7f\">NULL</span>     │ <span style=\"font-weight: bold\">[]</span>          │ False       │ False   │ <span style=\"color: #008000; text-decoration-color: #008000\">REPEAL FISHERY BU~INESS TAX/RELATED AMENDS; ED    </span> │ <span style=\"color: #008000; text-decoration-color: #008000\">0         </span> │ <span style=\"color: #008000; text-decoration-color: #008000\">IN (H) RESOURCES THEN FINANCE   </span> │ <span style=\"color: #7f7f7f; text-decoration-color: #7f7f7f\">NULL</span>   │  <span style=\"color: #7f7f7f; text-decoration-color: #7f7f7f\">NULL</span> │ <span style=\"color: #7f7f7f; text-decoration-color: #7f7f7f\">NULL</span>       │ <span style=\"font-weight: bold\">[]</span>            │ <span style=\"color: #7f7f7f; text-decoration-color: #7f7f7f\">NULL</span>              │ <span style=\"color: #7f7f7f; text-decoration-color: #7f7f7f\">NULL</span>    │ <span style=\"color: #7f7f7f; text-decoration-color: #7f7f7f\">NULL</span>   │ <span style=\"color: #7f7f7f; text-decoration-color: #7f7f7f\">NULL</span>   │ <span style=\"font-weight: bold\">[]</span>          │ <span style=\"font-weight: bold\">[]</span>          │ <span style=\"font-weight: bold\">[]</span>            │ <span style=\"font-weight: bold\">[]</span>             │ <span style=\"font-weight: bold\">[]</span>          │ <span style=\"color: #7f7f7f; text-decoration-color: #7f7f7f\">NULL</span>             │\n",
       "│ <span style=\"color: #008000; text-decoration-color: #008000\">12:HB 104</span> │                <span style=\"color: #008080; text-decoration-color: #008080; font-weight: bold\">12</span> │ <span style=\"color: #008000; text-decoration-color: #008000\">HB 104    </span> │ <span style=\"color: #7f7f7f; text-decoration-color: #7f7f7f\">NULL</span>     │ <span style=\"font-weight: bold\">[]</span>          │ False       │ False   │ <span style=\"color: #008000; text-decoration-color: #008000\">SPEC APPROP/CONST SCHOOL/CHINIAK; ED              </span> │ <span style=\"color: #008000; text-decoration-color: #008000\">0         </span> │ <span style=\"color: #008000; text-decoration-color: #008000\">IN (H) HESS THEN FINANCE        </span> │ <span style=\"color: #7f7f7f; text-decoration-color: #7f7f7f\">NULL</span>   │  <span style=\"color: #7f7f7f; text-decoration-color: #7f7f7f\">NULL</span> │ <span style=\"color: #7f7f7f; text-decoration-color: #7f7f7f\">NULL</span>       │ <span style=\"font-weight: bold\">[]</span>            │ <span style=\"color: #7f7f7f; text-decoration-color: #7f7f7f\">NULL</span>              │ <span style=\"color: #7f7f7f; text-decoration-color: #7f7f7f\">NULL</span>    │ <span style=\"color: #7f7f7f; text-decoration-color: #7f7f7f\">NULL</span>   │ <span style=\"color: #7f7f7f; text-decoration-color: #7f7f7f\">NULL</span>   │ <span style=\"font-weight: bold\">[]</span>          │ <span style=\"font-weight: bold\">[]</span>          │ <span style=\"font-weight: bold\">[]</span>            │ <span style=\"font-weight: bold\">[]</span>             │ <span style=\"font-weight: bold\">[]</span>          │ <span style=\"color: #7f7f7f; text-decoration-color: #7f7f7f\">NULL</span>             │\n",
       "│ <span style=\"color: #008000; text-decoration-color: #008000\">12:HB 105</span> │                <span style=\"color: #008080; text-decoration-color: #008080; font-weight: bold\">12</span> │ <span style=\"color: #008000; text-decoration-color: #008000\">HB 105    </span> │ <span style=\"color: #7f7f7f; text-decoration-color: #7f7f7f\">NULL</span>     │ <span style=\"font-weight: bold\">[]</span>          │ False       │ False   │ <span style=\"color: #008000; text-decoration-color: #008000\">RE/CITIZEN PARTICIPATE/STATE GOV'T                </span> │ <span style=\"color: #008000; text-decoration-color: #008000\">0         </span> │ <span style=\"color: #008000; text-decoration-color: #008000\">IN (H) STATE AFFA THEN FINANCE  </span> │ <span style=\"color: #7f7f7f; text-decoration-color: #7f7f7f\">NULL</span>   │  <span style=\"color: #7f7f7f; text-decoration-color: #7f7f7f\">NULL</span> │ <span style=\"color: #7f7f7f; text-decoration-color: #7f7f7f\">NULL</span>       │ <span style=\"font-weight: bold\">[]</span>            │ <span style=\"color: #7f7f7f; text-decoration-color: #7f7f7f\">NULL</span>              │ <span style=\"color: #7f7f7f; text-decoration-color: #7f7f7f\">NULL</span>    │ <span style=\"color: #7f7f7f; text-decoration-color: #7f7f7f\">NULL</span>   │ <span style=\"color: #7f7f7f; text-decoration-color: #7f7f7f\">NULL</span>   │ <span style=\"font-weight: bold\">[]</span>          │ <span style=\"font-weight: bold\">[]</span>          │ <span style=\"font-weight: bold\">[]</span>            │ <span style=\"font-weight: bold\">[]</span>             │ <span style=\"font-weight: bold\">[]</span>          │ <span style=\"color: #7f7f7f; text-decoration-color: #7f7f7f\">NULL</span>             │\n",
       "│ <span style=\"color: #008000; text-decoration-color: #008000\">12:HB 106</span> │                <span style=\"color: #008080; text-decoration-color: #008080; font-weight: bold\">12</span> │ <span style=\"color: #008000; text-decoration-color: #008000\">HB 106    </span> │ <span style=\"color: #008000; text-decoration-color: #008000\">SS *    </span> │ <span style=\"font-weight: bold\">[]</span>          │ False       │ False   │ <span style=\"color: #008000; text-decoration-color: #008000\">PROV/LICENSE/ATHLETIC THERAPISTS                  </span> │ <span style=\"color: #008000; text-decoration-color: #008000\">0         </span> │ <span style=\"color: #008000; text-decoration-color: #008000\">IN (H) HESS THEN FINANCE        </span> │ <span style=\"color: #7f7f7f; text-decoration-color: #7f7f7f\">NULL</span>   │  <span style=\"color: #7f7f7f; text-decoration-color: #7f7f7f\">NULL</span> │ <span style=\"color: #7f7f7f; text-decoration-color: #7f7f7f\">NULL</span>       │ <span style=\"font-weight: bold\">[]</span>            │ <span style=\"color: #7f7f7f; text-decoration-color: #7f7f7f\">NULL</span>              │ <span style=\"color: #7f7f7f; text-decoration-color: #7f7f7f\">NULL</span>    │ <span style=\"color: #7f7f7f; text-decoration-color: #7f7f7f\">NULL</span>   │ <span style=\"color: #7f7f7f; text-decoration-color: #7f7f7f\">NULL</span>   │ <span style=\"font-weight: bold\">[]</span>          │ <span style=\"font-weight: bold\">[]</span>          │ <span style=\"font-weight: bold\">[]</span>            │ <span style=\"font-weight: bold\">[]</span>             │ <span style=\"font-weight: bold\">[]</span>          │ <span style=\"color: #7f7f7f; text-decoration-color: #7f7f7f\">NULL</span>             │\n",
       "│ <span style=\"color: #008000; text-decoration-color: #008000\">12:HB 107</span> │                <span style=\"color: #008080; text-decoration-color: #008080; font-weight: bold\">12</span> │ <span style=\"color: #008000; text-decoration-color: #008000\">HB 107    </span> │ <span style=\"color: #7f7f7f; text-decoration-color: #7f7f7f\">NULL</span>     │ <span style=\"font-weight: bold\">[]</span>          │ False       │ False   │ <span style=\"color: #008000; text-decoration-color: #008000\">REQ PUB OFFICERS/LOBBYING/COMPLY WITH AS 24.45; ED</span> │ <span style=\"color: #008000; text-decoration-color: #008000\">0         </span> │ <span style=\"color: #008000; text-decoration-color: #008000\">IN (H) STATE AFFA THEN JUDICIARY</span> │ <span style=\"color: #7f7f7f; text-decoration-color: #7f7f7f\">NULL</span>   │  <span style=\"color: #7f7f7f; text-decoration-color: #7f7f7f\">NULL</span> │ <span style=\"color: #7f7f7f; text-decoration-color: #7f7f7f\">NULL</span>       │ <span style=\"font-weight: bold\">[]</span>            │ <span style=\"color: #7f7f7f; text-decoration-color: #7f7f7f\">NULL</span>              │ <span style=\"color: #7f7f7f; text-decoration-color: #7f7f7f\">NULL</span>    │ <span style=\"color: #7f7f7f; text-decoration-color: #7f7f7f\">NULL</span>   │ <span style=\"color: #7f7f7f; text-decoration-color: #7f7f7f\">NULL</span>   │ <span style=\"font-weight: bold\">[]</span>          │ <span style=\"font-weight: bold\">[]</span>          │ <span style=\"font-weight: bold\">[]</span>            │ <span style=\"font-weight: bold\">[]</span>             │ <span style=\"font-weight: bold\">[]</span>          │ <span style=\"color: #7f7f7f; text-decoration-color: #7f7f7f\">NULL</span>             │\n",
       "│ <span style=\"color: #7f7f7f; text-decoration-color: #7f7f7f\">…</span>         │                 <span style=\"color: #7f7f7f; text-decoration-color: #7f7f7f\">…</span> │ <span style=\"color: #7f7f7f; text-decoration-color: #7f7f7f\">…</span>          │ <span style=\"color: #7f7f7f; text-decoration-color: #7f7f7f\">…</span>        │ <span style=\"color: #7f7f7f; text-decoration-color: #7f7f7f\">…</span>           │ <span style=\"color: #7f7f7f; text-decoration-color: #7f7f7f\">…</span>           │ <span style=\"color: #7f7f7f; text-decoration-color: #7f7f7f\">…</span>       │ <span style=\"color: #7f7f7f; text-decoration-color: #7f7f7f\">…</span>                                                  │ <span style=\"color: #7f7f7f; text-decoration-color: #7f7f7f\">…</span>          │ <span style=\"color: #7f7f7f; text-decoration-color: #7f7f7f\">…</span>                                │ <span style=\"color: #7f7f7f; text-decoration-color: #7f7f7f\">…</span>      │     <span style=\"color: #7f7f7f; text-decoration-color: #7f7f7f\">…</span> │ <span style=\"color: #7f7f7f; text-decoration-color: #7f7f7f\">…</span>          │ <span style=\"color: #7f7f7f; text-decoration-color: #7f7f7f\">…</span>             │ <span style=\"color: #7f7f7f; text-decoration-color: #7f7f7f\">…</span>                 │ <span style=\"color: #7f7f7f; text-decoration-color: #7f7f7f\">…</span>       │ <span style=\"color: #7f7f7f; text-decoration-color: #7f7f7f\">…</span>      │ <span style=\"color: #7f7f7f; text-decoration-color: #7f7f7f\">…</span>      │ <span style=\"color: #7f7f7f; text-decoration-color: #7f7f7f\">…</span>           │ <span style=\"color: #7f7f7f; text-decoration-color: #7f7f7f\">…</span>           │ <span style=\"color: #7f7f7f; text-decoration-color: #7f7f7f\">…</span>             │ <span style=\"color: #7f7f7f; text-decoration-color: #7f7f7f\">…</span>              │ <span style=\"color: #7f7f7f; text-decoration-color: #7f7f7f\">…</span>           │ <span style=\"color: #7f7f7f; text-decoration-color: #7f7f7f\">…</span>                │\n",
       "└───────────┴───────────────────┴────────────┴──────────┴─────────────┴─────────────┴─────────┴────────────────────────────────────────────────────┴────────────┴──────────────────────────────────┴────────┴───────┴────────────┴───────────────┴───────────────────┴─────────┴────────┴────────┴─────────────┴─────────────┴───────────────┴────────────────┴─────────────┴──────────────────┘\n",
       "</pre>\n"
      ],
      "text/plain": [
       "┏━━━━━━━━━━━┳━━━━━━━━━━━━━━━━━━━┳━━━━━━━━━━━━┳━━━━━━━━━━┳━━━━━━━━━━━━━┳━━━━━━━━━━━━━┳━━━━━━━━━┳━━━━━━━━━━━━━━━━━━━━━━━━━━━━━━━━━━━━━━━━━━━━━━━━━━━━┳━━━━━━━━━━━━┳━━━━━━━━━━━━━━━━━━━━━━━━━━━━━━━━━━┳━━━━━━━━┳━━━━━━━┳━━━━━━━━━━━━┳━━━━━━━━━━━━━━━┳━━━━━━━━━━━━━━━━━━━┳━━━━━━━━━┳━━━━━━━━┳━━━━━━━━┳━━━━━━━━━━━━━┳━━━━━━━━━━━━━┳━━━━━━━━━━━━━━━┳━━━━━━━━━━━━━━━━┳━━━━━━━━━━━━━┳━━━━━━━━━━━━━━━━━━┓\n",
       "┃\u001b[1m \u001b[0m\u001b[1mBillId\u001b[0m\u001b[1m   \u001b[0m\u001b[1m \u001b[0m┃\u001b[1m \u001b[0m\u001b[1mLegislatureNumber\u001b[0m\u001b[1m \u001b[0m┃\u001b[1m \u001b[0m\u001b[1mBillNumber\u001b[0m\u001b[1m \u001b[0m┃\u001b[1m \u001b[0m\u001b[1mBillName\u001b[0m\u001b[1m \u001b[0m┃\u001b[1m \u001b[0m\u001b[1mDocuments\u001b[0m\u001b[1m  \u001b[0m\u001b[1m \u001b[0m┃\u001b[1m \u001b[0m\u001b[1mPartialVeto\u001b[0m\u001b[1m \u001b[0m┃\u001b[1m \u001b[0m\u001b[1mVetoed\u001b[0m\u001b[1m \u001b[0m\u001b[1m \u001b[0m┃\u001b[1m \u001b[0m\u001b[1mShortTitle\u001b[0m\u001b[1m                                        \u001b[0m\u001b[1m \u001b[0m┃\u001b[1m \u001b[0m\u001b[1mStatusCode\u001b[0m\u001b[1m \u001b[0m┃\u001b[1m \u001b[0m\u001b[1mStatusText\u001b[0m\u001b[1m                      \u001b[0m\u001b[1m \u001b[0m┃\u001b[1m \u001b[0m\u001b[1mFlag1\u001b[0m\u001b[1m \u001b[0m\u001b[1m \u001b[0m┃\u001b[1m \u001b[0m\u001b[1mFlag2\u001b[0m\u001b[1m \u001b[0m┃\u001b[1m \u001b[0m\u001b[1mStatusDate\u001b[0m\u001b[1m \u001b[0m┃\u001b[1m \u001b[0m\u001b[1mStatusAndThen\u001b[0m\u001b[1m \u001b[0m┃\u001b[1m \u001b[0m\u001b[1mStatusSummaryCode\u001b[0m\u001b[1m \u001b[0m┃\u001b[1m \u001b[0m\u001b[1mOnFloor\u001b[0m\u001b[1m \u001b[0m┃\u001b[1m \u001b[0m\u001b[1mFiller\u001b[0m\u001b[1m \u001b[0m┃\u001b[1m \u001b[0m\u001b[1mLock\u001b[0m\u001b[1m  \u001b[0m\u001b[1m \u001b[0m┃\u001b[1m \u001b[0m\u001b[1mAllMeetings\u001b[0m\u001b[1m \u001b[0m┃\u001b[1m \u001b[0m\u001b[1mMeetings\u001b[0m\u001b[1m   \u001b[0m\u001b[1m \u001b[0m┃\u001b[1m \u001b[0m\u001b[1mSubjects\u001b[0m\u001b[1m     \u001b[0m\u001b[1m \u001b[0m┃\u001b[1m \u001b[0m\u001b[1mManifestErrors\u001b[0m\u001b[1m \u001b[0m┃\u001b[1m \u001b[0m\u001b[1mStatutes\u001b[0m\u001b[1m   \u001b[0m\u001b[1m \u001b[0m┃\u001b[1m \u001b[0m\u001b[1mCurrentCommittee\u001b[0m\u001b[1m \u001b[0m┃\n",
       "┡━━━━━━━━━━━╇━━━━━━━━━━━━━━━━━━━╇━━━━━━━━━━━━╇━━━━━━━━━━╇━━━━━━━━━━━━━╇━━━━━━━━━━━━━╇━━━━━━━━━╇━━━━━━━━━━━━━━━━━━━━━━━━━━━━━━━━━━━━━━━━━━━━━━━━━━━━╇━━━━━━━━━━━━╇━━━━━━━━━━━━━━━━━━━━━━━━━━━━━━━━━━╇━━━━━━━━╇━━━━━━━╇━━━━━━━━━━━━╇━━━━━━━━━━━━━━━╇━━━━━━━━━━━━━━━━━━━╇━━━━━━━━━╇━━━━━━━━╇━━━━━━━━╇━━━━━━━━━━━━━╇━━━━━━━━━━━━━╇━━━━━━━━━━━━━━━╇━━━━━━━━━━━━━━━━╇━━━━━━━━━━━━━╇━━━━━━━━━━━━━━━━━━┩\n",
       "│ \u001b[2m!string\u001b[0m   │ \u001b[2m!int16\u001b[0m            │ \u001b[2m!string\u001b[0m    │ \u001b[2mstring\u001b[0m   │ \u001b[2marray<json>\u001b[0m │ \u001b[2mboolean\u001b[0m     │ \u001b[2mboolean\u001b[0m │ \u001b[2mstring\u001b[0m                                             │ \u001b[2mstring\u001b[0m     │ \u001b[2mstring\u001b[0m                           │ \u001b[2mstring\u001b[0m │ \u001b[2muint8\u001b[0m │ \u001b[2mdate\u001b[0m       │ \u001b[2marray<json>\u001b[0m   │ \u001b[2mstring\u001b[0m            │ \u001b[2mstring\u001b[0m  │ \u001b[2mstring\u001b[0m │ \u001b[2mstring\u001b[0m │ \u001b[2marray<json>\u001b[0m │ \u001b[2marray<json>\u001b[0m │ \u001b[2marray<string>\u001b[0m │ \u001b[2marray<json>\u001b[0m    │ \u001b[2marray<json>\u001b[0m │ \u001b[2mstruct<Chamber:…\u001b[0m │\n",
       "├───────────┼───────────────────┼────────────┼──────────┼─────────────┼─────────────┼─────────┼────────────────────────────────────────────────────┼────────────┼──────────────────────────────────┼────────┼───────┼────────────┼───────────────┼───────────────────┼─────────┼────────┼────────┼─────────────┼─────────────┼───────────────┼────────────────┼─────────────┼──────────────────┤\n",
       "│ \u001b[32m12:HB 1  \u001b[0m │                \u001b[1;36m12\u001b[0m │ \u001b[32mHB 1      \u001b[0m │ \u001b[32mFCCS*   \u001b[0m │ \u001b[1m[\u001b[0m\u001b[1m]\u001b[0m          │ False       │ False   │ \u001b[32mSPEC APPROP/AK PERM FUND/APPROP/AID TO MUNIS; ED  \u001b[0m │ \u001b[32m0         \u001b[0m │ \u001b[32mCHAPTER 0061 SLA 81             \u001b[0m │ \u001b[2mNULL\u001b[0m   │  \u001b[2mNULL\u001b[0m │ \u001b[2mNULL\u001b[0m       │ \u001b[1m[\u001b[0m\u001b[1m]\u001b[0m            │ \u001b[2mNULL\u001b[0m              │ \u001b[2mNULL\u001b[0m    │ \u001b[2mNULL\u001b[0m   │ \u001b[2mNULL\u001b[0m   │ \u001b[1m[\u001b[0m\u001b[1m]\u001b[0m          │ \u001b[1m[\u001b[0m\u001b[1m]\u001b[0m          │ \u001b[1m[\u001b[0m\u001b[1m]\u001b[0m            │ \u001b[1m[\u001b[0m\u001b[1m]\u001b[0m             │ \u001b[1m[\u001b[0m\u001b[1m]\u001b[0m          │ \u001b[2mNULL\u001b[0m             │\n",
       "│ \u001b[32m12:HB 10 \u001b[0m │                \u001b[1;36m12\u001b[0m │ \u001b[32mHB 10     \u001b[0m │ \u001b[2mNULL\u001b[0m     │ \u001b[1m[\u001b[0m\u001b[1m]\u001b[0m          │ False       │ False   │ \u001b[32mPROHIBITING SMOKING WHERE FOOD IS SOLD            \u001b[0m │ \u001b[32m0         \u001b[0m │ \u001b[32mIN (H) RULES                    \u001b[0m │ \u001b[2mNULL\u001b[0m   │  \u001b[2mNULL\u001b[0m │ \u001b[2mNULL\u001b[0m       │ \u001b[1m[\u001b[0m\u001b[1m]\u001b[0m            │ \u001b[2mNULL\u001b[0m              │ \u001b[2mNULL\u001b[0m    │ \u001b[2mNULL\u001b[0m   │ \u001b[2mNULL\u001b[0m   │ \u001b[1m[\u001b[0m\u001b[1m]\u001b[0m          │ \u001b[1m[\u001b[0m\u001b[1m]\u001b[0m          │ \u001b[1m[\u001b[0m\u001b[1m]\u001b[0m            │ \u001b[1m[\u001b[0m\u001b[1m]\u001b[0m             │ \u001b[1m[\u001b[0m\u001b[1m]\u001b[0m          │ \u001b[2mNULL\u001b[0m             │\n",
       "│ \u001b[32m12:HB 100\u001b[0m │                \u001b[1;36m12\u001b[0m │ \u001b[32mHB 100    \u001b[0m │ \u001b[32mSS*     \u001b[0m │ \u001b[1m[\u001b[0m\u001b[1m]\u001b[0m          │ False       │ False   │ \u001b[32mPROVIDE G.O. BONDS/ENERGY RELATED PROJECTS; ED    \u001b[0m │ \u001b[32m0         \u001b[0m │ \u001b[32mIN (H) RESOURCES THEN FINANCE   \u001b[0m │ \u001b[2mNULL\u001b[0m   │  \u001b[2mNULL\u001b[0m │ \u001b[2mNULL\u001b[0m       │ \u001b[1m[\u001b[0m\u001b[1m]\u001b[0m            │ \u001b[2mNULL\u001b[0m              │ \u001b[2mNULL\u001b[0m    │ \u001b[2mNULL\u001b[0m   │ \u001b[2mNULL\u001b[0m   │ \u001b[1m[\u001b[0m\u001b[1m]\u001b[0m          │ \u001b[1m[\u001b[0m\u001b[1m]\u001b[0m          │ \u001b[1m[\u001b[0m\u001b[1m]\u001b[0m            │ \u001b[1m[\u001b[0m\u001b[1m]\u001b[0m             │ \u001b[1m[\u001b[0m\u001b[1m]\u001b[0m          │ \u001b[2mNULL\u001b[0m             │\n",
       "│ \u001b[32m12:HB 101\u001b[0m │                \u001b[1;36m12\u001b[0m │ \u001b[32mHB 101    \u001b[0m │ \u001b[32mCCS*    \u001b[0m │ \u001b[1m[\u001b[0m\u001b[1m]\u001b[0m          │ False       │ False   │ \u001b[32mRE/STATE TAXATION; ED                             \u001b[0m │ \u001b[32m0         \u001b[0m │ \u001b[32mCHAPTER 0082 SLA 82             \u001b[0m │ \u001b[2mNULL\u001b[0m   │  \u001b[2mNULL\u001b[0m │ \u001b[2mNULL\u001b[0m       │ \u001b[1m[\u001b[0m\u001b[1m]\u001b[0m            │ \u001b[2mNULL\u001b[0m              │ \u001b[2mNULL\u001b[0m    │ \u001b[2mNULL\u001b[0m   │ \u001b[2mNULL\u001b[0m   │ \u001b[1m[\u001b[0m\u001b[1m]\u001b[0m          │ \u001b[1m[\u001b[0m\u001b[1m]\u001b[0m          │ \u001b[1m[\u001b[0m\u001b[1m]\u001b[0m            │ \u001b[1m[\u001b[0m\u001b[1m]\u001b[0m             │ \u001b[1m[\u001b[0m\u001b[1m]\u001b[0m          │ \u001b[2mNULL\u001b[0m             │\n",
       "│ \u001b[32m12:HB 102\u001b[0m │                \u001b[1;36m12\u001b[0m │ \u001b[32mHB 102    \u001b[0m │ \u001b[2mNULL\u001b[0m     │ \u001b[1m[\u001b[0m\u001b[1m]\u001b[0m          │ False       │ False   │ \u001b[32mEXTEND CERTAIN BENEFITS/PERM & TOTALLY DISABLED   \u001b[0m │ \u001b[32m0         \u001b[0m │ \u001b[32mIN (H) HESS THEN FINANCE        \u001b[0m │ \u001b[2mNULL\u001b[0m   │  \u001b[2mNULL\u001b[0m │ \u001b[2mNULL\u001b[0m       │ \u001b[1m[\u001b[0m\u001b[1m]\u001b[0m            │ \u001b[2mNULL\u001b[0m              │ \u001b[2mNULL\u001b[0m    │ \u001b[2mNULL\u001b[0m   │ \u001b[2mNULL\u001b[0m   │ \u001b[1m[\u001b[0m\u001b[1m]\u001b[0m          │ \u001b[1m[\u001b[0m\u001b[1m]\u001b[0m          │ \u001b[1m[\u001b[0m\u001b[1m]\u001b[0m            │ \u001b[1m[\u001b[0m\u001b[1m]\u001b[0m             │ \u001b[1m[\u001b[0m\u001b[1m]\u001b[0m          │ \u001b[2mNULL\u001b[0m             │\n",
       "│ \u001b[32m12:HB 103\u001b[0m │                \u001b[1;36m12\u001b[0m │ \u001b[32mHB 103    \u001b[0m │ \u001b[2mNULL\u001b[0m     │ \u001b[1m[\u001b[0m\u001b[1m]\u001b[0m          │ False       │ False   │ \u001b[32mREPEAL FISHERY BU~INESS TAX/RELATED AMENDS; ED    \u001b[0m │ \u001b[32m0         \u001b[0m │ \u001b[32mIN (H) RESOURCES THEN FINANCE   \u001b[0m │ \u001b[2mNULL\u001b[0m   │  \u001b[2mNULL\u001b[0m │ \u001b[2mNULL\u001b[0m       │ \u001b[1m[\u001b[0m\u001b[1m]\u001b[0m            │ \u001b[2mNULL\u001b[0m              │ \u001b[2mNULL\u001b[0m    │ \u001b[2mNULL\u001b[0m   │ \u001b[2mNULL\u001b[0m   │ \u001b[1m[\u001b[0m\u001b[1m]\u001b[0m          │ \u001b[1m[\u001b[0m\u001b[1m]\u001b[0m          │ \u001b[1m[\u001b[0m\u001b[1m]\u001b[0m            │ \u001b[1m[\u001b[0m\u001b[1m]\u001b[0m             │ \u001b[1m[\u001b[0m\u001b[1m]\u001b[0m          │ \u001b[2mNULL\u001b[0m             │\n",
       "│ \u001b[32m12:HB 104\u001b[0m │                \u001b[1;36m12\u001b[0m │ \u001b[32mHB 104    \u001b[0m │ \u001b[2mNULL\u001b[0m     │ \u001b[1m[\u001b[0m\u001b[1m]\u001b[0m          │ False       │ False   │ \u001b[32mSPEC APPROP/CONST SCHOOL/CHINIAK; ED              \u001b[0m │ \u001b[32m0         \u001b[0m │ \u001b[32mIN (H) HESS THEN FINANCE        \u001b[0m │ \u001b[2mNULL\u001b[0m   │  \u001b[2mNULL\u001b[0m │ \u001b[2mNULL\u001b[0m       │ \u001b[1m[\u001b[0m\u001b[1m]\u001b[0m            │ \u001b[2mNULL\u001b[0m              │ \u001b[2mNULL\u001b[0m    │ \u001b[2mNULL\u001b[0m   │ \u001b[2mNULL\u001b[0m   │ \u001b[1m[\u001b[0m\u001b[1m]\u001b[0m          │ \u001b[1m[\u001b[0m\u001b[1m]\u001b[0m          │ \u001b[1m[\u001b[0m\u001b[1m]\u001b[0m            │ \u001b[1m[\u001b[0m\u001b[1m]\u001b[0m             │ \u001b[1m[\u001b[0m\u001b[1m]\u001b[0m          │ \u001b[2mNULL\u001b[0m             │\n",
       "│ \u001b[32m12:HB 105\u001b[0m │                \u001b[1;36m12\u001b[0m │ \u001b[32mHB 105    \u001b[0m │ \u001b[2mNULL\u001b[0m     │ \u001b[1m[\u001b[0m\u001b[1m]\u001b[0m          │ False       │ False   │ \u001b[32mRE/CITIZEN PARTICIPATE/STATE GOV'T                \u001b[0m │ \u001b[32m0         \u001b[0m │ \u001b[32mIN (H) STATE AFFA THEN FINANCE  \u001b[0m │ \u001b[2mNULL\u001b[0m   │  \u001b[2mNULL\u001b[0m │ \u001b[2mNULL\u001b[0m       │ \u001b[1m[\u001b[0m\u001b[1m]\u001b[0m            │ \u001b[2mNULL\u001b[0m              │ \u001b[2mNULL\u001b[0m    │ \u001b[2mNULL\u001b[0m   │ \u001b[2mNULL\u001b[0m   │ \u001b[1m[\u001b[0m\u001b[1m]\u001b[0m          │ \u001b[1m[\u001b[0m\u001b[1m]\u001b[0m          │ \u001b[1m[\u001b[0m\u001b[1m]\u001b[0m            │ \u001b[1m[\u001b[0m\u001b[1m]\u001b[0m             │ \u001b[1m[\u001b[0m\u001b[1m]\u001b[0m          │ \u001b[2mNULL\u001b[0m             │\n",
       "│ \u001b[32m12:HB 106\u001b[0m │                \u001b[1;36m12\u001b[0m │ \u001b[32mHB 106    \u001b[0m │ \u001b[32mSS *    \u001b[0m │ \u001b[1m[\u001b[0m\u001b[1m]\u001b[0m          │ False       │ False   │ \u001b[32mPROV/LICENSE/ATHLETIC THERAPISTS                  \u001b[0m │ \u001b[32m0         \u001b[0m │ \u001b[32mIN (H) HESS THEN FINANCE        \u001b[0m │ \u001b[2mNULL\u001b[0m   │  \u001b[2mNULL\u001b[0m │ \u001b[2mNULL\u001b[0m       │ \u001b[1m[\u001b[0m\u001b[1m]\u001b[0m            │ \u001b[2mNULL\u001b[0m              │ \u001b[2mNULL\u001b[0m    │ \u001b[2mNULL\u001b[0m   │ \u001b[2mNULL\u001b[0m   │ \u001b[1m[\u001b[0m\u001b[1m]\u001b[0m          │ \u001b[1m[\u001b[0m\u001b[1m]\u001b[0m          │ \u001b[1m[\u001b[0m\u001b[1m]\u001b[0m            │ \u001b[1m[\u001b[0m\u001b[1m]\u001b[0m             │ \u001b[1m[\u001b[0m\u001b[1m]\u001b[0m          │ \u001b[2mNULL\u001b[0m             │\n",
       "│ \u001b[32m12:HB 107\u001b[0m │                \u001b[1;36m12\u001b[0m │ \u001b[32mHB 107    \u001b[0m │ \u001b[2mNULL\u001b[0m     │ \u001b[1m[\u001b[0m\u001b[1m]\u001b[0m          │ False       │ False   │ \u001b[32mREQ PUB OFFICERS/LOBBYING/COMPLY WITH AS 24.45; ED\u001b[0m │ \u001b[32m0         \u001b[0m │ \u001b[32mIN (H) STATE AFFA THEN JUDICIARY\u001b[0m │ \u001b[2mNULL\u001b[0m   │  \u001b[2mNULL\u001b[0m │ \u001b[2mNULL\u001b[0m       │ \u001b[1m[\u001b[0m\u001b[1m]\u001b[0m            │ \u001b[2mNULL\u001b[0m              │ \u001b[2mNULL\u001b[0m    │ \u001b[2mNULL\u001b[0m   │ \u001b[2mNULL\u001b[0m   │ \u001b[1m[\u001b[0m\u001b[1m]\u001b[0m          │ \u001b[1m[\u001b[0m\u001b[1m]\u001b[0m          │ \u001b[1m[\u001b[0m\u001b[1m]\u001b[0m            │ \u001b[1m[\u001b[0m\u001b[1m]\u001b[0m             │ \u001b[1m[\u001b[0m\u001b[1m]\u001b[0m          │ \u001b[2mNULL\u001b[0m             │\n",
       "│ \u001b[2m…\u001b[0m         │                 \u001b[2m…\u001b[0m │ \u001b[2m…\u001b[0m          │ \u001b[2m…\u001b[0m        │ \u001b[2m…\u001b[0m           │ \u001b[2m…\u001b[0m           │ \u001b[2m…\u001b[0m       │ \u001b[2m…\u001b[0m                                                  │ \u001b[2m…\u001b[0m          │ \u001b[2m…\u001b[0m                                │ \u001b[2m…\u001b[0m      │     \u001b[2m…\u001b[0m │ \u001b[2m…\u001b[0m          │ \u001b[2m…\u001b[0m             │ \u001b[2m…\u001b[0m                 │ \u001b[2m…\u001b[0m       │ \u001b[2m…\u001b[0m      │ \u001b[2m…\u001b[0m      │ \u001b[2m…\u001b[0m           │ \u001b[2m…\u001b[0m           │ \u001b[2m…\u001b[0m             │ \u001b[2m…\u001b[0m              │ \u001b[2m…\u001b[0m           │ \u001b[2m…\u001b[0m                │\n",
       "└───────────┴───────────────────┴────────────┴──────────┴─────────────┴─────────────┴─────────┴────────────────────────────────────────────────────┴────────────┴──────────────────────────────────┴────────┴───────┴────────────┴───────────────┴───────────────────┴─────────┴────────┴────────┴─────────────┴─────────────┴───────────────┴────────────────┴─────────────┴──────────────────┘"
      ]
     },
     "execution_count": 9,
     "metadata": {},
     "output_type": "execute_result"
    }
   ],
   "source": [
    "i.table(\"bills\", database=(\"local\", \"main\"))"
   ]
  },
  {
   "cell_type": "code",
   "execution_count": 11,
   "metadata": {},
   "outputs": [
    {
     "data": {
      "text/html": [
       "<pre style=\"white-space:pre;overflow-x:auto;line-height:normal;font-family:Menlo,'DejaVu Sans Mono',consolas,'Courier New',monospace\">┏━━━━━━━━━━━┳━━━━━━━━━━━━━━━━━━━┳━━━━━━━━━━━━┳━━━━━━━━━━┳━━━━━━━━━━━━━┳━━━━━━━━━━━━━┳━━━━━━━━━┳━━━━━━━━━━━━━━━━━━━━━━━━━━━━━━━━━━━━━━━━━━━━━━━━━━━━┳━━━━━━━━━━━━┳━━━━━━━━━━━━━━━━━━━━━━━━━━━━━━━━━━┳━━━━━━━━┳━━━━━━━┳━━━━━━━━━━━━┳━━━━━━━━━━━━━━━┳━━━━━━━━━━━━━━━━━━━┳━━━━━━━━━┳━━━━━━━━┳━━━━━━━━┳━━━━━━━━━━━━━┳━━━━━━━━━━━━━┳━━━━━━━━━━━━━━━┳━━━━━━━━━━━━━━━━┳━━━━━━━━━━━━━┳━━━━━━━━━━━━━━━━━━┓\n",
       "┃<span style=\"font-weight: bold\"> BillId    </span>┃<span style=\"font-weight: bold\"> LegislatureNumber </span>┃<span style=\"font-weight: bold\"> BillNumber </span>┃<span style=\"font-weight: bold\"> BillName </span>┃<span style=\"font-weight: bold\"> Documents   </span>┃<span style=\"font-weight: bold\"> PartialVeto </span>┃<span style=\"font-weight: bold\"> Vetoed  </span>┃<span style=\"font-weight: bold\"> ShortTitle                                         </span>┃<span style=\"font-weight: bold\"> StatusCode </span>┃<span style=\"font-weight: bold\"> StatusText                       </span>┃<span style=\"font-weight: bold\"> Flag1  </span>┃<span style=\"font-weight: bold\"> Flag2 </span>┃<span style=\"font-weight: bold\"> StatusDate </span>┃<span style=\"font-weight: bold\"> StatusAndThen </span>┃<span style=\"font-weight: bold\"> StatusSummaryCode </span>┃<span style=\"font-weight: bold\"> OnFloor </span>┃<span style=\"font-weight: bold\"> Filler </span>┃<span style=\"font-weight: bold\"> Lock   </span>┃<span style=\"font-weight: bold\"> AllMeetings </span>┃<span style=\"font-weight: bold\"> Meetings    </span>┃<span style=\"font-weight: bold\"> Subjects      </span>┃<span style=\"font-weight: bold\"> ManifestErrors </span>┃<span style=\"font-weight: bold\"> Statutes    </span>┃<span style=\"font-weight: bold\"> CurrentCommittee </span>┃\n",
       "┡━━━━━━━━━━━╇━━━━━━━━━━━━━━━━━━━╇━━━━━━━━━━━━╇━━━━━━━━━━╇━━━━━━━━━━━━━╇━━━━━━━━━━━━━╇━━━━━━━━━╇━━━━━━━━━━━━━━━━━━━━━━━━━━━━━━━━━━━━━━━━━━━━━━━━━━━━╇━━━━━━━━━━━━╇━━━━━━━━━━━━━━━━━━━━━━━━━━━━━━━━━━╇━━━━━━━━╇━━━━━━━╇━━━━━━━━━━━━╇━━━━━━━━━━━━━━━╇━━━━━━━━━━━━━━━━━━━╇━━━━━━━━━╇━━━━━━━━╇━━━━━━━━╇━━━━━━━━━━━━━╇━━━━━━━━━━━━━╇━━━━━━━━━━━━━━━╇━━━━━━━━━━━━━━━━╇━━━━━━━━━━━━━╇━━━━━━━━━━━━━━━━━━┩\n",
       "│ <span style=\"color: #7f7f7f; text-decoration-color: #7f7f7f\">!string</span>   │ <span style=\"color: #7f7f7f; text-decoration-color: #7f7f7f\">!int16</span>            │ <span style=\"color: #7f7f7f; text-decoration-color: #7f7f7f\">!string</span>    │ <span style=\"color: #7f7f7f; text-decoration-color: #7f7f7f\">string</span>   │ <span style=\"color: #7f7f7f; text-decoration-color: #7f7f7f\">array&lt;json&gt;</span> │ <span style=\"color: #7f7f7f; text-decoration-color: #7f7f7f\">boolean</span>     │ <span style=\"color: #7f7f7f; text-decoration-color: #7f7f7f\">boolean</span> │ <span style=\"color: #7f7f7f; text-decoration-color: #7f7f7f\">string</span>                                             │ <span style=\"color: #7f7f7f; text-decoration-color: #7f7f7f\">string</span>     │ <span style=\"color: #7f7f7f; text-decoration-color: #7f7f7f\">string</span>                           │ <span style=\"color: #7f7f7f; text-decoration-color: #7f7f7f\">string</span> │ <span style=\"color: #7f7f7f; text-decoration-color: #7f7f7f\">uint8</span> │ <span style=\"color: #7f7f7f; text-decoration-color: #7f7f7f\">date</span>       │ <span style=\"color: #7f7f7f; text-decoration-color: #7f7f7f\">array&lt;json&gt;</span>   │ <span style=\"color: #7f7f7f; text-decoration-color: #7f7f7f\">string</span>            │ <span style=\"color: #7f7f7f; text-decoration-color: #7f7f7f\">string</span>  │ <span style=\"color: #7f7f7f; text-decoration-color: #7f7f7f\">string</span> │ <span style=\"color: #7f7f7f; text-decoration-color: #7f7f7f\">string</span> │ <span style=\"color: #7f7f7f; text-decoration-color: #7f7f7f\">array&lt;json&gt;</span> │ <span style=\"color: #7f7f7f; text-decoration-color: #7f7f7f\">array&lt;json&gt;</span> │ <span style=\"color: #7f7f7f; text-decoration-color: #7f7f7f\">array&lt;string&gt;</span> │ <span style=\"color: #7f7f7f; text-decoration-color: #7f7f7f\">array&lt;json&gt;</span>    │ <span style=\"color: #7f7f7f; text-decoration-color: #7f7f7f\">array&lt;json&gt;</span> │ <span style=\"color: #7f7f7f; text-decoration-color: #7f7f7f\">struct&lt;Chamber:…</span> │\n",
       "├───────────┼───────────────────┼────────────┼──────────┼─────────────┼─────────────┼─────────┼────────────────────────────────────────────────────┼────────────┼──────────────────────────────────┼────────┼───────┼────────────┼───────────────┼───────────────────┼─────────┼────────┼────────┼─────────────┼─────────────┼───────────────┼────────────────┼─────────────┼──────────────────┤\n",
       "│ <span style=\"color: #008000; text-decoration-color: #008000\">12:HB 1  </span> │                <span style=\"color: #008080; text-decoration-color: #008080; font-weight: bold\">12</span> │ <span style=\"color: #008000; text-decoration-color: #008000\">HB 1      </span> │ <span style=\"color: #008000; text-decoration-color: #008000\">FCCS*   </span> │ <span style=\"font-weight: bold\">[]</span>          │ False       │ False   │ <span style=\"color: #008000; text-decoration-color: #008000\">SPEC APPROP/AK PERM FUND/APPROP/AID TO MUNIS; ED  </span> │ <span style=\"color: #008000; text-decoration-color: #008000\">0         </span> │ <span style=\"color: #008000; text-decoration-color: #008000\">CHAPTER 0061 SLA 81             </span> │ <span style=\"color: #7f7f7f; text-decoration-color: #7f7f7f\">NULL</span>   │  <span style=\"color: #7f7f7f; text-decoration-color: #7f7f7f\">NULL</span> │ <span style=\"color: #7f7f7f; text-decoration-color: #7f7f7f\">NULL</span>       │ <span style=\"font-weight: bold\">[]</span>            │ <span style=\"color: #7f7f7f; text-decoration-color: #7f7f7f\">NULL</span>              │ <span style=\"color: #7f7f7f; text-decoration-color: #7f7f7f\">NULL</span>    │ <span style=\"color: #7f7f7f; text-decoration-color: #7f7f7f\">NULL</span>   │ <span style=\"color: #7f7f7f; text-decoration-color: #7f7f7f\">NULL</span>   │ <span style=\"font-weight: bold\">[]</span>          │ <span style=\"font-weight: bold\">[]</span>          │ <span style=\"font-weight: bold\">[]</span>            │ <span style=\"font-weight: bold\">[]</span>             │ <span style=\"font-weight: bold\">[]</span>          │ <span style=\"color: #7f7f7f; text-decoration-color: #7f7f7f\">NULL</span>             │\n",
       "│ <span style=\"color: #008000; text-decoration-color: #008000\">12:HB 10 </span> │                <span style=\"color: #008080; text-decoration-color: #008080; font-weight: bold\">12</span> │ <span style=\"color: #008000; text-decoration-color: #008000\">HB 10     </span> │ <span style=\"color: #7f7f7f; text-decoration-color: #7f7f7f\">NULL</span>     │ <span style=\"font-weight: bold\">[]</span>          │ False       │ False   │ <span style=\"color: #008000; text-decoration-color: #008000\">PROHIBITING SMOKING WHERE FOOD IS SOLD            </span> │ <span style=\"color: #008000; text-decoration-color: #008000\">0         </span> │ <span style=\"color: #008000; text-decoration-color: #008000\">IN (H) RULES                    </span> │ <span style=\"color: #7f7f7f; text-decoration-color: #7f7f7f\">NULL</span>   │  <span style=\"color: #7f7f7f; text-decoration-color: #7f7f7f\">NULL</span> │ <span style=\"color: #7f7f7f; text-decoration-color: #7f7f7f\">NULL</span>       │ <span style=\"font-weight: bold\">[]</span>            │ <span style=\"color: #7f7f7f; text-decoration-color: #7f7f7f\">NULL</span>              │ <span style=\"color: #7f7f7f; text-decoration-color: #7f7f7f\">NULL</span>    │ <span style=\"color: #7f7f7f; text-decoration-color: #7f7f7f\">NULL</span>   │ <span style=\"color: #7f7f7f; text-decoration-color: #7f7f7f\">NULL</span>   │ <span style=\"font-weight: bold\">[]</span>          │ <span style=\"font-weight: bold\">[]</span>          │ <span style=\"font-weight: bold\">[]</span>            │ <span style=\"font-weight: bold\">[]</span>             │ <span style=\"font-weight: bold\">[]</span>          │ <span style=\"color: #7f7f7f; text-decoration-color: #7f7f7f\">NULL</span>             │\n",
       "│ <span style=\"color: #008000; text-decoration-color: #008000\">12:HB 100</span> │                <span style=\"color: #008080; text-decoration-color: #008080; font-weight: bold\">12</span> │ <span style=\"color: #008000; text-decoration-color: #008000\">HB 100    </span> │ <span style=\"color: #008000; text-decoration-color: #008000\">SS*     </span> │ <span style=\"font-weight: bold\">[]</span>          │ False       │ False   │ <span style=\"color: #008000; text-decoration-color: #008000\">PROVIDE G.O. BONDS/ENERGY RELATED PROJECTS; ED    </span> │ <span style=\"color: #008000; text-decoration-color: #008000\">0         </span> │ <span style=\"color: #008000; text-decoration-color: #008000\">IN (H) RESOURCES THEN FINANCE   </span> │ <span style=\"color: #7f7f7f; text-decoration-color: #7f7f7f\">NULL</span>   │  <span style=\"color: #7f7f7f; text-decoration-color: #7f7f7f\">NULL</span> │ <span style=\"color: #7f7f7f; text-decoration-color: #7f7f7f\">NULL</span>       │ <span style=\"font-weight: bold\">[]</span>            │ <span style=\"color: #7f7f7f; text-decoration-color: #7f7f7f\">NULL</span>              │ <span style=\"color: #7f7f7f; text-decoration-color: #7f7f7f\">NULL</span>    │ <span style=\"color: #7f7f7f; text-decoration-color: #7f7f7f\">NULL</span>   │ <span style=\"color: #7f7f7f; text-decoration-color: #7f7f7f\">NULL</span>   │ <span style=\"font-weight: bold\">[]</span>          │ <span style=\"font-weight: bold\">[]</span>          │ <span style=\"font-weight: bold\">[]</span>            │ <span style=\"font-weight: bold\">[]</span>             │ <span style=\"font-weight: bold\">[]</span>          │ <span style=\"color: #7f7f7f; text-decoration-color: #7f7f7f\">NULL</span>             │\n",
       "│ <span style=\"color: #008000; text-decoration-color: #008000\">12:HB 101</span> │                <span style=\"color: #008080; text-decoration-color: #008080; font-weight: bold\">12</span> │ <span style=\"color: #008000; text-decoration-color: #008000\">HB 101    </span> │ <span style=\"color: #008000; text-decoration-color: #008000\">CCS*    </span> │ <span style=\"font-weight: bold\">[]</span>          │ False       │ False   │ <span style=\"color: #008000; text-decoration-color: #008000\">RE/STATE TAXATION; ED                             </span> │ <span style=\"color: #008000; text-decoration-color: #008000\">0         </span> │ <span style=\"color: #008000; text-decoration-color: #008000\">CHAPTER 0082 SLA 82             </span> │ <span style=\"color: #7f7f7f; text-decoration-color: #7f7f7f\">NULL</span>   │  <span style=\"color: #7f7f7f; text-decoration-color: #7f7f7f\">NULL</span> │ <span style=\"color: #7f7f7f; text-decoration-color: #7f7f7f\">NULL</span>       │ <span style=\"font-weight: bold\">[]</span>            │ <span style=\"color: #7f7f7f; text-decoration-color: #7f7f7f\">NULL</span>              │ <span style=\"color: #7f7f7f; text-decoration-color: #7f7f7f\">NULL</span>    │ <span style=\"color: #7f7f7f; text-decoration-color: #7f7f7f\">NULL</span>   │ <span style=\"color: #7f7f7f; text-decoration-color: #7f7f7f\">NULL</span>   │ <span style=\"font-weight: bold\">[]</span>          │ <span style=\"font-weight: bold\">[]</span>          │ <span style=\"font-weight: bold\">[]</span>            │ <span style=\"font-weight: bold\">[]</span>             │ <span style=\"font-weight: bold\">[]</span>          │ <span style=\"color: #7f7f7f; text-decoration-color: #7f7f7f\">NULL</span>             │\n",
       "│ <span style=\"color: #008000; text-decoration-color: #008000\">12:HB 102</span> │                <span style=\"color: #008080; text-decoration-color: #008080; font-weight: bold\">12</span> │ <span style=\"color: #008000; text-decoration-color: #008000\">HB 102    </span> │ <span style=\"color: #7f7f7f; text-decoration-color: #7f7f7f\">NULL</span>     │ <span style=\"font-weight: bold\">[]</span>          │ False       │ False   │ <span style=\"color: #008000; text-decoration-color: #008000\">EXTEND CERTAIN BENEFITS/PERM &amp; TOTALLY DISABLED   </span> │ <span style=\"color: #008000; text-decoration-color: #008000\">0         </span> │ <span style=\"color: #008000; text-decoration-color: #008000\">IN (H) HESS THEN FINANCE        </span> │ <span style=\"color: #7f7f7f; text-decoration-color: #7f7f7f\">NULL</span>   │  <span style=\"color: #7f7f7f; text-decoration-color: #7f7f7f\">NULL</span> │ <span style=\"color: #7f7f7f; text-decoration-color: #7f7f7f\">NULL</span>       │ <span style=\"font-weight: bold\">[]</span>            │ <span style=\"color: #7f7f7f; text-decoration-color: #7f7f7f\">NULL</span>              │ <span style=\"color: #7f7f7f; text-decoration-color: #7f7f7f\">NULL</span>    │ <span style=\"color: #7f7f7f; text-decoration-color: #7f7f7f\">NULL</span>   │ <span style=\"color: #7f7f7f; text-decoration-color: #7f7f7f\">NULL</span>   │ <span style=\"font-weight: bold\">[]</span>          │ <span style=\"font-weight: bold\">[]</span>          │ <span style=\"font-weight: bold\">[]</span>            │ <span style=\"font-weight: bold\">[]</span>             │ <span style=\"font-weight: bold\">[]</span>          │ <span style=\"color: #7f7f7f; text-decoration-color: #7f7f7f\">NULL</span>             │\n",
       "│ <span style=\"color: #008000; text-decoration-color: #008000\">12:HB 103</span> │                <span style=\"color: #008080; text-decoration-color: #008080; font-weight: bold\">12</span> │ <span style=\"color: #008000; text-decoration-color: #008000\">HB 103    </span> │ <span style=\"color: #7f7f7f; text-decoration-color: #7f7f7f\">NULL</span>     │ <span style=\"font-weight: bold\">[]</span>          │ False       │ False   │ <span style=\"color: #008000; text-decoration-color: #008000\">REPEAL FISHERY BU~INESS TAX/RELATED AMENDS; ED    </span> │ <span style=\"color: #008000; text-decoration-color: #008000\">0         </span> │ <span style=\"color: #008000; text-decoration-color: #008000\">IN (H) RESOURCES THEN FINANCE   </span> │ <span style=\"color: #7f7f7f; text-decoration-color: #7f7f7f\">NULL</span>   │  <span style=\"color: #7f7f7f; text-decoration-color: #7f7f7f\">NULL</span> │ <span style=\"color: #7f7f7f; text-decoration-color: #7f7f7f\">NULL</span>       │ <span style=\"font-weight: bold\">[]</span>            │ <span style=\"color: #7f7f7f; text-decoration-color: #7f7f7f\">NULL</span>              │ <span style=\"color: #7f7f7f; text-decoration-color: #7f7f7f\">NULL</span>    │ <span style=\"color: #7f7f7f; text-decoration-color: #7f7f7f\">NULL</span>   │ <span style=\"color: #7f7f7f; text-decoration-color: #7f7f7f\">NULL</span>   │ <span style=\"font-weight: bold\">[]</span>          │ <span style=\"font-weight: bold\">[]</span>          │ <span style=\"font-weight: bold\">[]</span>            │ <span style=\"font-weight: bold\">[]</span>             │ <span style=\"font-weight: bold\">[]</span>          │ <span style=\"color: #7f7f7f; text-decoration-color: #7f7f7f\">NULL</span>             │\n",
       "│ <span style=\"color: #008000; text-decoration-color: #008000\">12:HB 104</span> │                <span style=\"color: #008080; text-decoration-color: #008080; font-weight: bold\">12</span> │ <span style=\"color: #008000; text-decoration-color: #008000\">HB 104    </span> │ <span style=\"color: #7f7f7f; text-decoration-color: #7f7f7f\">NULL</span>     │ <span style=\"font-weight: bold\">[]</span>          │ False       │ False   │ <span style=\"color: #008000; text-decoration-color: #008000\">SPEC APPROP/CONST SCHOOL/CHINIAK; ED              </span> │ <span style=\"color: #008000; text-decoration-color: #008000\">0         </span> │ <span style=\"color: #008000; text-decoration-color: #008000\">IN (H) HESS THEN FINANCE        </span> │ <span style=\"color: #7f7f7f; text-decoration-color: #7f7f7f\">NULL</span>   │  <span style=\"color: #7f7f7f; text-decoration-color: #7f7f7f\">NULL</span> │ <span style=\"color: #7f7f7f; text-decoration-color: #7f7f7f\">NULL</span>       │ <span style=\"font-weight: bold\">[]</span>            │ <span style=\"color: #7f7f7f; text-decoration-color: #7f7f7f\">NULL</span>              │ <span style=\"color: #7f7f7f; text-decoration-color: #7f7f7f\">NULL</span>    │ <span style=\"color: #7f7f7f; text-decoration-color: #7f7f7f\">NULL</span>   │ <span style=\"color: #7f7f7f; text-decoration-color: #7f7f7f\">NULL</span>   │ <span style=\"font-weight: bold\">[]</span>          │ <span style=\"font-weight: bold\">[]</span>          │ <span style=\"font-weight: bold\">[]</span>            │ <span style=\"font-weight: bold\">[]</span>             │ <span style=\"font-weight: bold\">[]</span>          │ <span style=\"color: #7f7f7f; text-decoration-color: #7f7f7f\">NULL</span>             │\n",
       "│ <span style=\"color: #008000; text-decoration-color: #008000\">12:HB 105</span> │                <span style=\"color: #008080; text-decoration-color: #008080; font-weight: bold\">12</span> │ <span style=\"color: #008000; text-decoration-color: #008000\">HB 105    </span> │ <span style=\"color: #7f7f7f; text-decoration-color: #7f7f7f\">NULL</span>     │ <span style=\"font-weight: bold\">[]</span>          │ False       │ False   │ <span style=\"color: #008000; text-decoration-color: #008000\">RE/CITIZEN PARTICIPATE/STATE GOV'T                </span> │ <span style=\"color: #008000; text-decoration-color: #008000\">0         </span> │ <span style=\"color: #008000; text-decoration-color: #008000\">IN (H) STATE AFFA THEN FINANCE  </span> │ <span style=\"color: #7f7f7f; text-decoration-color: #7f7f7f\">NULL</span>   │  <span style=\"color: #7f7f7f; text-decoration-color: #7f7f7f\">NULL</span> │ <span style=\"color: #7f7f7f; text-decoration-color: #7f7f7f\">NULL</span>       │ <span style=\"font-weight: bold\">[]</span>            │ <span style=\"color: #7f7f7f; text-decoration-color: #7f7f7f\">NULL</span>              │ <span style=\"color: #7f7f7f; text-decoration-color: #7f7f7f\">NULL</span>    │ <span style=\"color: #7f7f7f; text-decoration-color: #7f7f7f\">NULL</span>   │ <span style=\"color: #7f7f7f; text-decoration-color: #7f7f7f\">NULL</span>   │ <span style=\"font-weight: bold\">[]</span>          │ <span style=\"font-weight: bold\">[]</span>          │ <span style=\"font-weight: bold\">[]</span>            │ <span style=\"font-weight: bold\">[]</span>             │ <span style=\"font-weight: bold\">[]</span>          │ <span style=\"color: #7f7f7f; text-decoration-color: #7f7f7f\">NULL</span>             │\n",
       "│ <span style=\"color: #008000; text-decoration-color: #008000\">12:HB 106</span> │                <span style=\"color: #008080; text-decoration-color: #008080; font-weight: bold\">12</span> │ <span style=\"color: #008000; text-decoration-color: #008000\">HB 106    </span> │ <span style=\"color: #008000; text-decoration-color: #008000\">SS *    </span> │ <span style=\"font-weight: bold\">[]</span>          │ False       │ False   │ <span style=\"color: #008000; text-decoration-color: #008000\">PROV/LICENSE/ATHLETIC THERAPISTS                  </span> │ <span style=\"color: #008000; text-decoration-color: #008000\">0         </span> │ <span style=\"color: #008000; text-decoration-color: #008000\">IN (H) HESS THEN FINANCE        </span> │ <span style=\"color: #7f7f7f; text-decoration-color: #7f7f7f\">NULL</span>   │  <span style=\"color: #7f7f7f; text-decoration-color: #7f7f7f\">NULL</span> │ <span style=\"color: #7f7f7f; text-decoration-color: #7f7f7f\">NULL</span>       │ <span style=\"font-weight: bold\">[]</span>            │ <span style=\"color: #7f7f7f; text-decoration-color: #7f7f7f\">NULL</span>              │ <span style=\"color: #7f7f7f; text-decoration-color: #7f7f7f\">NULL</span>    │ <span style=\"color: #7f7f7f; text-decoration-color: #7f7f7f\">NULL</span>   │ <span style=\"color: #7f7f7f; text-decoration-color: #7f7f7f\">NULL</span>   │ <span style=\"font-weight: bold\">[]</span>          │ <span style=\"font-weight: bold\">[]</span>          │ <span style=\"font-weight: bold\">[]</span>            │ <span style=\"font-weight: bold\">[]</span>             │ <span style=\"font-weight: bold\">[]</span>          │ <span style=\"color: #7f7f7f; text-decoration-color: #7f7f7f\">NULL</span>             │\n",
       "│ <span style=\"color: #008000; text-decoration-color: #008000\">12:HB 107</span> │                <span style=\"color: #008080; text-decoration-color: #008080; font-weight: bold\">12</span> │ <span style=\"color: #008000; text-decoration-color: #008000\">HB 107    </span> │ <span style=\"color: #7f7f7f; text-decoration-color: #7f7f7f\">NULL</span>     │ <span style=\"font-weight: bold\">[]</span>          │ False       │ False   │ <span style=\"color: #008000; text-decoration-color: #008000\">REQ PUB OFFICERS/LOBBYING/COMPLY WITH AS 24.45; ED</span> │ <span style=\"color: #008000; text-decoration-color: #008000\">0         </span> │ <span style=\"color: #008000; text-decoration-color: #008000\">IN (H) STATE AFFA THEN JUDICIARY</span> │ <span style=\"color: #7f7f7f; text-decoration-color: #7f7f7f\">NULL</span>   │  <span style=\"color: #7f7f7f; text-decoration-color: #7f7f7f\">NULL</span> │ <span style=\"color: #7f7f7f; text-decoration-color: #7f7f7f\">NULL</span>       │ <span style=\"font-weight: bold\">[]</span>            │ <span style=\"color: #7f7f7f; text-decoration-color: #7f7f7f\">NULL</span>              │ <span style=\"color: #7f7f7f; text-decoration-color: #7f7f7f\">NULL</span>    │ <span style=\"color: #7f7f7f; text-decoration-color: #7f7f7f\">NULL</span>   │ <span style=\"color: #7f7f7f; text-decoration-color: #7f7f7f\">NULL</span>   │ <span style=\"font-weight: bold\">[]</span>          │ <span style=\"font-weight: bold\">[]</span>          │ <span style=\"font-weight: bold\">[]</span>            │ <span style=\"font-weight: bold\">[]</span>             │ <span style=\"font-weight: bold\">[]</span>          │ <span style=\"color: #7f7f7f; text-decoration-color: #7f7f7f\">NULL</span>             │\n",
       "│ <span style=\"color: #7f7f7f; text-decoration-color: #7f7f7f\">…</span>         │                 <span style=\"color: #7f7f7f; text-decoration-color: #7f7f7f\">…</span> │ <span style=\"color: #7f7f7f; text-decoration-color: #7f7f7f\">…</span>          │ <span style=\"color: #7f7f7f; text-decoration-color: #7f7f7f\">…</span>        │ <span style=\"color: #7f7f7f; text-decoration-color: #7f7f7f\">…</span>           │ <span style=\"color: #7f7f7f; text-decoration-color: #7f7f7f\">…</span>           │ <span style=\"color: #7f7f7f; text-decoration-color: #7f7f7f\">…</span>       │ <span style=\"color: #7f7f7f; text-decoration-color: #7f7f7f\">…</span>                                                  │ <span style=\"color: #7f7f7f; text-decoration-color: #7f7f7f\">…</span>          │ <span style=\"color: #7f7f7f; text-decoration-color: #7f7f7f\">…</span>                                │ <span style=\"color: #7f7f7f; text-decoration-color: #7f7f7f\">…</span>      │     <span style=\"color: #7f7f7f; text-decoration-color: #7f7f7f\">…</span> │ <span style=\"color: #7f7f7f; text-decoration-color: #7f7f7f\">…</span>          │ <span style=\"color: #7f7f7f; text-decoration-color: #7f7f7f\">…</span>             │ <span style=\"color: #7f7f7f; text-decoration-color: #7f7f7f\">…</span>                 │ <span style=\"color: #7f7f7f; text-decoration-color: #7f7f7f\">…</span>       │ <span style=\"color: #7f7f7f; text-decoration-color: #7f7f7f\">…</span>      │ <span style=\"color: #7f7f7f; text-decoration-color: #7f7f7f\">…</span>      │ <span style=\"color: #7f7f7f; text-decoration-color: #7f7f7f\">…</span>           │ <span style=\"color: #7f7f7f; text-decoration-color: #7f7f7f\">…</span>           │ <span style=\"color: #7f7f7f; text-decoration-color: #7f7f7f\">…</span>             │ <span style=\"color: #7f7f7f; text-decoration-color: #7f7f7f\">…</span>              │ <span style=\"color: #7f7f7f; text-decoration-color: #7f7f7f\">…</span>           │ <span style=\"color: #7f7f7f; text-decoration-color: #7f7f7f\">…</span>                │\n",
       "└───────────┴───────────────────┴────────────┴──────────┴─────────────┴─────────────┴─────────┴────────────────────────────────────────────────────┴────────────┴──────────────────────────────────┴────────┴───────┴────────────┴───────────────┴───────────────────┴─────────┴────────┴────────┴─────────────┴─────────────┴───────────────┴────────────────┴─────────────┴──────────────────┘\n",
       "</pre>\n"
      ],
      "text/plain": [
       "┏━━━━━━━━━━━┳━━━━━━━━━━━━━━━━━━━┳━━━━━━━━━━━━┳━━━━━━━━━━┳━━━━━━━━━━━━━┳━━━━━━━━━━━━━┳━━━━━━━━━┳━━━━━━━━━━━━━━━━━━━━━━━━━━━━━━━━━━━━━━━━━━━━━━━━━━━━┳━━━━━━━━━━━━┳━━━━━━━━━━━━━━━━━━━━━━━━━━━━━━━━━━┳━━━━━━━━┳━━━━━━━┳━━━━━━━━━━━━┳━━━━━━━━━━━━━━━┳━━━━━━━━━━━━━━━━━━━┳━━━━━━━━━┳━━━━━━━━┳━━━━━━━━┳━━━━━━━━━━━━━┳━━━━━━━━━━━━━┳━━━━━━━━━━━━━━━┳━━━━━━━━━━━━━━━━┳━━━━━━━━━━━━━┳━━━━━━━━━━━━━━━━━━┓\n",
       "┃\u001b[1m \u001b[0m\u001b[1mBillId\u001b[0m\u001b[1m   \u001b[0m\u001b[1m \u001b[0m┃\u001b[1m \u001b[0m\u001b[1mLegislatureNumber\u001b[0m\u001b[1m \u001b[0m┃\u001b[1m \u001b[0m\u001b[1mBillNumber\u001b[0m\u001b[1m \u001b[0m┃\u001b[1m \u001b[0m\u001b[1mBillName\u001b[0m\u001b[1m \u001b[0m┃\u001b[1m \u001b[0m\u001b[1mDocuments\u001b[0m\u001b[1m  \u001b[0m\u001b[1m \u001b[0m┃\u001b[1m \u001b[0m\u001b[1mPartialVeto\u001b[0m\u001b[1m \u001b[0m┃\u001b[1m \u001b[0m\u001b[1mVetoed\u001b[0m\u001b[1m \u001b[0m\u001b[1m \u001b[0m┃\u001b[1m \u001b[0m\u001b[1mShortTitle\u001b[0m\u001b[1m                                        \u001b[0m\u001b[1m \u001b[0m┃\u001b[1m \u001b[0m\u001b[1mStatusCode\u001b[0m\u001b[1m \u001b[0m┃\u001b[1m \u001b[0m\u001b[1mStatusText\u001b[0m\u001b[1m                      \u001b[0m\u001b[1m \u001b[0m┃\u001b[1m \u001b[0m\u001b[1mFlag1\u001b[0m\u001b[1m \u001b[0m\u001b[1m \u001b[0m┃\u001b[1m \u001b[0m\u001b[1mFlag2\u001b[0m\u001b[1m \u001b[0m┃\u001b[1m \u001b[0m\u001b[1mStatusDate\u001b[0m\u001b[1m \u001b[0m┃\u001b[1m \u001b[0m\u001b[1mStatusAndThen\u001b[0m\u001b[1m \u001b[0m┃\u001b[1m \u001b[0m\u001b[1mStatusSummaryCode\u001b[0m\u001b[1m \u001b[0m┃\u001b[1m \u001b[0m\u001b[1mOnFloor\u001b[0m\u001b[1m \u001b[0m┃\u001b[1m \u001b[0m\u001b[1mFiller\u001b[0m\u001b[1m \u001b[0m┃\u001b[1m \u001b[0m\u001b[1mLock\u001b[0m\u001b[1m  \u001b[0m\u001b[1m \u001b[0m┃\u001b[1m \u001b[0m\u001b[1mAllMeetings\u001b[0m\u001b[1m \u001b[0m┃\u001b[1m \u001b[0m\u001b[1mMeetings\u001b[0m\u001b[1m   \u001b[0m\u001b[1m \u001b[0m┃\u001b[1m \u001b[0m\u001b[1mSubjects\u001b[0m\u001b[1m     \u001b[0m\u001b[1m \u001b[0m┃\u001b[1m \u001b[0m\u001b[1mManifestErrors\u001b[0m\u001b[1m \u001b[0m┃\u001b[1m \u001b[0m\u001b[1mStatutes\u001b[0m\u001b[1m   \u001b[0m\u001b[1m \u001b[0m┃\u001b[1m \u001b[0m\u001b[1mCurrentCommittee\u001b[0m\u001b[1m \u001b[0m┃\n",
       "┡━━━━━━━━━━━╇━━━━━━━━━━━━━━━━━━━╇━━━━━━━━━━━━╇━━━━━━━━━━╇━━━━━━━━━━━━━╇━━━━━━━━━━━━━╇━━━━━━━━━╇━━━━━━━━━━━━━━━━━━━━━━━━━━━━━━━━━━━━━━━━━━━━━━━━━━━━╇━━━━━━━━━━━━╇━━━━━━━━━━━━━━━━━━━━━━━━━━━━━━━━━━╇━━━━━━━━╇━━━━━━━╇━━━━━━━━━━━━╇━━━━━━━━━━━━━━━╇━━━━━━━━━━━━━━━━━━━╇━━━━━━━━━╇━━━━━━━━╇━━━━━━━━╇━━━━━━━━━━━━━╇━━━━━━━━━━━━━╇━━━━━━━━━━━━━━━╇━━━━━━━━━━━━━━━━╇━━━━━━━━━━━━━╇━━━━━━━━━━━━━━━━━━┩\n",
       "│ \u001b[2m!string\u001b[0m   │ \u001b[2m!int16\u001b[0m            │ \u001b[2m!string\u001b[0m    │ \u001b[2mstring\u001b[0m   │ \u001b[2marray<json>\u001b[0m │ \u001b[2mboolean\u001b[0m     │ \u001b[2mboolean\u001b[0m │ \u001b[2mstring\u001b[0m                                             │ \u001b[2mstring\u001b[0m     │ \u001b[2mstring\u001b[0m                           │ \u001b[2mstring\u001b[0m │ \u001b[2muint8\u001b[0m │ \u001b[2mdate\u001b[0m       │ \u001b[2marray<json>\u001b[0m   │ \u001b[2mstring\u001b[0m            │ \u001b[2mstring\u001b[0m  │ \u001b[2mstring\u001b[0m │ \u001b[2mstring\u001b[0m │ \u001b[2marray<json>\u001b[0m │ \u001b[2marray<json>\u001b[0m │ \u001b[2marray<string>\u001b[0m │ \u001b[2marray<json>\u001b[0m    │ \u001b[2marray<json>\u001b[0m │ \u001b[2mstruct<Chamber:…\u001b[0m │\n",
       "├───────────┼───────────────────┼────────────┼──────────┼─────────────┼─────────────┼─────────┼────────────────────────────────────────────────────┼────────────┼──────────────────────────────────┼────────┼───────┼────────────┼───────────────┼───────────────────┼─────────┼────────┼────────┼─────────────┼─────────────┼───────────────┼────────────────┼─────────────┼──────────────────┤\n",
       "│ \u001b[32m12:HB 1  \u001b[0m │                \u001b[1;36m12\u001b[0m │ \u001b[32mHB 1      \u001b[0m │ \u001b[32mFCCS*   \u001b[0m │ \u001b[1m[\u001b[0m\u001b[1m]\u001b[0m          │ False       │ False   │ \u001b[32mSPEC APPROP/AK PERM FUND/APPROP/AID TO MUNIS; ED  \u001b[0m │ \u001b[32m0         \u001b[0m │ \u001b[32mCHAPTER 0061 SLA 81             \u001b[0m │ \u001b[2mNULL\u001b[0m   │  \u001b[2mNULL\u001b[0m │ \u001b[2mNULL\u001b[0m       │ \u001b[1m[\u001b[0m\u001b[1m]\u001b[0m            │ \u001b[2mNULL\u001b[0m              │ \u001b[2mNULL\u001b[0m    │ \u001b[2mNULL\u001b[0m   │ \u001b[2mNULL\u001b[0m   │ \u001b[1m[\u001b[0m\u001b[1m]\u001b[0m          │ \u001b[1m[\u001b[0m\u001b[1m]\u001b[0m          │ \u001b[1m[\u001b[0m\u001b[1m]\u001b[0m            │ \u001b[1m[\u001b[0m\u001b[1m]\u001b[0m             │ \u001b[1m[\u001b[0m\u001b[1m]\u001b[0m          │ \u001b[2mNULL\u001b[0m             │\n",
       "│ \u001b[32m12:HB 10 \u001b[0m │                \u001b[1;36m12\u001b[0m │ \u001b[32mHB 10     \u001b[0m │ \u001b[2mNULL\u001b[0m     │ \u001b[1m[\u001b[0m\u001b[1m]\u001b[0m          │ False       │ False   │ \u001b[32mPROHIBITING SMOKING WHERE FOOD IS SOLD            \u001b[0m │ \u001b[32m0         \u001b[0m │ \u001b[32mIN (H) RULES                    \u001b[0m │ \u001b[2mNULL\u001b[0m   │  \u001b[2mNULL\u001b[0m │ \u001b[2mNULL\u001b[0m       │ \u001b[1m[\u001b[0m\u001b[1m]\u001b[0m            │ \u001b[2mNULL\u001b[0m              │ \u001b[2mNULL\u001b[0m    │ \u001b[2mNULL\u001b[0m   │ \u001b[2mNULL\u001b[0m   │ \u001b[1m[\u001b[0m\u001b[1m]\u001b[0m          │ \u001b[1m[\u001b[0m\u001b[1m]\u001b[0m          │ \u001b[1m[\u001b[0m\u001b[1m]\u001b[0m            │ \u001b[1m[\u001b[0m\u001b[1m]\u001b[0m             │ \u001b[1m[\u001b[0m\u001b[1m]\u001b[0m          │ \u001b[2mNULL\u001b[0m             │\n",
       "│ \u001b[32m12:HB 100\u001b[0m │                \u001b[1;36m12\u001b[0m │ \u001b[32mHB 100    \u001b[0m │ \u001b[32mSS*     \u001b[0m │ \u001b[1m[\u001b[0m\u001b[1m]\u001b[0m          │ False       │ False   │ \u001b[32mPROVIDE G.O. BONDS/ENERGY RELATED PROJECTS; ED    \u001b[0m │ \u001b[32m0         \u001b[0m │ \u001b[32mIN (H) RESOURCES THEN FINANCE   \u001b[0m │ \u001b[2mNULL\u001b[0m   │  \u001b[2mNULL\u001b[0m │ \u001b[2mNULL\u001b[0m       │ \u001b[1m[\u001b[0m\u001b[1m]\u001b[0m            │ \u001b[2mNULL\u001b[0m              │ \u001b[2mNULL\u001b[0m    │ \u001b[2mNULL\u001b[0m   │ \u001b[2mNULL\u001b[0m   │ \u001b[1m[\u001b[0m\u001b[1m]\u001b[0m          │ \u001b[1m[\u001b[0m\u001b[1m]\u001b[0m          │ \u001b[1m[\u001b[0m\u001b[1m]\u001b[0m            │ \u001b[1m[\u001b[0m\u001b[1m]\u001b[0m             │ \u001b[1m[\u001b[0m\u001b[1m]\u001b[0m          │ \u001b[2mNULL\u001b[0m             │\n",
       "│ \u001b[32m12:HB 101\u001b[0m │                \u001b[1;36m12\u001b[0m │ \u001b[32mHB 101    \u001b[0m │ \u001b[32mCCS*    \u001b[0m │ \u001b[1m[\u001b[0m\u001b[1m]\u001b[0m          │ False       │ False   │ \u001b[32mRE/STATE TAXATION; ED                             \u001b[0m │ \u001b[32m0         \u001b[0m │ \u001b[32mCHAPTER 0082 SLA 82             \u001b[0m │ \u001b[2mNULL\u001b[0m   │  \u001b[2mNULL\u001b[0m │ \u001b[2mNULL\u001b[0m       │ \u001b[1m[\u001b[0m\u001b[1m]\u001b[0m            │ \u001b[2mNULL\u001b[0m              │ \u001b[2mNULL\u001b[0m    │ \u001b[2mNULL\u001b[0m   │ \u001b[2mNULL\u001b[0m   │ \u001b[1m[\u001b[0m\u001b[1m]\u001b[0m          │ \u001b[1m[\u001b[0m\u001b[1m]\u001b[0m          │ \u001b[1m[\u001b[0m\u001b[1m]\u001b[0m            │ \u001b[1m[\u001b[0m\u001b[1m]\u001b[0m             │ \u001b[1m[\u001b[0m\u001b[1m]\u001b[0m          │ \u001b[2mNULL\u001b[0m             │\n",
       "│ \u001b[32m12:HB 102\u001b[0m │                \u001b[1;36m12\u001b[0m │ \u001b[32mHB 102    \u001b[0m │ \u001b[2mNULL\u001b[0m     │ \u001b[1m[\u001b[0m\u001b[1m]\u001b[0m          │ False       │ False   │ \u001b[32mEXTEND CERTAIN BENEFITS/PERM & TOTALLY DISABLED   \u001b[0m │ \u001b[32m0         \u001b[0m │ \u001b[32mIN (H) HESS THEN FINANCE        \u001b[0m │ \u001b[2mNULL\u001b[0m   │  \u001b[2mNULL\u001b[0m │ \u001b[2mNULL\u001b[0m       │ \u001b[1m[\u001b[0m\u001b[1m]\u001b[0m            │ \u001b[2mNULL\u001b[0m              │ \u001b[2mNULL\u001b[0m    │ \u001b[2mNULL\u001b[0m   │ \u001b[2mNULL\u001b[0m   │ \u001b[1m[\u001b[0m\u001b[1m]\u001b[0m          │ \u001b[1m[\u001b[0m\u001b[1m]\u001b[0m          │ \u001b[1m[\u001b[0m\u001b[1m]\u001b[0m            │ \u001b[1m[\u001b[0m\u001b[1m]\u001b[0m             │ \u001b[1m[\u001b[0m\u001b[1m]\u001b[0m          │ \u001b[2mNULL\u001b[0m             │\n",
       "│ \u001b[32m12:HB 103\u001b[0m │                \u001b[1;36m12\u001b[0m │ \u001b[32mHB 103    \u001b[0m │ \u001b[2mNULL\u001b[0m     │ \u001b[1m[\u001b[0m\u001b[1m]\u001b[0m          │ False       │ False   │ \u001b[32mREPEAL FISHERY BU~INESS TAX/RELATED AMENDS; ED    \u001b[0m │ \u001b[32m0         \u001b[0m │ \u001b[32mIN (H) RESOURCES THEN FINANCE   \u001b[0m │ \u001b[2mNULL\u001b[0m   │  \u001b[2mNULL\u001b[0m │ \u001b[2mNULL\u001b[0m       │ \u001b[1m[\u001b[0m\u001b[1m]\u001b[0m            │ \u001b[2mNULL\u001b[0m              │ \u001b[2mNULL\u001b[0m    │ \u001b[2mNULL\u001b[0m   │ \u001b[2mNULL\u001b[0m   │ \u001b[1m[\u001b[0m\u001b[1m]\u001b[0m          │ \u001b[1m[\u001b[0m\u001b[1m]\u001b[0m          │ \u001b[1m[\u001b[0m\u001b[1m]\u001b[0m            │ \u001b[1m[\u001b[0m\u001b[1m]\u001b[0m             │ \u001b[1m[\u001b[0m\u001b[1m]\u001b[0m          │ \u001b[2mNULL\u001b[0m             │\n",
       "│ \u001b[32m12:HB 104\u001b[0m │                \u001b[1;36m12\u001b[0m │ \u001b[32mHB 104    \u001b[0m │ \u001b[2mNULL\u001b[0m     │ \u001b[1m[\u001b[0m\u001b[1m]\u001b[0m          │ False       │ False   │ \u001b[32mSPEC APPROP/CONST SCHOOL/CHINIAK; ED              \u001b[0m │ \u001b[32m0         \u001b[0m │ \u001b[32mIN (H) HESS THEN FINANCE        \u001b[0m │ \u001b[2mNULL\u001b[0m   │  \u001b[2mNULL\u001b[0m │ \u001b[2mNULL\u001b[0m       │ \u001b[1m[\u001b[0m\u001b[1m]\u001b[0m            │ \u001b[2mNULL\u001b[0m              │ \u001b[2mNULL\u001b[0m    │ \u001b[2mNULL\u001b[0m   │ \u001b[2mNULL\u001b[0m   │ \u001b[1m[\u001b[0m\u001b[1m]\u001b[0m          │ \u001b[1m[\u001b[0m\u001b[1m]\u001b[0m          │ \u001b[1m[\u001b[0m\u001b[1m]\u001b[0m            │ \u001b[1m[\u001b[0m\u001b[1m]\u001b[0m             │ \u001b[1m[\u001b[0m\u001b[1m]\u001b[0m          │ \u001b[2mNULL\u001b[0m             │\n",
       "│ \u001b[32m12:HB 105\u001b[0m │                \u001b[1;36m12\u001b[0m │ \u001b[32mHB 105    \u001b[0m │ \u001b[2mNULL\u001b[0m     │ \u001b[1m[\u001b[0m\u001b[1m]\u001b[0m          │ False       │ False   │ \u001b[32mRE/CITIZEN PARTICIPATE/STATE GOV'T                \u001b[0m │ \u001b[32m0         \u001b[0m │ \u001b[32mIN (H) STATE AFFA THEN FINANCE  \u001b[0m │ \u001b[2mNULL\u001b[0m   │  \u001b[2mNULL\u001b[0m │ \u001b[2mNULL\u001b[0m       │ \u001b[1m[\u001b[0m\u001b[1m]\u001b[0m            │ \u001b[2mNULL\u001b[0m              │ \u001b[2mNULL\u001b[0m    │ \u001b[2mNULL\u001b[0m   │ \u001b[2mNULL\u001b[0m   │ \u001b[1m[\u001b[0m\u001b[1m]\u001b[0m          │ \u001b[1m[\u001b[0m\u001b[1m]\u001b[0m          │ \u001b[1m[\u001b[0m\u001b[1m]\u001b[0m            │ \u001b[1m[\u001b[0m\u001b[1m]\u001b[0m             │ \u001b[1m[\u001b[0m\u001b[1m]\u001b[0m          │ \u001b[2mNULL\u001b[0m             │\n",
       "│ \u001b[32m12:HB 106\u001b[0m │                \u001b[1;36m12\u001b[0m │ \u001b[32mHB 106    \u001b[0m │ \u001b[32mSS *    \u001b[0m │ \u001b[1m[\u001b[0m\u001b[1m]\u001b[0m          │ False       │ False   │ \u001b[32mPROV/LICENSE/ATHLETIC THERAPISTS                  \u001b[0m │ \u001b[32m0         \u001b[0m │ \u001b[32mIN (H) HESS THEN FINANCE        \u001b[0m │ \u001b[2mNULL\u001b[0m   │  \u001b[2mNULL\u001b[0m │ \u001b[2mNULL\u001b[0m       │ \u001b[1m[\u001b[0m\u001b[1m]\u001b[0m            │ \u001b[2mNULL\u001b[0m              │ \u001b[2mNULL\u001b[0m    │ \u001b[2mNULL\u001b[0m   │ \u001b[2mNULL\u001b[0m   │ \u001b[1m[\u001b[0m\u001b[1m]\u001b[0m          │ \u001b[1m[\u001b[0m\u001b[1m]\u001b[0m          │ \u001b[1m[\u001b[0m\u001b[1m]\u001b[0m            │ \u001b[1m[\u001b[0m\u001b[1m]\u001b[0m             │ \u001b[1m[\u001b[0m\u001b[1m]\u001b[0m          │ \u001b[2mNULL\u001b[0m             │\n",
       "│ \u001b[32m12:HB 107\u001b[0m │                \u001b[1;36m12\u001b[0m │ \u001b[32mHB 107    \u001b[0m │ \u001b[2mNULL\u001b[0m     │ \u001b[1m[\u001b[0m\u001b[1m]\u001b[0m          │ False       │ False   │ \u001b[32mREQ PUB OFFICERS/LOBBYING/COMPLY WITH AS 24.45; ED\u001b[0m │ \u001b[32m0         \u001b[0m │ \u001b[32mIN (H) STATE AFFA THEN JUDICIARY\u001b[0m │ \u001b[2mNULL\u001b[0m   │  \u001b[2mNULL\u001b[0m │ \u001b[2mNULL\u001b[0m       │ \u001b[1m[\u001b[0m\u001b[1m]\u001b[0m            │ \u001b[2mNULL\u001b[0m              │ \u001b[2mNULL\u001b[0m    │ \u001b[2mNULL\u001b[0m   │ \u001b[2mNULL\u001b[0m   │ \u001b[1m[\u001b[0m\u001b[1m]\u001b[0m          │ \u001b[1m[\u001b[0m\u001b[1m]\u001b[0m          │ \u001b[1m[\u001b[0m\u001b[1m]\u001b[0m            │ \u001b[1m[\u001b[0m\u001b[1m]\u001b[0m             │ \u001b[1m[\u001b[0m\u001b[1m]\u001b[0m          │ \u001b[2mNULL\u001b[0m             │\n",
       "│ \u001b[2m…\u001b[0m         │                 \u001b[2m…\u001b[0m │ \u001b[2m…\u001b[0m          │ \u001b[2m…\u001b[0m        │ \u001b[2m…\u001b[0m           │ \u001b[2m…\u001b[0m           │ \u001b[2m…\u001b[0m       │ \u001b[2m…\u001b[0m                                                  │ \u001b[2m…\u001b[0m          │ \u001b[2m…\u001b[0m                                │ \u001b[2m…\u001b[0m      │     \u001b[2m…\u001b[0m │ \u001b[2m…\u001b[0m          │ \u001b[2m…\u001b[0m             │ \u001b[2m…\u001b[0m                 │ \u001b[2m…\u001b[0m       │ \u001b[2m…\u001b[0m      │ \u001b[2m…\u001b[0m      │ \u001b[2m…\u001b[0m           │ \u001b[2m…\u001b[0m           │ \u001b[2m…\u001b[0m             │ \u001b[2m…\u001b[0m              │ \u001b[2m…\u001b[0m           │ \u001b[2m…\u001b[0m                │\n",
       "└───────────┴───────────────────┴────────────┴──────────┴─────────────┴─────────────┴─────────┴────────────────────────────────────────────────────┴────────────┴──────────────────────────────────┴────────┴───────┴────────────┴───────────────┴───────────────────┴─────────┴────────┴────────┴─────────────┴─────────────┴───────────────┴────────────────┴─────────────┴──────────────────┘"
      ]
     },
     "execution_count": 11,
     "metadata": {},
     "output_type": "execute_result"
    }
   ],
   "source": [
    "i.sql(\"SELECT * FROM local.main.bills\")"
   ]
  },
  {
   "cell_type": "code",
   "execution_count": 11,
   "metadata": {},
   "outputs": [
    {
     "data": {
      "text/plain": [
       "Tables\n",
       "------\n",
       "- bills\n",
       "- choices\n",
       "- legislature_sessions\n",
       "- legislatures\n",
       "- members\n",
       "- people\n",
       "- votes"
      ]
     },
     "execution_count": 11,
     "metadata": {},
     "output_type": "execute_result"
    }
   ],
   "source": [
    "i.tables"
   ]
  },
  {
   "cell_type": "code",
   "execution_count": null,
   "metadata": {},
   "outputs": [],
   "source": [
    "# for t in i.tables:\n",
    "#     i.raw_sql(f\"INSERT INTO {t} SELECT * FROM local.main.{t}\".format(t=t))"
   ]
  },
  {
   "cell_type": "code",
   "execution_count": null,
   "metadata": {},
   "outputs": [],
   "source": []
  }
 ],
 "metadata": {
  "kernelspec": {
   "display_name": ".venv",
   "language": "python",
   "name": "python3"
  },
  "language_info": {
   "codemirror_mode": {
    "name": "ipython",
    "version": 3
   },
   "file_extension": ".py",
   "mimetype": "text/x-python",
   "name": "python",
   "nbconvert_exporter": "python",
   "pygments_lexer": "ipython3",
   "version": "3.11.6"
  }
 },
 "nbformat": 4,
 "nbformat_minor": 2
}
