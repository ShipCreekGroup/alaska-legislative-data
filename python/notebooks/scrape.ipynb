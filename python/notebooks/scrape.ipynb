{
 "cells": [
  {
   "cell_type": "code",
   "execution_count": 1,
   "metadata": {},
   "outputs": [],
   "source": [
    "from alaska_legislative_data import _scrape\n",
    "import logging\n",
    "import nest_asyncio\n",
    "\n",
    "nest_asyncio.apply()\n",
    "\n",
    "logging.basicConfig(level=logging.INFO)"
   ]
  },
  {
   "cell_type": "code",
   "execution_count": 3,
   "metadata": {},
   "outputs": [],
   "source": [
    "legs = _scrape.scrape_legislatures(\".scrape-aio/sessions.json\", cache=True)\n",
    "leg_nums = [leg[\"LegislatureNumber\"] for leg in legs]"
   ]
  },
  {
   "cell_type": "code",
   "execution_count": null,
   "metadata": {},
   "outputs": [
    {
     "name": "stderr",
     "output_type": "stream",
     "text": [
      "INFO:alaska_legislative_data._low:Requesting https://www.akleg.gov/publicservice/basis/members?minifyresult=false&json=true&session=1 with headers {'user-agent': 'Mozilla/5.0 (compatible; MSIE 9.0; Windows NT 6.1; Trident/5.0)', 'X-Alaska-Legislature-Basis-Version': '1.4', 'Accept-Encoding': 'gzip;q=1.0'}\n",
      "INFO:alaska_legislative_data._low:Requesting https://www.akleg.gov/publicservice/basis/members?minifyresult=false&json=true&session=2 with headers {'user-agent': 'Mozilla/5.0 (compatible; MSIE 9.0; Windows NT 6.1; Trident/5.0)', 'X-Alaska-Legislature-Basis-Version': '1.4', 'Accept-Encoding': 'gzip;q=1.0'}\n",
      "INFO:alaska_legislative_data._low:Requesting https://www.akleg.gov/publicservice/basis/members?minifyresult=false&json=true&session=3 with headers {'user-agent': 'Mozilla/5.0 (compatible; MSIE 9.0; Windows NT 6.1; Trident/5.0)', 'X-Alaska-Legislature-Basis-Version': '1.4', 'Accept-Encoding': 'gzip;q=1.0'}\n",
      "INFO:alaska_legislative_data._low:Requesting https://www.akleg.gov/publicservice/basis/members?minifyresult=false&json=true&session=4 with headers {'user-agent': 'Mozilla/5.0 (compatible; MSIE 9.0; Windows NT 6.1; Trident/5.0)', 'X-Alaska-Legislature-Basis-Version': '1.4', 'Accept-Encoding': 'gzip;q=1.0'}\n",
      "INFO:alaska_legislative_data._low:Requesting https://www.akleg.gov/publicservice/basis/members?minifyresult=false&json=true&session=5 with headers {'user-agent': 'Mozilla/5.0 (compatible; MSIE 9.0; Windows NT 6.1; Trident/5.0)', 'X-Alaska-Legislature-Basis-Version': '1.4', 'Accept-Encoding': 'gzip;q=1.0'}\n",
      "INFO:alaska_legislative_data._low:Requesting https://www.akleg.gov/publicservice/basis/members?minifyresult=false&json=true&session=6 with headers {'user-agent': 'Mozilla/5.0 (compatible; MSIE 9.0; Windows NT 6.1; Trident/5.0)', 'X-Alaska-Legislature-Basis-Version': '1.4', 'Accept-Encoding': 'gzip;q=1.0'}\n",
      "INFO:alaska_legislative_data._low:Requesting https://www.akleg.gov/publicservice/basis/members?minifyresult=false&json=true&session=7 with headers {'user-agent': 'Mozilla/5.0 (compatible; MSIE 9.0; Windows NT 6.1; Trident/5.0)', 'X-Alaska-Legislature-Basis-Version': '1.4', 'Accept-Encoding': 'gzip;q=1.0'}\n",
      "INFO:alaska_legislative_data._low:Requesting https://www.akleg.gov/publicservice/basis/members?minifyresult=false&json=true&session=8 with headers {'user-agent': 'Mozilla/5.0 (compatible; MSIE 9.0; Windows NT 6.1; Trident/5.0)', 'X-Alaska-Legislature-Basis-Version': '1.4', 'Accept-Encoding': 'gzip;q=1.0'}\n",
      "INFO:alaska_legislative_data._low:Requesting https://www.akleg.gov/publicservice/basis/members?minifyresult=false&json=true&session=9 with headers {'user-agent': 'Mozilla/5.0 (compatible; MSIE 9.0; Windows NT 6.1; Trident/5.0)', 'X-Alaska-Legislature-Basis-Version': '1.4', 'Accept-Encoding': 'gzip;q=1.0'}\n",
      "WARNING:alaska_legislative_data._low:Retrying 1/3 after error: ReadTimeout('')\n",
      "WARNING:alaska_legislative_data._low:Retrying 1/3 after error: ReadTimeout('')\n",
      "WARNING:alaska_legislative_data._low:Retrying 1/3 after error: ReadTimeout('')\n",
      "WARNING:alaska_legislative_data._low:Retrying 1/3 after error: ReadTimeout('')\n",
      "WARNING:alaska_legislative_data._low:Retrying 1/3 after error: ReadTimeout('')\n",
      "WARNING:alaska_legislative_data._low:Retrying 1/3 after error: ReadTimeout('')\n",
      "WARNING:alaska_legislative_data._low:Retrying 1/3 after error: ReadTimeout('')\n",
      "WARNING:alaska_legislative_data._low:Retrying 1/3 after error: ReadTimeout('')\n",
      "WARNING:alaska_legislative_data._low:Retrying 1/3 after error: ReadTimeout('')\n"
     ]
    },
    {
     "ename": "KeyboardInterrupt",
     "evalue": "",
     "output_type": "error",
     "traceback": [
      "\u001b[0;31m---------------------------------------------------------------------------\u001b[0m",
      "\u001b[0;31mKeyboardInterrupt\u001b[0m                         Traceback (most recent call last)",
      "Cell \u001b[0;32mIn[4], line 1\u001b[0m\n\u001b[0;32m----> 1\u001b[0m members \u001b[38;5;241m=\u001b[39m \u001b[43m_scrape\u001b[49m\u001b[38;5;241;43m.\u001b[39;49m\u001b[43mscrape_members\u001b[49m\u001b[43m(\u001b[49m\u001b[43mlegislature_numbers\u001b[49m\u001b[38;5;241;43m=\u001b[39;49m\u001b[43mleg_nums\u001b[49m\u001b[43m,\u001b[49m\u001b[43m \u001b[49m\u001b[43md\u001b[49m\u001b[38;5;241;43m=\u001b[39;49m\u001b[38;5;124;43m\"\u001b[39;49m\u001b[38;5;124;43m.scrape-aio/members/\u001b[39;49m\u001b[38;5;124;43m\"\u001b[39;49m\u001b[43m,\u001b[49m\u001b[43m \u001b[49m\u001b[43mcache\u001b[49m\u001b[38;5;241;43m=\u001b[39;49m\u001b[38;5;28;43;01mTrue\u001b[39;49;00m\u001b[43m)\u001b[49m\n",
      "File \u001b[0;32m~/code/scg/alaska-legislative-data/python/alaska_legislative_data/_scrape.py:111\u001b[0m, in \u001b[0;36mscrape_members\u001b[0;34m(legislature_numbers, d, cache)\u001b[0m\n\u001b[1;32m    109\u001b[0m     \u001b[38;5;28;01melse\u001b[39;00m:\n\u001b[1;32m    110\u001b[0m         cached_results\u001b[38;5;241m.\u001b[39mappend(json\u001b[38;5;241m.\u001b[39mloads(p\u001b[38;5;241m.\u001b[39mread_text()))\n\u001b[0;32m--> 111\u001b[0m results \u001b[38;5;241m=\u001b[39m \u001b[43masyncio\u001b[49m\u001b[38;5;241;43m.\u001b[39;49m\u001b[43mrun\u001b[49m\u001b[43m(\u001b[49m\u001b[43masyncio\u001b[49m\u001b[38;5;241;43m.\u001b[39;49m\u001b[43mgather\u001b[49m\u001b[43m(\u001b[49m\u001b[38;5;241;43m*\u001b[39;49m\u001b[43mtasks\u001b[49m\u001b[43m)\u001b[49m\u001b[43m)\u001b[49m\n\u001b[1;32m    112\u001b[0m results \u001b[38;5;241m=\u001b[39m [r \u001b[38;5;28;01mfor\u001b[39;00m r \u001b[38;5;129;01min\u001b[39;00m results \u001b[38;5;28;01mif\u001b[39;00m r \u001b[38;5;129;01mis\u001b[39;00m \u001b[38;5;129;01mnot\u001b[39;00m \u001b[38;5;28;01mNone\u001b[39;00m]\n\u001b[1;32m    113\u001b[0m results\u001b[38;5;241m.\u001b[39mextend(cached_results)\n",
      "File \u001b[0;32m~/code/scg/alaska-legislative-data/python/.venv/lib/python3.11/site-packages/nest_asyncio.py:30\u001b[0m, in \u001b[0;36m_patch_asyncio.<locals>.run\u001b[0;34m(main, debug)\u001b[0m\n\u001b[1;32m     28\u001b[0m task \u001b[38;5;241m=\u001b[39m asyncio\u001b[38;5;241m.\u001b[39mensure_future(main)\n\u001b[1;32m     29\u001b[0m \u001b[38;5;28;01mtry\u001b[39;00m:\n\u001b[0;32m---> 30\u001b[0m     \u001b[38;5;28;01mreturn\u001b[39;00m \u001b[43mloop\u001b[49m\u001b[38;5;241;43m.\u001b[39;49m\u001b[43mrun_until_complete\u001b[49m\u001b[43m(\u001b[49m\u001b[43mtask\u001b[49m\u001b[43m)\u001b[49m\n\u001b[1;32m     31\u001b[0m \u001b[38;5;28;01mfinally\u001b[39;00m:\n\u001b[1;32m     32\u001b[0m     \u001b[38;5;28;01mif\u001b[39;00m \u001b[38;5;129;01mnot\u001b[39;00m task\u001b[38;5;241m.\u001b[39mdone():\n",
      "File \u001b[0;32m~/code/scg/alaska-legislative-data/python/.venv/lib/python3.11/site-packages/nest_asyncio.py:92\u001b[0m, in \u001b[0;36m_patch_loop.<locals>.run_until_complete\u001b[0;34m(self, future)\u001b[0m\n\u001b[1;32m     90\u001b[0m     f\u001b[38;5;241m.\u001b[39m_log_destroy_pending \u001b[38;5;241m=\u001b[39m \u001b[38;5;28;01mFalse\u001b[39;00m\n\u001b[1;32m     91\u001b[0m \u001b[38;5;28;01mwhile\u001b[39;00m \u001b[38;5;129;01mnot\u001b[39;00m f\u001b[38;5;241m.\u001b[39mdone():\n\u001b[0;32m---> 92\u001b[0m     \u001b[38;5;28;43mself\u001b[39;49m\u001b[38;5;241;43m.\u001b[39;49m\u001b[43m_run_once\u001b[49m\u001b[43m(\u001b[49m\u001b[43m)\u001b[49m\n\u001b[1;32m     93\u001b[0m     \u001b[38;5;28;01mif\u001b[39;00m \u001b[38;5;28mself\u001b[39m\u001b[38;5;241m.\u001b[39m_stopping:\n\u001b[1;32m     94\u001b[0m         \u001b[38;5;28;01mbreak\u001b[39;00m\n",
      "File \u001b[0;32m~/code/scg/alaska-legislative-data/python/.venv/lib/python3.11/site-packages/nest_asyncio.py:115\u001b[0m, in \u001b[0;36m_patch_loop.<locals>._run_once\u001b[0;34m(self)\u001b[0m\n\u001b[1;32m    108\u001b[0m     heappop(scheduled)\n\u001b[1;32m    110\u001b[0m timeout \u001b[38;5;241m=\u001b[39m (\n\u001b[1;32m    111\u001b[0m     \u001b[38;5;241m0\u001b[39m \u001b[38;5;28;01mif\u001b[39;00m ready \u001b[38;5;129;01mor\u001b[39;00m \u001b[38;5;28mself\u001b[39m\u001b[38;5;241m.\u001b[39m_stopping\n\u001b[1;32m    112\u001b[0m     \u001b[38;5;28;01melse\u001b[39;00m \u001b[38;5;28mmin\u001b[39m(\u001b[38;5;28mmax\u001b[39m(\n\u001b[1;32m    113\u001b[0m         scheduled[\u001b[38;5;241m0\u001b[39m]\u001b[38;5;241m.\u001b[39m_when \u001b[38;5;241m-\u001b[39m \u001b[38;5;28mself\u001b[39m\u001b[38;5;241m.\u001b[39mtime(), \u001b[38;5;241m0\u001b[39m), \u001b[38;5;241m86400\u001b[39m) \u001b[38;5;28;01mif\u001b[39;00m scheduled\n\u001b[1;32m    114\u001b[0m     \u001b[38;5;28;01melse\u001b[39;00m \u001b[38;5;28;01mNone\u001b[39;00m)\n\u001b[0;32m--> 115\u001b[0m event_list \u001b[38;5;241m=\u001b[39m \u001b[38;5;28;43mself\u001b[39;49m\u001b[38;5;241;43m.\u001b[39;49m\u001b[43m_selector\u001b[49m\u001b[38;5;241;43m.\u001b[39;49m\u001b[43mselect\u001b[49m\u001b[43m(\u001b[49m\u001b[43mtimeout\u001b[49m\u001b[43m)\u001b[49m\n\u001b[1;32m    116\u001b[0m \u001b[38;5;28mself\u001b[39m\u001b[38;5;241m.\u001b[39m_process_events(event_list)\n\u001b[1;32m    118\u001b[0m end_time \u001b[38;5;241m=\u001b[39m \u001b[38;5;28mself\u001b[39m\u001b[38;5;241m.\u001b[39mtime() \u001b[38;5;241m+\u001b[39m \u001b[38;5;28mself\u001b[39m\u001b[38;5;241m.\u001b[39m_clock_resolution\n",
      "File \u001b[0;32m~/.pyenv/versions/3.11.6/lib/python3.11/selectors.py:566\u001b[0m, in \u001b[0;36mKqueueSelector.select\u001b[0;34m(self, timeout)\u001b[0m\n\u001b[1;32m    564\u001b[0m ready \u001b[38;5;241m=\u001b[39m []\n\u001b[1;32m    565\u001b[0m \u001b[38;5;28;01mtry\u001b[39;00m:\n\u001b[0;32m--> 566\u001b[0m     kev_list \u001b[38;5;241m=\u001b[39m \u001b[38;5;28mself\u001b[39m\u001b[38;5;241m.\u001b[39m_selector\u001b[38;5;241m.\u001b[39mcontrol(\u001b[38;5;28;01mNone\u001b[39;00m, max_ev, timeout)\n\u001b[1;32m    567\u001b[0m \u001b[38;5;28;01mexcept\u001b[39;00m \u001b[38;5;167;01mInterruptedError\u001b[39;00m:\n\u001b[1;32m    568\u001b[0m     \u001b[38;5;28;01mreturn\u001b[39;00m ready\n",
      "\u001b[0;31mKeyboardInterrupt\u001b[0m: "
     ]
    }
   ],
   "source": [
    "members = _scrape.scrape_members(\n",
    "    legislature_numbers=leg_nums, d=\".scrape-aio/members/\", cache=True\n",
    ")"
   ]
  },
  {
   "cell_type": "code",
   "execution_count": 21,
   "metadata": {},
   "outputs": [
    {
     "name": "stderr",
     "output_type": "stream",
     "text": [
      "INFO:alaska_legislative_data._scrape:Scraping 1533 votes\n"
     ]
    },
    {
     "ename": "TypeError",
     "evalue": "_patch_asyncio.<locals>.run() takes 1 positional argument but 20 were given",
     "output_type": "error",
     "traceback": [
      "\u001b[0;31m---------------------------------------------------------------------------\u001b[0m",
      "\u001b[0;31mTypeError\u001b[0m                                 Traceback (most recent call last)",
      "Cell \u001b[0;32mIn[21], line 1\u001b[0m\n\u001b[0;32m----> 1\u001b[0m \u001b[43m_scrape\u001b[49m\u001b[38;5;241;43m.\u001b[39;49m\u001b[43mscrape_votes\u001b[49m\u001b[43m(\u001b[49m\u001b[43mmembers\u001b[49m\u001b[38;5;241;43m=\u001b[39;49m\u001b[43mmembers\u001b[49m\u001b[43m,\u001b[49m\u001b[43m \u001b[49m\u001b[43md\u001b[49m\u001b[38;5;241;43m=\u001b[39;49m\u001b[38;5;124;43m\"\u001b[39;49m\u001b[38;5;124;43m.scrape-aio/votes/\u001b[39;49m\u001b[38;5;124;43m\"\u001b[39;49m\u001b[43m)\u001b[49m\n",
      "File \u001b[0;32m~/code/scg/alaska-legislative-data/python/alaska_legislative_data/_scrape.py:248\u001b[0m, in \u001b[0;36mscrape_votes\u001b[0;34m(members, d, cache)\u001b[0m\n\u001b[1;32m    246\u001b[0m results \u001b[38;5;241m=\u001b[39m []\n\u001b[1;32m    247\u001b[0m \u001b[38;5;28;01mfor\u001b[39;00m chunk \u001b[38;5;129;01min\u001b[39;00m _chunks(tasks, \u001b[38;5;241m20\u001b[39m):\n\u001b[0;32m--> 248\u001b[0m     results\u001b[38;5;241m.\u001b[39mextend(\u001b[43masyncio\u001b[49m\u001b[38;5;241;43m.\u001b[39;49m\u001b[43mrun\u001b[49m\u001b[43m(\u001b[49m\u001b[38;5;241;43m*\u001b[39;49m\u001b[43mchunk\u001b[49m\u001b[43m)\u001b[49m)\n\u001b[1;32m    249\u001b[0m results \u001b[38;5;241m=\u001b[39m [r \u001b[38;5;28;01mfor\u001b[39;00m r \u001b[38;5;129;01min\u001b[39;00m results \u001b[38;5;28;01mif\u001b[39;00m r \u001b[38;5;129;01mis\u001b[39;00m \u001b[38;5;129;01mnot\u001b[39;00m \u001b[38;5;28;01mNone\u001b[39;00m]\n\u001b[1;32m    250\u001b[0m results\u001b[38;5;241m.\u001b[39mextend(cached_results)\n",
      "\u001b[0;31mTypeError\u001b[0m: _patch_asyncio.<locals>.run() takes 1 positional argument but 20 were given"
     ]
    }
   ],
   "source": [
    "_scrape.scrape_votes(members=members, d=\".scrape-aio/votes/\")"
   ]
  },
  {
   "cell_type": "code",
   "execution_count": null,
   "metadata": {},
   "outputs": [],
   "source": []
  }
 ],
 "metadata": {
  "kernelspec": {
   "display_name": ".venv",
   "language": "python",
   "name": "python3"
  },
  "language_info": {
   "codemirror_mode": {
    "name": "ipython",
    "version": 3
   },
   "file_extension": ".py",
   "mimetype": "text/x-python",
   "name": "python",
   "nbconvert_exporter": "python",
   "pygments_lexer": "ipython3",
   "version": "3.11.6"
  }
 },
 "nbformat": 4,
 "nbformat_minor": 2
}
