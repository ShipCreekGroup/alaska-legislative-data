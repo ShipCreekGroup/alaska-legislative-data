{
 "cells": [
  {
   "cell_type": "code",
   "execution_count": null,
   "metadata": {},
   "outputs": [],
   "source": [
    "from alaska_legislative_data import _scrape\n",
    "import logging\n",
    "import nest_asyncio\n",
    "\n",
    "nest_asyncio.apply()\n",
    "\n",
    "logging.getLogger(\"httpx\").setLevel(logging.WARNING)\n",
    "logging.basicConfig(level=logging.INFO)"
   ]
  },
  {
   "cell_type": "code",
   "execution_count": 2,
   "metadata": {},
   "outputs": [],
   "source": [
    "legs = _scrape.scrape_legislatures(\".scrape-aio/sessions.json\", cache=True)\n",
    "leg_nums = [leg[\"LegislatureNumber\"] for leg in legs]"
   ]
  },
  {
   "cell_type": "code",
   "execution_count": 4,
   "metadata": {},
   "outputs": [],
   "source": [
    "members = _scrape.scrape_members(\n",
    "    legislature_numbers=leg_nums, d=\".scrape-aio/members/\", cache=True\n",
    ")"
   ]
  },
  {
   "cell_type": "code",
   "execution_count": null,
   "metadata": {},
   "outputs": [
    {
     "name": "stderr",
     "output_type": "stream",
     "text": [
      "INFO:alaska_legislative_data._low:Requesting https://www.akleg.gov/publicservice/basis/members?minifyresult=false&json=true&session=19 with headers {'user-agent': 'Mozilla/5.0 (compatible; MSIE 9.0; Windows NT 6.1; Trident/5.0)', 'X-Alaska-Legislature-Basis-Version': '1.4', 'Accept-Encoding': 'gzip;q=1.0', 'X-Alaska-Legislature-Basis-Query': 'members;code=ADA,Votes,Bills'}\n",
      "INFO:alaska_legislative_data._low:Requesting https://www.akleg.gov/publicservice/basis/members?minifyresult=false&json=true&session=19 with headers {'user-agent': 'Mozilla/5.0 (compatible; MSIE 9.0; Windows NT 6.1; Trident/5.0)', 'X-Alaska-Legislature-Basis-Version': '1.4', 'Accept-Encoding': 'gzip;q=1.0', 'X-Alaska-Legislature-Basis-Query': 'members;code=AUS,Votes,Bills'}\n",
      "INFO:alaska_legislative_data._low:Requesting https://www.akleg.gov/publicservice/basis/members?minifyresult=false&json=true&session=19 with headers {'user-agent': 'Mozilla/5.0 (compatible; MSIE 9.0; Windows NT 6.1; Trident/5.0)', 'X-Alaska-Legislature-Basis-Version': '1.4', 'Accept-Encoding': 'gzip;q=1.0', 'X-Alaska-Legislature-Basis-Query': 'members;code=DAB,Votes,Bills'}\n",
      "INFO:alaska_legislative_data._low:Requesting https://www.akleg.gov/publicservice/basis/members?minifyresult=false&json=true&session=19 with headers {'user-agent': 'Mozilla/5.0 (compatible; MSIE 9.0; Windows NT 6.1; Trident/5.0)', 'X-Alaska-Legislature-Basis-Version': '1.4', 'Accept-Encoding': 'gzip;q=1.0', 'X-Alaska-Legislature-Basis-Query': 'members;code=BAR,Votes,Bills'}\n",
      "INFO:alaska_legislative_data._low:Requesting https://www.akleg.gov/publicservice/basis/members?minifyresult=false&json=true&session=19 with headers {'user-agent': 'Mozilla/5.0 (compatible; MSIE 9.0; Windows NT 6.1; Trident/5.0)', 'X-Alaska-Legislature-Basis-Version': '1.4', 'Accept-Encoding': 'gzip;q=1.0', 'X-Alaska-Legislature-Basis-Query': 'members;code=BRI,Votes,Bills'}\n",
      "INFO:alaska_legislative_data._low:Requesting https://www.akleg.gov/publicservice/basis/members?minifyresult=false&json=true&session=19 with headers {'user-agent': 'Mozilla/5.0 (compatible; MSIE 9.0; Windows NT 6.1; Trident/5.0)', 'X-Alaska-Legislature-Basis-Version': '1.4', 'Accept-Encoding': 'gzip;q=1.0', 'X-Alaska-Legislature-Basis-Query': 'members;code=BRO,Votes,Bills'}\n",
      "INFO:alaska_legislative_data._low:Requesting https://www.akleg.gov/publicservice/basis/members?minifyresult=false&json=true&session=19 with headers {'user-agent': 'Mozilla/5.0 (compatible; MSIE 9.0; Windows NT 6.1; Trident/5.0)', 'X-Alaska-Legislature-Basis-Version': '1.4', 'Accept-Encoding': 'gzip;q=1.0', 'X-Alaska-Legislature-Basis-Query': 'members;code=BUN,Votes,Bills'}\n",
      "INFO:alaska_legislative_data._low:Requesting https://www.akleg.gov/publicservice/basis/members?minifyresult=false&json=true&session=19 with headers {'user-agent': 'Mozilla/5.0 (compatible; MSIE 9.0; Windows NT 6.1; Trident/5.0)', 'X-Alaska-Legislature-Basis-Version': '1.4', 'Accept-Encoding': 'gzip;q=1.0', 'X-Alaska-Legislature-Basis-Query': 'members;code=DAV,Votes,Bills'}\n",
      "INFO:alaska_legislative_data._low:Requesting https://www.akleg.gov/publicservice/basis/members?minifyresult=false&json=true&session=19 with headers {'user-agent': 'Mozilla/5.0 (compatible; MSIE 9.0; Windows NT 6.1; Trident/5.0)', 'X-Alaska-Legislature-Basis-Version': '1.4', 'Accept-Encoding': 'gzip;q=1.0', 'X-Alaska-Legislature-Basis-Query': 'members;code=DON,Votes,Bills'}\n",
      "INFO:alaska_legislative_data._low:Requesting https://www.akleg.gov/publicservice/basis/members?minifyresult=false&json=true&session=19 with headers {'user-agent': 'Mozilla/5.0 (compatible; MSIE 9.0; Windows NT 6.1; Trident/5.0)', 'X-Alaska-Legislature-Basis-Version': '1.4', 'Accept-Encoding': 'gzip;q=1.0', 'X-Alaska-Legislature-Basis-Query': 'members;code=DUN,Votes,Bills'}\n",
      "INFO:alaska_legislative_data._low:Requesting https://www.akleg.gov/publicservice/basis/members?minifyresult=false&json=true&session=19 with headers {'user-agent': 'Mozilla/5.0 (compatible; MSIE 9.0; Windows NT 6.1; Trident/5.0)', 'X-Alaska-Legislature-Basis-Version': '1.4', 'Accept-Encoding': 'gzip;q=1.0', 'X-Alaska-Legislature-Basis-Query': 'members;code=ELL,Votes,Bills'}\n",
      "INFO:alaska_legislative_data._low:Requesting https://www.akleg.gov/publicservice/basis/members?minifyresult=false&json=true&session=19 with headers {'user-agent': 'Mozilla/5.0 (compatible; MSIE 9.0; Windows NT 6.1; Trident/5.0)', 'X-Alaska-Legislature-Basis-Version': '1.4', 'Accept-Encoding': 'gzip;q=1.0', 'X-Alaska-Legislature-Basis-Query': 'members;code=ELT,Votes,Bills'}\n",
      "INFO:alaska_legislative_data._low:Requesting https://www.akleg.gov/publicservice/basis/members?minifyresult=false&json=true&session=19 with headers {'user-agent': 'Mozilla/5.0 (compatible; MSIE 9.0; Windows NT 6.1; Trident/5.0)', 'X-Alaska-Legislature-Basis-Version': '1.4', 'Accept-Encoding': 'gzip;q=1.0', 'X-Alaska-Legislature-Basis-Query': 'members;code=FIK,Votes,Bills'}\n",
      "INFO:alaska_legislative_data._low:Requesting https://www.akleg.gov/publicservice/basis/members?minifyresult=false&json=true&session=19 with headers {'user-agent': 'Mozilla/5.0 (compatible; MSIE 9.0; Windows NT 6.1; Trident/5.0)', 'X-Alaska-Legislature-Basis-Version': '1.4', 'Accept-Encoding': 'gzip;q=1.0', 'X-Alaska-Legislature-Basis-Query': 'members;code=FOS,Votes,Bills'}\n",
      "INFO:alaska_legislative_data._low:Requesting https://www.akleg.gov/publicservice/basis/members?minifyresult=false&json=true&session=19 with headers {'user-agent': 'Mozilla/5.0 (compatible; MSIE 9.0; Windows NT 6.1; Trident/5.0)', 'X-Alaska-Legislature-Basis-Version': '1.4', 'Accept-Encoding': 'gzip;q=1.0', 'X-Alaska-Legislature-Basis-Query': 'members;code=FRA,Votes,Bills'}\n",
      "INFO:alaska_legislative_data._low:Requesting https://www.akleg.gov/publicservice/basis/members?minifyresult=false&json=true&session=19 with headers {'user-agent': 'Mozilla/5.0 (compatible; MSIE 9.0; Windows NT 6.1; Trident/5.0)', 'X-Alaska-Legislature-Basis-Version': '1.4', 'Accept-Encoding': 'gzip;q=1.0', 'X-Alaska-Legislature-Basis-Query': 'members;code=DAG,Votes,Bills'}\n",
      "INFO:alaska_legislative_data._low:Requesting https://www.akleg.gov/publicservice/basis/members?minifyresult=false&json=true&session=19 with headers {'user-agent': 'Mozilla/5.0 (compatible; MSIE 9.0; Windows NT 6.1; Trident/5.0)', 'X-Alaska-Legislature-Basis-Version': '1.4', 'Accept-Encoding': 'gzip;q=1.0', 'X-Alaska-Legislature-Basis-Query': 'members;code=GRN,Votes,Bills'}\n",
      "INFO:alaska_legislative_data._low:Requesting https://www.akleg.gov/publicservice/basis/members?minifyresult=false&json=true&session=19 with headers {'user-agent': 'Mozilla/5.0 (compatible; MSIE 9.0; Windows NT 6.1; Trident/5.0)', 'X-Alaska-Legislature-Basis-Version': '1.4', 'Accept-Encoding': 'gzip;q=1.0', 'X-Alaska-Legislature-Basis-Query': 'members;code=GRE,Votes,Bills'}\n",
      "INFO:alaska_legislative_data._low:Requesting https://www.akleg.gov/publicservice/basis/members?minifyresult=false&json=true&session=19 with headers {'user-agent': 'Mozilla/5.0 (compatible; MSIE 9.0; Windows NT 6.1; Trident/5.0)', 'X-Alaska-Legislature-Basis-Version': '1.4', 'Accept-Encoding': 'gzip;q=1.0', 'X-Alaska-Legislature-Basis-Query': 'members;code=GRS,Votes,Bills'}\n",
      "INFO:alaska_legislative_data._low:Requesting https://www.akleg.gov/publicservice/basis/members?minifyresult=false&json=true&session=19 with headers {'user-agent': 'Mozilla/5.0 (compatible; MSIE 9.0; Windows NT 6.1; Trident/5.0)', 'X-Alaska-Legislature-Basis-Version': '1.4', 'Accept-Encoding': 'gzip;q=1.0', 'X-Alaska-Legislature-Basis-Query': 'members;code=HAL,Votes,Bills'}\n",
      "INFO:alaska_legislative_data._low:Requesting https://www.akleg.gov/publicservice/basis/members?minifyresult=false&json=true&session=19 with headers {'user-agent': 'Mozilla/5.0 (compatible; MSIE 9.0; Windows NT 6.1; Trident/5.0)', 'X-Alaska-Legislature-Basis-Version': '1.4', 'Accept-Encoding': 'gzip;q=1.0', 'X-Alaska-Legislature-Basis-Query': 'members;code=HAN,Votes,Bills'}\n",
      "INFO:alaska_legislative_data._low:Requesting https://www.akleg.gov/publicservice/basis/members?minifyresult=false&json=true&session=19 with headers {'user-agent': 'Mozilla/5.0 (compatible; MSIE 9.0; Windows NT 6.1; Trident/5.0)', 'X-Alaska-Legislature-Basis-Version': '1.4', 'Accept-Encoding': 'gzip;q=1.0', 'X-Alaska-Legislature-Basis-Query': 'members;code=HOF,Votes,Bills'}\n",
      "INFO:alaska_legislative_data._low:Requesting https://www.akleg.gov/publicservice/basis/members?minifyresult=false&json=true&session=19 with headers {'user-agent': 'Mozilla/5.0 (compatible; MSIE 9.0; Windows NT 6.1; Trident/5.0)', 'X-Alaska-Legislature-Basis-Version': '1.4', 'Accept-Encoding': 'gzip;q=1.0', 'X-Alaska-Legislature-Basis-Query': 'members;code=IVA,Votes,Bills'}\n",
      "INFO:alaska_legislative_data._low:Requesting https://www.akleg.gov/publicservice/basis/members?minifyresult=false&json=true&session=19 with headers {'user-agent': 'Mozilla/5.0 (compatible; MSIE 9.0; Windows NT 6.1; Trident/5.0)', 'X-Alaska-Legislature-Basis-Version': '1.4', 'Accept-Encoding': 'gzip;q=1.0', 'X-Alaska-Legislature-Basis-Query': 'members;code=JAM,Votes,Bills'}\n",
      "INFO:alaska_legislative_data._low:Requesting https://www.akleg.gov/publicservice/basis/members?minifyresult=false&json=true&session=19 with headers {'user-agent': 'Mozilla/5.0 (compatible; MSIE 9.0; Windows NT 6.1; Trident/5.0)', 'X-Alaska-Legislature-Basis-Version': '1.4', 'Accept-Encoding': 'gzip;q=1.0', 'X-Alaska-Legislature-Basis-Query': 'members;code=KLL,Votes,Bills'}\n",
      "WARNING:alaska_legislative_data._low:Retrying 1/3 after error: ReadTimeout('')\n",
      "WARNING:alaska_legislative_data._low:Retrying 1/3 after error: ReadTimeout('')\n",
      "WARNING:alaska_legislative_data._low:Retrying 1/3 after error: ReadTimeout('')\n",
      "WARNING:alaska_legislative_data._low:Retrying 1/3 after error: ReadTimeout('')\n",
      "WARNING:alaska_legislative_data._low:Retrying 1/3 after error: ReadTimeout('')\n",
      "WARNING:alaska_legislative_data._low:Retrying 1/3 after error: ReadTimeout('')\n",
      "WARNING:alaska_legislative_data._low:Retrying 1/3 after error: ReadTimeout('')\n",
      "WARNING:alaska_legislative_data._low:Retrying 1/3 after error: ReadTimeout('')\n",
      "WARNING:alaska_legislative_data._low:Retrying 1/3 after error: ReadTimeout('')\n",
      "WARNING:alaska_legislative_data._low:Retrying 1/3 after error: ReadTimeout('')\n",
      "WARNING:alaska_legislative_data._low:Retrying 1/3 after error: ReadTimeout('')\n",
      "WARNING:alaska_legislative_data._low:Retrying 1/3 after error: ReadTimeout('')\n",
      "WARNING:alaska_legislative_data._low:Retrying 1/3 after error: ReadTimeout('')\n",
      "WARNING:alaska_legislative_data._low:Retrying 1/3 after error: ReadTimeout('')\n",
      "WARNING:alaska_legislative_data._low:Retrying 1/3 after error: ReadTimeout('')\n",
      "WARNING:alaska_legislative_data._low:Retrying 1/3 after error: ReadTimeout('')\n",
      "WARNING:alaska_legislative_data._low:Retrying 1/3 after error: ReadTimeout('')\n",
      "WARNING:alaska_legislative_data._low:Retrying 1/3 after error: ReadTimeout('')\n",
      "WARNING:alaska_legislative_data._low:Retrying 1/3 after error: ReadTimeout('')\n",
      "WARNING:alaska_legislative_data._low:Retrying 1/3 after error: ReadTimeout('')\n",
      "WARNING:alaska_legislative_data._low:Retrying 1/3 after error: ReadTimeout('')\n",
      "WARNING:alaska_legislative_data._low:Retrying 1/3 after error: ReadTimeout('')\n",
      "WARNING:alaska_legislative_data._low:Retrying 1/3 after error: ReadTimeout('')\n",
      "WARNING:alaska_legislative_data._low:Retrying 1/3 after error: ReadTimeout('')\n",
      "WARNING:alaska_legislative_data._low:Retrying 1/3 after error: ReadTimeout('')\n",
      "WARNING:alaska_legislative_data._low:Retrying 2/3 after error: ReadTimeout('')\n",
      "WARNING:alaska_legislative_data._low:Retrying 2/3 after error: ReadTimeout('')\n",
      "WARNING:alaska_legislative_data._low:Retrying 2/3 after error: ReadTimeout('')\n",
      "WARNING:alaska_legislative_data._low:Retrying 2/3 after error: ReadTimeout('')\n",
      "WARNING:alaska_legislative_data._low:Retrying 2/3 after error: ReadTimeout('')\n",
      "WARNING:alaska_legislative_data._low:Retrying 2/3 after error: ReadTimeout('')\n",
      "WARNING:alaska_legislative_data._low:Retrying 2/3 after error: ReadTimeout('')\n",
      "WARNING:alaska_legislative_data._low:Retrying 2/3 after error: ReadTimeout('')\n",
      "WARNING:alaska_legislative_data._low:Retrying 2/3 after error: ReadTimeout('')\n",
      "WARNING:alaska_legislative_data._low:Retrying 2/3 after error: ReadTimeout('')\n",
      "WARNING:alaska_legislative_data._low:Retrying 2/3 after error: ReadTimeout('')\n",
      "WARNING:alaska_legislative_data._low:Retrying 2/3 after error: ReadTimeout('')\n",
      "WARNING:alaska_legislative_data._low:Retrying 2/3 after error: ReadTimeout('')\n",
      "WARNING:alaska_legislative_data._low:Retrying 2/3 after error: ReadTimeout('')\n",
      "WARNING:alaska_legislative_data._low:Retrying 2/3 after error: ReadTimeout('')\n",
      "WARNING:alaska_legislative_data._low:Retrying 2/3 after error: ReadTimeout('')\n",
      "WARNING:alaska_legislative_data._low:Retrying 2/3 after error: ReadTimeout('')\n",
      "WARNING:alaska_legislative_data._low:Retrying 2/3 after error: ReadTimeout('')\n",
      "WARNING:alaska_legislative_data._low:Retrying 2/3 after error: ReadTimeout('')\n",
      "WARNING:alaska_legislative_data._low:Retrying 2/3 after error: ReadTimeout('')\n",
      "WARNING:alaska_legislative_data._low:Retrying 2/3 after error: ReadTimeout('')\n",
      "WARNING:alaska_legislative_data._low:Retrying 2/3 after error: ReadTimeout('')\n",
      "WARNING:alaska_legislative_data._low:Retrying 2/3 after error: ReadTimeout('')\n",
      "WARNING:alaska_legislative_data._low:Retrying 2/3 after error: ReadTimeout('')\n",
      "WARNING:alaska_legislative_data._low:Retrying 2/3 after error: ReadTimeout('')\n"
     ]
    }
   ],
   "source": [
    "_scrape.scrape_votes(members=members, d=\".scrape-aio/votes/\")"
   ]
  },
  {
   "cell_type": "code",
   "execution_count": null,
   "metadata": {},
   "outputs": [],
   "source": []
  }
 ],
 "metadata": {
  "kernelspec": {
   "display_name": ".venv",
   "language": "python",
   "name": "python3"
  },
  "language_info": {
   "codemirror_mode": {
    "name": "ipython",
    "version": 3
   },
   "file_extension": ".py",
   "mimetype": "text/x-python",
   "name": "python",
   "nbconvert_exporter": "python",
   "pygments_lexer": "ipython3",
   "version": "3.11.6"
  }
 },
 "nbformat": 4,
 "nbformat_minor": 2
}
