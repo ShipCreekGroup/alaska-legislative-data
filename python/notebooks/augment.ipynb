{
 "cells": [
  {
   "cell_type": "code",
   "execution_count": 1,
   "metadata": {},
   "outputs": [],
   "source": [
    "from alaska_legislative_data import _parse, _augment\n",
    "import ibis\n",
    "from ibis import _"
   ]
  },
  {
   "cell_type": "code",
   "execution_count": 2,
   "metadata": {},
   "outputs": [
    {
     "data": {
      "text/plain": [
       "<ParsedTables members=1533, bills=24267, choices=640332, legislatures=34>"
      ]
     },
     "execution_count": 2,
     "metadata": {},
     "output_type": "execute_result"
    }
   ],
   "source": [
    "# parsed = _parse.ParsedTables.from_parquets(\"../.ak-leg-data/parsed\")\n",
    "parsed = _parse.ParsedTables.from_parquets(\"../.ak-leg-data/parsed\")\n",
    "parsed\n",
    "#\n",
    "\n",
    "# augmented = _augment.AugmentedTables.from_parquets(\"../.ak-leg-data/augmented\")\n",
    "# augmented"
   ]
  },
  {
   "cell_type": "code",
   "execution_count": 3,
   "metadata": {},
   "outputs": [],
   "source": [
    "curated = _augment.CuratedData.from_gsheets()"
   ]
  },
  {
   "cell_type": "code",
   "execution_count": 4,
   "metadata": {},
   "outputs": [
    {
     "data": {
      "text/plain": [
       "<AugmentedTables members=2088, bills=24267, votes=20467, legislatures=34, people=600, choices=640332>"
      ]
     },
     "execution_count": 4,
     "metadata": {},
     "output_type": "execute_result"
    }
   ],
   "source": [
    "augmented = _augment.augment_parsed(parsed, curated)\n",
    "augmented"
   ]
  },
  {
   "cell_type": "code",
   "execution_count": 6,
   "metadata": {},
   "outputs": [
    {
     "data": {
      "text/html": [
       "<pre style=\"white-space:pre;overflow-x:auto;line-height:normal;font-family:Menlo,'DejaVu Sans Mono',consolas,'Courier New',monospace\">┏━━━━━━━━━━┳━━━━━━━━━━━━━┓\n",
       "┃<span style=\"font-weight: bold\"> VoteId   </span>┃<span style=\"font-weight: bold\"> CountStar() </span>┃\n",
       "┡━━━━━━━━━━╇━━━━━━━━━━━━━┩\n",
       "│ <span style=\"color: #7f7f7f; text-decoration-color: #7f7f7f\">string</span>   │ <span style=\"color: #7f7f7f; text-decoration-color: #7f7f7f\">int64</span>       │\n",
       "├──────────┼─────────────┤\n",
       "│ <span style=\"color: #008000; text-decoration-color: #008000\">21:H1104</span> │           <span style=\"color: #008080; text-decoration-color: #008080; font-weight: bold\">1</span> │\n",
       "│ <span style=\"color: #008000; text-decoration-color: #008000\">23:S0680</span> │           <span style=\"color: #008080; text-decoration-color: #008080; font-weight: bold\">1</span> │\n",
       "│ <span style=\"color: #008000; text-decoration-color: #008000\">20:H0622</span> │           <span style=\"color: #008080; text-decoration-color: #008080; font-weight: bold\">1</span> │\n",
       "│ <span style=\"color: #008000; text-decoration-color: #008000\">25:H0228</span> │           <span style=\"color: #008080; text-decoration-color: #008080; font-weight: bold\">1</span> │\n",
       "│ <span style=\"color: #008000; text-decoration-color: #008000\">26:H0255</span> │           <span style=\"color: #008080; text-decoration-color: #008080; font-weight: bold\">1</span> │\n",
       "│ <span style=\"color: #008000; text-decoration-color: #008000\">32:H0738</span> │           <span style=\"color: #008080; text-decoration-color: #008080; font-weight: bold\">1</span> │\n",
       "│ <span style=\"color: #008000; text-decoration-color: #008000\">26:H0242</span> │           <span style=\"color: #008080; text-decoration-color: #008080; font-weight: bold\">1</span> │\n",
       "│ <span style=\"color: #008000; text-decoration-color: #008000\">21:H0290</span> │           <span style=\"color: #008080; text-decoration-color: #008080; font-weight: bold\">1</span> │\n",
       "│ <span style=\"color: #008000; text-decoration-color: #008000\">20:S1257</span> │           <span style=\"color: #008080; text-decoration-color: #008080; font-weight: bold\">1</span> │\n",
       "│ <span style=\"color: #008000; text-decoration-color: #008000\">20:H0235</span> │           <span style=\"color: #008080; text-decoration-color: #008080; font-weight: bold\">1</span> │\n",
       "└──────────┴─────────────┘\n",
       "</pre>\n"
      ],
      "text/plain": [
       "┏━━━━━━━━━━┳━━━━━━━━━━━━━┓\n",
       "┃\u001b[1m \u001b[0m\u001b[1mVoteId\u001b[0m\u001b[1m  \u001b[0m\u001b[1m \u001b[0m┃\u001b[1m \u001b[0m\u001b[1mCountStar()\u001b[0m\u001b[1m \u001b[0m┃\n",
       "┡━━━━━━━━━━╇━━━━━━━━━━━━━┩\n",
       "│ \u001b[2mstring\u001b[0m   │ \u001b[2mint64\u001b[0m       │\n",
       "├──────────┼─────────────┤\n",
       "│ \u001b[32m21:H1104\u001b[0m │           \u001b[1;36m1\u001b[0m │\n",
       "│ \u001b[32m23:S0680\u001b[0m │           \u001b[1;36m1\u001b[0m │\n",
       "│ \u001b[32m20:H0622\u001b[0m │           \u001b[1;36m1\u001b[0m │\n",
       "│ \u001b[32m25:H0228\u001b[0m │           \u001b[1;36m1\u001b[0m │\n",
       "│ \u001b[32m26:H0255\u001b[0m │           \u001b[1;36m1\u001b[0m │\n",
       "│ \u001b[32m32:H0738\u001b[0m │           \u001b[1;36m1\u001b[0m │\n",
       "│ \u001b[32m26:H0242\u001b[0m │           \u001b[1;36m1\u001b[0m │\n",
       "│ \u001b[32m21:H0290\u001b[0m │           \u001b[1;36m1\u001b[0m │\n",
       "│ \u001b[32m20:S1257\u001b[0m │           \u001b[1;36m1\u001b[0m │\n",
       "│ \u001b[32m20:H0235\u001b[0m │           \u001b[1;36m1\u001b[0m │\n",
       "└──────────┴─────────────┘"
      ]
     },
     "execution_count": 6,
     "metadata": {},
     "output_type": "execute_result"
    }
   ],
   "source": [
    "augmented.votes.VoteId.topk(10)"
   ]
  },
  {
   "cell_type": "code",
   "execution_count": null,
   "metadata": {},
   "outputs": [
    {
     "data": {
      "text/html": [
       "<pre style=\"white-space:pre;overflow-x:auto;line-height:normal;font-family:Menlo,'DejaVu Sans Mono',consolas,'Courier New',monospace\"></pre>\n"
      ],
      "text/plain": []
     },
     "metadata": {},
     "output_type": "display_data"
    },
    {
     "data": {
      "text/html": [
       "<pre style=\"white-space:pre;overflow-x:auto;line-height:normal;font-family:Menlo,'DejaVu Sans Mono',consolas,'Courier New',monospace\"></pre>\n"
      ],
      "text/plain": []
     },
     "metadata": {},
     "output_type": "display_data"
    },
    {
     "ename": "SignatureValidationError",
     "evalue": "GroupedTable(┏━━━━━━━━━━┳━━━━━━━━━━━━━━━━━━━┳━━━━━━━━━┳━━━━━━━━━━━━┳━━━━━━━━━━━━━━━━━━━━━━━━━━━━━━━━━━━━━━━━━━━━━━━━━━━━━━━━━┳━━\n┃\u001b[1m \u001b[0m\u001b[1mVoteId\u001b[0m\u001b[1m  \u001b[0m\u001b[1m \u001b[0m┃\u001b[1m \u001b[0m\u001b[1mLegislatureNumber\u001b[0m\u001b[1m \u001b[0m┃\u001b[1m \u001b[0m\u001b[1mVoteNum\u001b[0m\u001b[1m \u001b[0m┃\u001b[1m \u001b[0m\u001b[1mVoteDate\u001b[0m\u001b[1m  \u001b[0m\u001b[1m \u001b[0m┃\u001b[1m \u001b[0m\u001b[1mVoteTitle\u001b[0m\u001b[1m                                              \u001b[0m\u001b[1m \u001b[0m┃\u001b[1m \u001b[0m\u001b[1mB\u001b[0m\n┡━━━━━━━━━━╇━━━━━━━━━━━━━━━━━━━╇━━━━━━━━━╇━━━━━━━━━━━━╇━━━━━━━━━━━━━━━━━━━━━━━━━━━━━━━━━━━━━━━━━━━━━━━━━━━━━━━━━╇━━\n│ \u001b[2mstring\u001b[0m   │ \u001b[2mint16\u001b[0m             │ \u001b[2mstring\u001b[0m  │ \u001b[2mdate\u001b[0m       │ \u001b[2mstring\u001b[0m                                                  │ \u001b[2ms\u001b[0m\n├──────────┼───────────────────┼─────────┼────────────┼─────────────────────────────────────────────────────────┼──\n│ \u001b[32m19:H0066\u001b[0m │                \u001b[1;36m19\u001b[0m │ \u001b[32mH0066  \u001b[0m │ \u001b[35m1996-02-14\u001b[0m │ \u001b[32mCSHB 25(FIN)\u001b[0m\u001b[38;5;172m\\n\u001b[0m\u001b[32mThird Reading\u001b[0m\u001b[38;5;172m\\n\u001b[0m\u001b[32mFinal Passage             \u001b[0m │ \u001b[32m1\u001b[0m\n│ \u001b[32m19:H0660\u001b[0m │                \u001b[1;36m19\u001b[0m │ \u001b[32mH0660  \u001b[0m │ \u001b[35m1996-05-03\u001b[0m │ \u001b[32mHCS CSSB 230(FIN) am H\u001b[0m\u001b[38;5;172m\\n\u001b[0m\u001b[32mSecond Reading\u001b[0m\u001b[38;5;172m\\n\u001b[0m\u001b[32mAmendment No. 2\u001b[0m │ \u001b[32m1\u001b[0m\n│ \u001b[32m19:H0661\u001b[0m │                \u001b[1;36m19\u001b[0m │ \u001b[32mH0661  \u001b[0m │ \u001b[35m1996-05-03\u001b[0m │ \u001b[32mHCS CSSB 230(FIN) am H\u001b[0m\u001b[38;5;172m\\n\u001b[0m\u001b[32mThird Reading\u001b[0m\u001b[38;5;172m\\n\u001b[0m\u001b[32mFinal Passage   \u001b[0m │ \u001b[32m1\u001b[0m\n│ \u001b[32m19:H0845\u001b[0m │                \u001b[1;36m19\u001b[0m │ \u001b[32mH0845  \u001b[0m │ \u001b[35m1996-06-06\u001b[0m │ \u001b[32mCSSB 162(FIN)\u001b[0m\u001b[38;5;172m\\n\u001b[0m\u001b[32mOverride Veto                           \u001b[0m │ \u001b[32m1\u001b[0m\n│ \u001b[32m19:H0450\u001b[0m │                \u001b[1;36m19\u001b[0m │ \u001b[32mH0450  \u001b[0m │ \u001b[35m1995-04-25\u001b[0m │ \u001b[32mCSHB 158(FIN) am\u001b[0m\u001b[38;5;172m\\n\u001b[0m\u001b[32mSecond Reading\u001b[0m\u001b[38;5;172m\\n\u001b[0m\u001b[32mAmendment No. 30     \u001b[0m │ \u001b[32m1\u001b[0m\n│ \u001b[32m19:H0436\u001b[0m │                \u001b[1;36m19\u001b[0m │ \u001b[32mH0436  \u001b[0m │ \u001b[35m1996-04-12\u001b[0m │ \u001b[32mSB 308\u001b[0m\u001b[38;5;172m\\n\u001b[0m\u001b[32mSecond Reading\u001b[0m\u001b[38;5;172m\\n\u001b[0m\u001b[32mAdvance to Third Reading       \u001b[0m │ \u001b[32m1\u001b[0m\n│ \u001b[32m19:H0587\u001b[0m │                \u001b[1;36m19\u001b[0m │ \u001b[32mH0587  \u001b[0m │ \u001b[35m1996-04-30\u001b[0m │ \u001b[32mCSHB 482(FIN) am\u001b[0m\u001b[38;5;172m\\n\u001b[0m\u001b[32mSecond Reading\u001b[0m\u001b[38;5;172m\\n\u001b[0m\u001b[32mAmendment No. 2      \u001b[0m │ \u001b[32m1\u001b[0m\n│ \u001b[32m19:S0129\u001b[0m │                \u001b[1;36m19\u001b[0m │ \u001b[32mS0129  \u001b[0m │ \u001b[35m1996-02-29\u001b[0m │ \u001b[32mSCS CSHB 141(RES)\u001b[0m\u001b[38;5;172m\\n\u001b[0m\u001b[32mThird Reading - Final Passage       \u001b[0m │ \u001b[32m1\u001b[0m\n│ \u001b[32m19:S0549\u001b[0m │                \u001b[1;36m19\u001b[0m │ \u001b[32mS0549  \u001b[0m │ \u001b[35m1996-04-27\u001b[0m │ \u001b[32mSCS CSHJR 60(RES)\u001b[0m\u001b[38;5;172m\\n\u001b[0m\u001b[32mThird Reading - Final Passage       \u001b[0m │ \u001b[32m1\u001b[0m\n│ \u001b[32m19:H0341\u001b[0m │                \u001b[1;36m19\u001b[0m │ \u001b[32mH0341  \u001b[0m │ \u001b[35m1995-04-10\u001b[0m │ \u001b[32mCSHB 32(FIN)\u001b[0m\u001b[38;5;172m\\n\u001b[0m\u001b[32mThird Reading\u001b[0m\u001b[38;5;172m\\n\u001b[0m\u001b[32mEffective Date            \u001b[0m │ \u001b[32m1\u001b[0m\n│ \u001b[2m…\u001b[0m        │                 \u001b[2m…\u001b[0m │ \u001b[2m…\u001b[0m       │ \u001b[2m…\u001b[0m          │ \u001b[2m…\u001b[0m                                                       │ \u001b[2m…\u001b[0m\n└──────────┴───────────────────┴─────────┴────────────┴─────────────────────────────────────────────────────────┴──, ()) has failed due to the following errors:\n  `groupings`: () is not a tuple of coercibles to a Value then with length at least 1\n\nExpected signature: GroupedTable(table: Relation, groupings: Annotated[tuple[Value, ...], Length(at_least=1, at_most=None)], orderings: tuple[SortKey, ...] = (), havings: tuple[Value[Boolean, DataShape], ...] = ())",
     "output_type": "error",
     "traceback": [
      "\u001b[0;31m---------------------------------------------------------------------------\u001b[0m",
      "\u001b[0;31mSignatureValidationError\u001b[0m                  Traceback (most recent call last)",
      "Cell \u001b[0;32mIn[5], line 1\u001b[0m\n\u001b[0;32m----> 1\u001b[0m \u001b[43maugmented\u001b[49m\u001b[38;5;241;43m.\u001b[39;49m\u001b[43mvotes\u001b[49m\u001b[38;5;241;43m.\u001b[39;49m\u001b[43mgroup_by\u001b[49m\u001b[43m(\u001b[49m\u001b[43m)\u001b[49m\n",
      "File \u001b[0;32m~/code/scg/alaska-legislative-data/python/.venv/lib/python3.11/site-packages/ibis/expr/types/relations.py:893\u001b[0m, in \u001b[0;36mTable.group_by\u001b[0;34m(self, *by, **key_exprs)\u001b[0m\n\u001b[1;32m    891\u001b[0m by \u001b[38;5;241m=\u001b[39m \u001b[38;5;28mtuple\u001b[39m(v \u001b[38;5;28;01mfor\u001b[39;00m v \u001b[38;5;129;01min\u001b[39;00m by \u001b[38;5;28;01mif\u001b[39;00m v \u001b[38;5;129;01mis\u001b[39;00m \u001b[38;5;129;01mnot\u001b[39;00m \u001b[38;5;28;01mNone\u001b[39;00m)\n\u001b[1;32m    892\u001b[0m groups \u001b[38;5;241m=\u001b[39m \u001b[38;5;28mself\u001b[39m\u001b[38;5;241m.\u001b[39mbind(\u001b[38;5;241m*\u001b[39mby, \u001b[38;5;241m*\u001b[39m\u001b[38;5;241m*\u001b[39mkey_exprs)\n\u001b[0;32m--> 893\u001b[0m \u001b[38;5;28;01mreturn\u001b[39;00m \u001b[43mGroupedTable\u001b[49m\u001b[43m(\u001b[49m\u001b[38;5;28;43mself\u001b[39;49m\u001b[43m,\u001b[49m\u001b[43m \u001b[49m\u001b[43mgroups\u001b[49m\u001b[43m)\u001b[49m\n",
      "File \u001b[0;32m~/code/scg/alaska-legislative-data/python/.venv/lib/python3.11/site-packages/ibis/common/bases.py:72\u001b[0m, in \u001b[0;36mAbstractMeta.__call__\u001b[0;34m(cls, *args, **kwargs)\u001b[0m\n\u001b[1;32m     52\u001b[0m \u001b[38;5;28;01mdef\u001b[39;00m\u001b[38;5;250m \u001b[39m\u001b[38;5;21m__call__\u001b[39m(\u001b[38;5;28mcls\u001b[39m, \u001b[38;5;241m*\u001b[39margs, \u001b[38;5;241m*\u001b[39m\u001b[38;5;241m*\u001b[39mkwargs):\n\u001b[1;32m     53\u001b[0m \u001b[38;5;250m    \u001b[39m\u001b[38;5;124;03m\"\"\"Create a new instance of the class.\u001b[39;00m\n\u001b[1;32m     54\u001b[0m \n\u001b[1;32m     55\u001b[0m \u001b[38;5;124;03m    The subclass may override the `__create__` classmethod to change the\u001b[39;00m\n\u001b[0;32m   (...)\u001b[0m\n\u001b[1;32m     70\u001b[0m \n\u001b[1;32m     71\u001b[0m \u001b[38;5;124;03m    \"\"\"\u001b[39;00m\n\u001b[0;32m---> 72\u001b[0m     \u001b[38;5;28;01mreturn\u001b[39;00m \u001b[38;5;28;43mcls\u001b[39;49m\u001b[38;5;241;43m.\u001b[39;49m\u001b[43m__create__\u001b[49m\u001b[43m(\u001b[49m\u001b[38;5;241;43m*\u001b[39;49m\u001b[43margs\u001b[49m\u001b[43m,\u001b[49m\u001b[43m \u001b[49m\u001b[38;5;241;43m*\u001b[39;49m\u001b[38;5;241;43m*\u001b[39;49m\u001b[43mkwargs\u001b[49m\u001b[43m)\u001b[49m\n",
      "File \u001b[0;32m~/code/scg/alaska-legislative-data/python/.venv/lib/python3.11/site-packages/ibis/common/grounds.py:119\u001b[0m, in \u001b[0;36mAnnotable.__create__\u001b[0;34m(cls, *args, **kwargs)\u001b[0m\n\u001b[1;32m    116\u001b[0m \u001b[38;5;129m@classmethod\u001b[39m\n\u001b[1;32m    117\u001b[0m \u001b[38;5;28;01mdef\u001b[39;00m\u001b[38;5;250m \u001b[39m\u001b[38;5;21m__create__\u001b[39m(\u001b[38;5;28mcls\u001b[39m, \u001b[38;5;241m*\u001b[39margs: Any, \u001b[38;5;241m*\u001b[39m\u001b[38;5;241m*\u001b[39mkwargs: Any) \u001b[38;5;241m-\u001b[39m\u001b[38;5;241m>\u001b[39m Self:\n\u001b[1;32m    118\u001b[0m     \u001b[38;5;66;03m# construct the instance by passing only validated keyword arguments\u001b[39;00m\n\u001b[0;32m--> 119\u001b[0m     kwargs \u001b[38;5;241m=\u001b[39m \u001b[38;5;28;43mcls\u001b[39;49m\u001b[38;5;241;43m.\u001b[39;49m\u001b[43m__signature__\u001b[49m\u001b[38;5;241;43m.\u001b[39;49m\u001b[43mvalidate\u001b[49m\u001b[43m(\u001b[49m\u001b[38;5;28;43mcls\u001b[39;49m\u001b[43m,\u001b[49m\u001b[43m \u001b[49m\u001b[43margs\u001b[49m\u001b[43m,\u001b[49m\u001b[43m \u001b[49m\u001b[43mkwargs\u001b[49m\u001b[43m)\u001b[49m\n\u001b[1;32m    120\u001b[0m     \u001b[38;5;28;01mreturn\u001b[39;00m \u001b[38;5;28msuper\u001b[39m()\u001b[38;5;241m.\u001b[39m__create__(\u001b[38;5;241m*\u001b[39m\u001b[38;5;241m*\u001b[39mkwargs)\n",
      "File \u001b[0;32m~/code/scg/alaska-legislative-data/python/.venv/lib/python3.11/site-packages/ibis/common/annotations.py:501\u001b[0m, in \u001b[0;36mSignature.validate\u001b[0;34m(self, func, args, kwargs)\u001b[0m\n\u001b[1;32m    498\u001b[0m         this[name] \u001b[38;5;241m=\u001b[39m result\n\u001b[1;32m    500\u001b[0m \u001b[38;5;28;01mif\u001b[39;00m errors:\n\u001b[0;32m--> 501\u001b[0m     \u001b[38;5;28;01mraise\u001b[39;00m SignatureValidationError(\n\u001b[1;32m    502\u001b[0m         \u001b[38;5;124m\"\u001b[39m\u001b[38;5;132;01m{call}\u001b[39;00m\u001b[38;5;124m has failed due to the following errors:\u001b[39m\u001b[38;5;132;01m{errors}\u001b[39;00m\u001b[38;5;130;01m\\n\u001b[39;00m\u001b[38;5;130;01m\\n\u001b[39;00m\u001b[38;5;124mExpected signature: \u001b[39m\u001b[38;5;132;01m{sig}\u001b[39;00m\u001b[38;5;124m\"\u001b[39m,\n\u001b[1;32m    503\u001b[0m         sig\u001b[38;5;241m=\u001b[39m\u001b[38;5;28mself\u001b[39m,\n\u001b[1;32m    504\u001b[0m         func\u001b[38;5;241m=\u001b[39mfunc,\n\u001b[1;32m    505\u001b[0m         args\u001b[38;5;241m=\u001b[39margs,\n\u001b[1;32m    506\u001b[0m         kwargs\u001b[38;5;241m=\u001b[39mkwargs,\n\u001b[1;32m    507\u001b[0m         errors\u001b[38;5;241m=\u001b[39merrors,\n\u001b[1;32m    508\u001b[0m     )\n\u001b[1;32m    510\u001b[0m \u001b[38;5;28;01mreturn\u001b[39;00m this\n",
      "\u001b[0;31mSignatureValidationError\u001b[0m: GroupedTable(┏━━━━━━━━━━┳━━━━━━━━━━━━━━━━━━━┳━━━━━━━━━┳━━━━━━━━━━━━┳━━━━━━━━━━━━━━━━━━━━━━━━━━━━━━━━━━━━━━━━━━━━━━━━━━━━━━━━━━━━\n┃\u001b[1m \u001b[0m\u001b[1mVoteId\u001b[0m\u001b[1m  \u001b[0m\u001b[1m \u001b[0m┃\u001b[1m \u001b[0m\u001b[1mLegislatureNumber\u001b[0m\u001b[1m \u001b[0m┃\u001b[1m \u001b[0m\u001b[1mVoteNum\u001b[0m\u001b[1m \u001b[0m┃\u001b[1m \u001b[0m\u001b[1mVoteDate\u001b[0m\u001b[1m  \u001b[0m\u001b[1m \u001b[0m┃\u001b[1m \u001b[0m\u001b[1mVoteTitle\u001b[0m\u001b[1m                                                  \u001b[0m\n┡━━━━━━━━━━╇━━━━━━━━━━━━━━━━━━━╇━━━━━━━━━╇━━━━━━━━━━━━╇━━━━━━━━━━━━━━━━━━━━━━━━━━━━━━━━━━━━━━━━━━━━━━━━━━━━━━━━━━━━\n│ \u001b[2mstring\u001b[0m   │ \u001b[2mint16\u001b[0m             │ \u001b[2mstring\u001b[0m  │ \u001b[2mdate\u001b[0m       │ \u001b[2mstring\u001b[0m                                                     \n├──────────┼───────────────────┼─────────┼────────────┼────────────────────────────────────────────────────────────\n│ \u001b[32m19:H0199\u001b[0m │                \u001b[1;36m19\u001b[0m │ \u001b[32mH0199  \u001b[0m │ \u001b[35m1996-03-18\u001b[0m │ \u001b[32mHB 523\u001b[0m\u001b[38;5;172m\\n\u001b[0m\u001b[32mThird Reading\u001b[0m\u001b[38;5;172m\\n\u001b[0m\u001b[32mFinal Passage                       \u001b[0m\n│ \u001b[32m19:H0612\u001b[0m │                \u001b[1;36m19\u001b[0m │ \u001b[32mH0612  \u001b[0m │ \u001b[35m1996-05-01\u001b[0m │ \u001b[32mCSHB 136(FIN)\u001b[0m\u001b[38;5;172m\\n\u001b[0m\u001b[32mSecond Reading\u001b[0m\u001b[38;5;172m\\n\u001b[0m\u001b[32mAmendment No. 1             \u001b[0m\n│ \u001b[32m19:H0697\u001b[0m │                \u001b[1;36m19\u001b[0m │ \u001b[32mH0697  \u001b[0m │ \u001b[35m1996-05-04\u001b[0m │ \u001b[32mCSSJR 31(FIN) am H\u001b[0m\u001b[38;5;172m\\n\u001b[0m\u001b[32mSecond Reading\u001b[0m\u001b[38;5;172m\\n\u001b[0m\u001b[32mAmendment No. 3        \u001b[0m\n│ \u001b[32m19:H0170\u001b[0m │                \u001b[1;36m19\u001b[0m │ \u001b[32mH0170  \u001b[0m │ \u001b[35m1995-03-10\u001b[0m │ \u001b[32mCSHJR 22(STA)--RECONSIDERATION\u001b[0m\u001b[38;5;172m\\n\u001b[0m\u001b[32mSecond Reading\u001b[0m\u001b[38;5;172m\\n\u001b[0m\u001b[32mAmendment N\u001b[0m\n│ \u001b[32m19:H0622\u001b[0m │                \u001b[1;36m19\u001b[0m │ \u001b[32mH0622  \u001b[0m │ \u001b[35m1996-05-01\u001b[0m │ \u001b[32mHCS SB 321(JUD)\u001b[0m\u001b[38;5;172m\\n\u001b[0m\u001b[32mLetter of Intent                          \u001b[0m\n│ \u001b[32m19:H0738\u001b[0m │                \u001b[1;36m19\u001b[0m │ \u001b[32mH0738  \u001b[0m │ \u001b[35m1996-05-06\u001b[0m │ \u001b[32mCSSB 283(RLS)--RECONSIDERATION\u001b[0m\u001b[38;5;172m\\n\u001b[0m\u001b[32mThird Reading\u001b[0m\u001b[38;5;172m\\n\u001b[0m\u001b[32mFinal Passag\u001b[0m\n│ \u001b[32m19:H0793\u001b[0m │                \u001b[1;36m19\u001b[0m │ \u001b[32mH0793  \u001b[0m │ \u001b[35m1996-05-07\u001b[0m │ \u001b[32mSCS CSHB 405(RLS)\u001b[0m\u001b[38;5;172m\\n\u001b[0m\u001b[32mConcur                                  \u001b[0m\n│ \u001b[32m19:H0417\u001b[0m │                \u001b[1;36m19\u001b[0m │ \u001b[32mH0417  \u001b[0m │ \u001b[35m1996-04-03\u001b[0m │ \u001b[32mCSHB 412(FIN) am--RECONSIDERATION\u001b[0m\u001b[38;5;172m\\n\u001b[0m\u001b[32mThird Reading\u001b[0m\u001b[38;5;172m\\n\u001b[0m\u001b[32mBudget Re\u001b[0m\n│ \u001b[32m19:H0562\u001b[0m │                \u001b[1;36m19\u001b[0m │ \u001b[32mH0562  \u001b[0m │ \u001b[35m1996-04-26\u001b[0m │ \u001b[32mSCS CSHB 335(FIN)\u001b[0m\u001b[38;5;172m\\n\u001b[0m\u001b[32mConcur                                  \u001b[0m\n│ \u001b[32m19:H0774\u001b[0m │                \u001b[1;36m19\u001b[0m │ \u001b[32mH0774  \u001b[0m │ \u001b[35m1996-05-07\u001b[0m │ \u001b[32mSCS CSHB 202(FIN)\u001b[0m\u001b[38;5;172m\\n\u001b[0m\u001b[32mConcur                                  \u001b[0m\n│ \u001b[2m…\u001b[0m        │                 \u001b[2m…\u001b[0m │ \u001b[2m…\u001b[0m       │ \u001b[2m…\u001b[0m          │ \u001b[2m…\u001b[0m                                                          \n└──────────┴───────────────────┴─────────┴────────────┴────────────────────────────────────────────────────────────, ()) has failed due to the following errors:\n  `groupings`: () is not a tuple of coercibles to a Value then with length at least 1\n\nExpected signature: GroupedTable(table: Relation, groupings: Annotated[tuple[Value, ...], Length(at_least=1, at_most=None)], orderings: tuple[SortKey, ...] = (), havings: tuple[Value[Boolean, DataShape], ...] = ())"
     ]
    }
   ],
   "source": [
    "augmented.votes.group_by(\"VoteId\")."
   ]
  },
  {
   "cell_type": "code",
   "execution_count": null,
   "metadata": {},
   "outputs": [],
   "source": []
  }
 ],
 "metadata": {
  "kernelspec": {
   "display_name": ".venv",
   "language": "python",
   "name": "python3"
  },
  "language_info": {
   "codemirror_mode": {
    "name": "ipython",
    "version": 3
   },
   "file_extension": ".py",
   "mimetype": "text/x-python",
   "name": "python",
   "nbconvert_exporter": "python",
   "pygments_lexer": "ipython3",
   "version": "3.11.6"
  }
 },
 "nbformat": 4,
 "nbformat_minor": 2
}
