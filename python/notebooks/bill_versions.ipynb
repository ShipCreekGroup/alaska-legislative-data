{
 "cells": [
  {
   "cell_type": "code",
   "execution_count": 1,
   "id": "67eb319e",
   "metadata": {},
   "outputs": [],
   "source": [
    "import ibis\n",
    "from ibis import _\n",
    "import logging\n",
    "import os\n",
    "\n",
    "from alaska_legislative_data import _db\n",
    "from alaska_legislative_data import _low, _scrape, _ingest\n",
    "import asyncio\n",
    "import nest_asyncio\n",
    "\n",
    "nest_asyncio.apply()\n",
    "\n",
    "logging.basicConfig(level=logging.INFO)\n",
    "logging.getLogger(\"httpcore\").setLevel(logging.WARNING)\n",
    "logging.getLogger(\"httpx\").setLevel(logging.WARNING)"
   ]
  },
  {
   "cell_type": "code",
   "execution_count": 2,
   "id": "05ad145c",
   "metadata": {},
   "outputs": [],
   "source": [
    "%load_ext pyinstrument"
   ]
  },
  {
   "cell_type": "code",
   "execution_count": 14,
   "id": "cb8a7ca9",
   "metadata": {},
   "outputs": [],
   "source": [
    "# _ingest.scrape_and_insert_bill_versions()"
   ]
  },
  {
   "cell_type": "code",
   "execution_count": null,
   "id": "37c31fea",
   "metadata": {},
   "outputs": [
    {
     "name": "stderr",
     "output_type": "stream",
     "text": [
      "INFO:alaska_legislative_data._ingest:Scraping bill versions for 498 bills\n",
      "INFO:alaska_legislative_data._ingest:Scraping bill versions for 50 bills\n",
      "INFO:alaska_legislative_data._ingest:Ingesting 19 bill versions\n",
      "INFO:alaska_legislative_data._ingest:Found 0 new bill versions\n",
      "INFO:alaska_legislative_data._ingest:Scraping bill versions for 50 bills\n",
      "INFO:alaska_legislative_data._ingest:Ingesting 63 bill versions\n",
      "INFO:alaska_legislative_data._ingest:Found 0 new bill versions\n",
      "INFO:alaska_legislative_data._ingest:Scraping bill versions for 50 bills\n",
      "INFO:alaska_legislative_data._ingest:Ingesting 67 bill versions\n",
      "INFO:alaska_legislative_data._ingest:Found 0 new bill versions\n",
      "INFO:alaska_legislative_data._ingest:Scraping bill versions for 50 bills\n",
      "INFO:alaska_legislative_data._ingest:Ingesting 76 bill versions\n",
      "INFO:alaska_legislative_data._ingest:Found 0 new bill versions\n",
      "INFO:alaska_legislative_data._ingest:Scraping bill versions for 50 bills\n"
     ]
    }
   ],
   "source": [
    "%%pyinstrument\n",
    "_ingest.scrape_and_insert_bill_versions()"
   ]
  },
  {
   "cell_type": "code",
   "execution_count": null,
   "id": "73ad357a",
   "metadata": {},
   "outputs": [],
   "source": []
  }
 ],
 "metadata": {
  "kernelspec": {
   "display_name": ".venv",
   "language": "python",
   "name": "python3"
  },
  "language_info": {
   "codemirror_mode": {
    "name": "ipython",
    "version": 3
   },
   "file_extension": ".py",
   "mimetype": "text/x-python",
   "name": "python",
   "nbconvert_exporter": "python",
   "pygments_lexer": "ipython3",
   "version": "3.11.6"
  }
 },
 "nbformat": 4,
 "nbformat_minor": 5
}
