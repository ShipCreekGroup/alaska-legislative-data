{
 "cells": [
  {
   "cell_type": "code",
   "execution_count": 2,
   "metadata": {},
   "outputs": [],
   "source": [
    "import ibis\n",
    "from pathlib import Path\n",
    "import logging\n",
    "import nest_asyncio\n",
    "\n",
    "# from ibis.backends.duckdb import Backend as DuckdbBackend\n",
    "from alaska_legislative_data import _db, _ingest, _curated, _parse, _scrape\n",
    "\n",
    "nest_asyncio.apply()\n",
    "\n",
    "logging.basicConfig(level=logging.INFO)"
   ]
  },
  {
   "cell_type": "code",
   "execution_count": 3,
   "metadata": {},
   "outputs": [
    {
     "data": {
      "text/plain": [
       "Tables\n",
       "------\n",
       "- bills\n",
       "- choices\n",
       "- legislature_sessions\n",
       "- legislatures\n",
       "- members\n",
       "- people\n",
       "- votes"
      ]
     },
     "execution_count": 3,
     "metadata": {},
     "output_type": "execute_result"
    }
   ],
   "source": [
    "db = _db.Backend(\"../ak_leg.duckdb\")\n",
    "db.tables"
   ]
  },
  {
   "cell_type": "code",
   "execution_count": 4,
   "metadata": {},
   "outputs": [],
   "source": [
    "# db.drop_table(\"bills\")"
   ]
  },
  {
   "cell_type": "code",
   "execution_count": 6,
   "metadata": {},
   "outputs": [
    {
     "name": "stderr",
     "output_type": "stream",
     "text": [
      "INFO:alaska_legislative_data._ingest:Desired leg_nums: [12, 13, 14, 15, 16, 17, 18, 19, 20, 21, 22, 23, 24, 25, 26, 27, 28, 29, 30, 31, 32, 33, 34]\n",
      "INFO:alaska_legislative_data._ingest:Existing leg_nums: [1, 2, 3, 4, 5, 6, 7, 8, 9, 10, 11, 12, 13, 14, 15, 16, 17, 18, 19, 20, 21, 22, 23, 24, 25, 26, 27, 28, 29, 30, 31, 32, 33, 34]\n",
      "INFO:alaska_legislative_data._ingest:Missing leg_nums: []\n",
      "INFO:alaska_legislative_data._ingest:Ingesting 0 legislatures\n",
      "INFO:alaska_legislative_data._ingest:Ingesting 0 sessions\n",
      "INFO:alaska_legislative_data._ingest:Found 0 existing legislatures\n",
      "INFO:alaska_legislative_data._ingest:Found 0 new legislatures\n",
      "INFO:alaska_legislative_data._ingest:Found 0 existing sessions\n",
      "INFO:alaska_legislative_data._ingest:Found 0 new sessions\n"
     ]
    }
   ],
   "source": [
    "_ingest.ingest_legislatures_and_sessions(db)"
   ]
  },
  {
   "cell_type": "code",
   "execution_count": 7,
   "metadata": {},
   "outputs": [
    {
     "name": "stderr",
     "output_type": "stream",
     "text": [
      "INFO:alaska_legislative_data._curated:Reading people from /Users/nc/code/scg/alaska-legislative-data/python/alaska_legislative_data/people.csv\n",
      "INFO:alaska_legislative_data._ingest:Ingesting 600 people\n",
      "INFO:alaska_legislative_data._ingest:Found 600 existing people\n",
      "INFO:alaska_legislative_data._ingest:Found 0 new people\n"
     ]
    }
   ],
   "source": [
    "_ingest.ingest_people(db)"
   ]
  },
  {
   "cell_type": "code",
   "execution_count": 8,
   "metadata": {},
   "outputs": [
    {
     "name": "stderr",
     "output_type": "stream",
     "text": [
      "INFO:alaska_legislative_data._curated:Reading members from /Users/nc/code/scg/alaska-legislative-data/python/alaska_legislative_data/members.csv\n"
     ]
    },
    {
     "name": "stderr",
     "output_type": "stream",
     "text": [
      "INFO:alaska_legislative_data._ingest:Ingesting 2149 members\n",
      "INFO:alaska_legislative_data._ingest:Found 2149 existing members\n",
      "INFO:alaska_legislative_data._ingest:Found 0 new members\n"
     ]
    }
   ],
   "source": [
    "_ingest.ingest_members(db)"
   ]
  },
  {
   "cell_type": "code",
   "execution_count": 9,
   "metadata": {},
   "outputs": [
    {
     "name": "stderr",
     "output_type": "stream",
     "text": [
      "INFO:alaska_legislative_data._ingest:Desired leg_nums: [12, 13, 14, 15, 16, 17, 18, 19, 20, 21, 22, 23, 24, 25, 26, 27, 28, 29, 30, 31, 32, 33, 34]\n",
      "INFO:alaska_legislative_data._ingest:Existing leg_nums: [12, 13, 14, 15, 16, 17, 18, 19, 20, 21, 22, 23, 24, 25, 26, 27, 28, 29, 30, 31, 32, 33, 34]\n",
      "INFO:alaska_legislative_data._ingest:Missing leg_nums: []\n",
      "INFO:alaska_legislative_data._ingest:Scraping missing bills for []\n",
      "INFO:alaska_legislative_data._ingest:Ingesting 0 bills\n",
      "INFO:alaska_legislative_data._ingest:Found 0 existing bills\n",
      "INFO:alaska_legislative_data._ingest:Found 0 new bills\n"
     ]
    }
   ],
   "source": [
    "_ingest.ingest_bills(db)"
   ]
  },
  {
   "cell_type": "code",
   "execution_count": null,
   "metadata": {},
   "outputs": [],
   "source": []
  }
 ],
 "metadata": {
  "kernelspec": {
   "display_name": ".venv",
   "language": "python",
   "name": "python3"
  },
  "language_info": {
   "codemirror_mode": {
    "name": "ipython",
    "version": 3
   },
   "file_extension": ".py",
   "mimetype": "text/x-python",
   "name": "python",
   "nbconvert_exporter": "python",
   "pygments_lexer": "ipython3",
   "version": "3.11.6"
  }
 },
 "nbformat": 4,
 "nbformat_minor": 2
}
