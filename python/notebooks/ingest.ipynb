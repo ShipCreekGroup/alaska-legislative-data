{
 "cells": [
  {
   "cell_type": "code",
   "execution_count": null,
   "id": "f10fb3b0",
   "metadata": {},
   "outputs": [],
   "source": [
    "from __future__ import annotations\n",
    "\n",
    "import logging\n",
    "from alaska_legislative_data import _ingest, _curated\n",
    "from nest_asyncio import apply\n",
    "\n",
    "apply()\n",
    "\n",
    "logging.getLogger(\"alaska_legislative_data\").setLevel(logging.INFO)\n",
    "logging.getLogger(\"alaska_legislative_data\").addHandler(logging.StreamHandler())\n",
    "\n",
    "db = _ingest.get_db()"
   ]
  },
  {
   "cell_type": "code",
   "execution_count": 29,
   "id": "21de05eb",
   "metadata": {},
   "outputs": [
    {
     "data": {
      "text/html": [
       "<pre style=\"white-space:pre;overflow-x:auto;line-height:normal;font-family:Menlo,'DejaVu Sans Mono',consolas,'Courier New',monospace\"></pre>\n"
      ],
      "text/plain": []
     },
     "metadata": {},
     "output_type": "display_data"
    },
    {
     "data": {
      "text/plain": [
       "┌──────┐\n",
       "│ \u001b[1;36m2088\u001b[0m │\n",
       "└──────┘"
      ]
     },
     "execution_count": 29,
     "metadata": {},
     "output_type": "execute_result"
    }
   ],
   "source": [
    "db.Member.count()"
   ]
  },
  {
   "cell_type": "code",
   "execution_count": 30,
   "id": "122c7726",
   "metadata": {},
   "outputs": [
    {
     "name": "stderr",
     "output_type": "stream",
     "text": [
      "Reading members from /Users/nc/code/scg/alaska-legislative-data/python/alaska_legislative_data/members.csv\n",
      "Reading members from /Users/nc/code/scg/alaska-legislative-data/python/alaska_legislative_data/members.csv\n"
     ]
    },
    {
     "data": {
      "text/html": [
       "<pre style=\"white-space:pre;overflow-x:auto;line-height:normal;font-family:Menlo,'DejaVu Sans Mono',consolas,'Courier New',monospace\">┏━━━━━━━━━━━━━━━━━━━━━━━━┳━━━━━━━━━━━━━━━━━━━┳━━━━━━━━━━━━━━━━━━━┳━━━━━━━━━━━━┳━━━━━━━━━━━━━━━┳━━━━━━━━━━━━━━━━┳━━━━━━━━━━━━━┳━━━━━━━━━━━━━━━━━━┳━━━━━━━━━━━━━━━━┳━━━━━━━━━━━━━━━┳━━━━━━━━━━━━━┳━━━━━━━━━━━━━┳━━━━━━━━━━━━━━━━┳━━━━━━━━━━━━┓\n",
       "┃<span style=\"font-weight: bold\"> MemberId               </span>┃<span style=\"font-weight: bold\"> LegislatureNumber </span>┃<span style=\"font-weight: bold\"> PersonId          </span>┃<span style=\"font-weight: bold\"> MemberCode </span>┃<span style=\"font-weight: bold\"> MemberChamber </span>┃<span style=\"font-weight: bold\"> MemberDistrict </span>┃<span style=\"font-weight: bold\"> MemberParty </span>┃<span style=\"font-weight: bold\"> MemberIsMajority </span>┃<span style=\"font-weight: bold\"> MemberIsActive </span>┃<span style=\"font-weight: bold\"> MemberComment </span>┃<span style=\"font-weight: bold\"> MemberEMail </span>┃<span style=\"font-weight: bold\"> MemberPhone </span>┃<span style=\"font-weight: bold\"> MemberBuilding </span>┃<span style=\"font-weight: bold\"> MemberRoom </span>┃\n",
       "┡━━━━━━━━━━━━━━━━━━━━━━━━╇━━━━━━━━━━━━━━━━━━━╇━━━━━━━━━━━━━━━━━━━╇━━━━━━━━━━━━╇━━━━━━━━━━━━━━━╇━━━━━━━━━━━━━━━━╇━━━━━━━━━━━━━╇━━━━━━━━━━━━━━━━━━╇━━━━━━━━━━━━━━━━╇━━━━━━━━━━━━━━━╇━━━━━━━━━━━━━╇━━━━━━━━━━━━━╇━━━━━━━━━━━━━━━━╇━━━━━━━━━━━━┩\n",
       "│ <span style=\"color: #7f7f7f; text-decoration-color: #7f7f7f\">string</span>                 │ <span style=\"color: #7f7f7f; text-decoration-color: #7f7f7f\">int64</span>             │ <span style=\"color: #7f7f7f; text-decoration-color: #7f7f7f\">string</span>            │ <span style=\"color: #7f7f7f; text-decoration-color: #7f7f7f\">string</span>     │ <span style=\"color: #7f7f7f; text-decoration-color: #7f7f7f\">string</span>        │ <span style=\"color: #7f7f7f; text-decoration-color: #7f7f7f\">string</span>         │ <span style=\"color: #7f7f7f; text-decoration-color: #7f7f7f\">string</span>      │ <span style=\"color: #7f7f7f; text-decoration-color: #7f7f7f\">boolean</span>          │ <span style=\"color: #7f7f7f; text-decoration-color: #7f7f7f\">boolean</span>        │ <span style=\"color: #7f7f7f; text-decoration-color: #7f7f7f\">string</span>        │ <span style=\"color: #7f7f7f; text-decoration-color: #7f7f7f\">string</span>      │ <span style=\"color: #7f7f7f; text-decoration-color: #7f7f7f\">int64</span>       │ <span style=\"color: #7f7f7f; text-decoration-color: #7f7f7f\">string</span>         │ <span style=\"color: #7f7f7f; text-decoration-color: #7f7f7f\">string</span>     │\n",
       "├────────────────────────┼───────────────────┼───────────────────┼────────────┼───────────────┼────────────────┼─────────────┼──────────────────┼────────────────┼───────────────┼─────────────┼─────────────┼────────────────┼────────────┤\n",
       "│ <span style=\"color: #008000; text-decoration-color: #008000\">1:H::John Rader:1     </span> │                 <span style=\"color: #008080; text-decoration-color: #008080; font-weight: bold\">1</span> │ <span style=\"color: #008000; text-decoration-color: #008000\">John Rader:1     </span> │ <span style=\"color: #7f7f7f; text-decoration-color: #7f7f7f\">NULL</span>       │ <span style=\"color: #008000; text-decoration-color: #008000\">H            </span> │ <span style=\"color: #7f7f7f; text-decoration-color: #7f7f7f\">NULL</span>           │ <span style=\"color: #7f7f7f; text-decoration-color: #7f7f7f\">NULL</span>        │ <span style=\"color: #7f7f7f; text-decoration-color: #7f7f7f\">NULL</span>             │ <span style=\"color: #7f7f7f; text-decoration-color: #7f7f7f\">NULL</span>           │ <span style=\"color: #7f7f7f; text-decoration-color: #7f7f7f\">NULL</span>          │ <span style=\"color: #7f7f7f; text-decoration-color: #7f7f7f\">NULL</span>        │        <span style=\"color: #7f7f7f; text-decoration-color: #7f7f7f\">NULL</span> │ <span style=\"color: #7f7f7f; text-decoration-color: #7f7f7f\">NULL</span>           │ <span style=\"color: #7f7f7f; text-decoration-color: #7f7f7f\">NULL</span>       │\n",
       "│ <span style=\"color: #008000; text-decoration-color: #008000\">1:H::Oral Freeman:1   </span> │                 <span style=\"color: #008080; text-decoration-color: #008080; font-weight: bold\">1</span> │ <span style=\"color: #008000; text-decoration-color: #008000\">Oral Freeman:1   </span> │ <span style=\"color: #7f7f7f; text-decoration-color: #7f7f7f\">NULL</span>       │ <span style=\"color: #008000; text-decoration-color: #008000\">H            </span> │ <span style=\"color: #7f7f7f; text-decoration-color: #7f7f7f\">NULL</span>           │ <span style=\"color: #7f7f7f; text-decoration-color: #7f7f7f\">NULL</span>        │ <span style=\"color: #7f7f7f; text-decoration-color: #7f7f7f\">NULL</span>             │ <span style=\"color: #7f7f7f; text-decoration-color: #7f7f7f\">NULL</span>           │ <span style=\"color: #7f7f7f; text-decoration-color: #7f7f7f\">NULL</span>          │ <span style=\"color: #7f7f7f; text-decoration-color: #7f7f7f\">NULL</span>        │        <span style=\"color: #7f7f7f; text-decoration-color: #7f7f7f\">NULL</span> │ <span style=\"color: #7f7f7f; text-decoration-color: #7f7f7f\">NULL</span>           │ <span style=\"color: #7f7f7f; text-decoration-color: #7f7f7f\">NULL</span>       │\n",
       "│ <span style=\"color: #008000; text-decoration-color: #008000\">1:H::Russ Meekins:1   </span> │                 <span style=\"color: #008080; text-decoration-color: #008080; font-weight: bold\">1</span> │ <span style=\"color: #008000; text-decoration-color: #008000\">Russ Meekins:1   </span> │ <span style=\"color: #7f7f7f; text-decoration-color: #7f7f7f\">NULL</span>       │ <span style=\"color: #008000; text-decoration-color: #008000\">H            </span> │ <span style=\"color: #7f7f7f; text-decoration-color: #7f7f7f\">NULL</span>           │ <span style=\"color: #7f7f7f; text-decoration-color: #7f7f7f\">NULL</span>        │ <span style=\"color: #7f7f7f; text-decoration-color: #7f7f7f\">NULL</span>             │ <span style=\"color: #7f7f7f; text-decoration-color: #7f7f7f\">NULL</span>           │ <span style=\"color: #7f7f7f; text-decoration-color: #7f7f7f\">NULL</span>          │ <span style=\"color: #7f7f7f; text-decoration-color: #7f7f7f\">NULL</span>        │        <span style=\"color: #7f7f7f; text-decoration-color: #7f7f7f\">NULL</span> │ <span style=\"color: #7f7f7f; text-decoration-color: #7f7f7f\">NULL</span>           │ <span style=\"color: #7f7f7f; text-decoration-color: #7f7f7f\">NULL</span>       │\n",
       "│ <span style=\"color: #008000; text-decoration-color: #008000\">1:H::Charles M Jones:1</span> │                 <span style=\"color: #008080; text-decoration-color: #008080; font-weight: bold\">1</span> │ <span style=\"color: #008000; text-decoration-color: #008000\">Charles M Jones:1</span> │ <span style=\"color: #7f7f7f; text-decoration-color: #7f7f7f\">NULL</span>       │ <span style=\"color: #008000; text-decoration-color: #008000\">H            </span> │ <span style=\"color: #7f7f7f; text-decoration-color: #7f7f7f\">NULL</span>           │ <span style=\"color: #7f7f7f; text-decoration-color: #7f7f7f\">NULL</span>        │ <span style=\"color: #7f7f7f; text-decoration-color: #7f7f7f\">NULL</span>             │ <span style=\"color: #7f7f7f; text-decoration-color: #7f7f7f\">NULL</span>           │ <span style=\"color: #7f7f7f; text-decoration-color: #7f7f7f\">NULL</span>          │ <span style=\"color: #7f7f7f; text-decoration-color: #7f7f7f\">NULL</span>        │        <span style=\"color: #7f7f7f; text-decoration-color: #7f7f7f\">NULL</span> │ <span style=\"color: #7f7f7f; text-decoration-color: #7f7f7f\">NULL</span>           │ <span style=\"color: #7f7f7f; text-decoration-color: #7f7f7f\">NULL</span>       │\n",
       "│ <span style=\"color: #008000; text-decoration-color: #008000\">1:H::Allen Peterson:1 </span> │                 <span style=\"color: #008080; text-decoration-color: #008080; font-weight: bold\">1</span> │ <span style=\"color: #008000; text-decoration-color: #008000\">Allen Peterson:1 </span> │ <span style=\"color: #7f7f7f; text-decoration-color: #7f7f7f\">NULL</span>       │ <span style=\"color: #008000; text-decoration-color: #008000\">H            </span> │ <span style=\"color: #7f7f7f; text-decoration-color: #7f7f7f\">NULL</span>           │ <span style=\"color: #7f7f7f; text-decoration-color: #7f7f7f\">NULL</span>        │ <span style=\"color: #7f7f7f; text-decoration-color: #7f7f7f\">NULL</span>             │ <span style=\"color: #7f7f7f; text-decoration-color: #7f7f7f\">NULL</span>           │ <span style=\"color: #7f7f7f; text-decoration-color: #7f7f7f\">NULL</span>          │ <span style=\"color: #7f7f7f; text-decoration-color: #7f7f7f\">NULL</span>        │        <span style=\"color: #7f7f7f; text-decoration-color: #7f7f7f\">NULL</span> │ <span style=\"color: #7f7f7f; text-decoration-color: #7f7f7f\">NULL</span>           │ <span style=\"color: #7f7f7f; text-decoration-color: #7f7f7f\">NULL</span>       │\n",
       "│ <span style=\"color: #008000; text-decoration-color: #008000\">1:H::Andrew Hope:1    </span> │                 <span style=\"color: #008080; text-decoration-color: #008080; font-weight: bold\">1</span> │ <span style=\"color: #008000; text-decoration-color: #008000\">Andrew Hope:1    </span> │ <span style=\"color: #7f7f7f; text-decoration-color: #7f7f7f\">NULL</span>       │ <span style=\"color: #008000; text-decoration-color: #008000\">H            </span> │ <span style=\"color: #7f7f7f; text-decoration-color: #7f7f7f\">NULL</span>           │ <span style=\"color: #7f7f7f; text-decoration-color: #7f7f7f\">NULL</span>        │ <span style=\"color: #7f7f7f; text-decoration-color: #7f7f7f\">NULL</span>             │ <span style=\"color: #7f7f7f; text-decoration-color: #7f7f7f\">NULL</span>           │ <span style=\"color: #7f7f7f; text-decoration-color: #7f7f7f\">NULL</span>          │ <span style=\"color: #7f7f7f; text-decoration-color: #7f7f7f\">NULL</span>        │        <span style=\"color: #7f7f7f; text-decoration-color: #7f7f7f\">NULL</span> │ <span style=\"color: #7f7f7f; text-decoration-color: #7f7f7f\">NULL</span>           │ <span style=\"color: #7f7f7f; text-decoration-color: #7f7f7f\">NULL</span>       │\n",
       "│ <span style=\"color: #008000; text-decoration-color: #008000\">1:H::Axel Johnson:1   </span> │                 <span style=\"color: #008080; text-decoration-color: #008080; font-weight: bold\">1</span> │ <span style=\"color: #008000; text-decoration-color: #008000\">Axel Johnson:1   </span> │ <span style=\"color: #7f7f7f; text-decoration-color: #7f7f7f\">NULL</span>       │ <span style=\"color: #008000; text-decoration-color: #008000\">H            </span> │ <span style=\"color: #7f7f7f; text-decoration-color: #7f7f7f\">NULL</span>           │ <span style=\"color: #7f7f7f; text-decoration-color: #7f7f7f\">NULL</span>        │ <span style=\"color: #7f7f7f; text-decoration-color: #7f7f7f\">NULL</span>             │ <span style=\"color: #7f7f7f; text-decoration-color: #7f7f7f\">NULL</span>           │ <span style=\"color: #7f7f7f; text-decoration-color: #7f7f7f\">NULL</span>          │ <span style=\"color: #7f7f7f; text-decoration-color: #7f7f7f\">NULL</span>        │        <span style=\"color: #7f7f7f; text-decoration-color: #7f7f7f\">NULL</span> │ <span style=\"color: #7f7f7f; text-decoration-color: #7f7f7f\">NULL</span>           │ <span style=\"color: #7f7f7f; text-decoration-color: #7f7f7f\">NULL</span>       │\n",
       "│ <span style=\"color: #008000; text-decoration-color: #008000\">1:H::Blanche McSmith:1</span> │                 <span style=\"color: #008080; text-decoration-color: #008080; font-weight: bold\">1</span> │ <span style=\"color: #008000; text-decoration-color: #008000\">Blanche McSmith:1</span> │ <span style=\"color: #7f7f7f; text-decoration-color: #7f7f7f\">NULL</span>       │ <span style=\"color: #008000; text-decoration-color: #008000\">H            </span> │ <span style=\"color: #7f7f7f; text-decoration-color: #7f7f7f\">NULL</span>           │ <span style=\"color: #7f7f7f; text-decoration-color: #7f7f7f\">NULL</span>        │ <span style=\"color: #7f7f7f; text-decoration-color: #7f7f7f\">NULL</span>             │ <span style=\"color: #7f7f7f; text-decoration-color: #7f7f7f\">NULL</span>           │ <span style=\"color: #7f7f7f; text-decoration-color: #7f7f7f\">NULL</span>          │ <span style=\"color: #7f7f7f; text-decoration-color: #7f7f7f\">NULL</span>        │        <span style=\"color: #7f7f7f; text-decoration-color: #7f7f7f\">NULL</span> │ <span style=\"color: #7f7f7f; text-decoration-color: #7f7f7f\">NULL</span>           │ <span style=\"color: #7f7f7f; text-decoration-color: #7f7f7f\">NULL</span>       │\n",
       "│ <span style=\"color: #008000; text-decoration-color: #008000\">1:H::Bob Giersdorf:1  </span> │                 <span style=\"color: #008080; text-decoration-color: #008080; font-weight: bold\">1</span> │ <span style=\"color: #008000; text-decoration-color: #008000\">Bob Giersdorf:1  </span> │ <span style=\"color: #7f7f7f; text-decoration-color: #7f7f7f\">NULL</span>       │ <span style=\"color: #008000; text-decoration-color: #008000\">H            </span> │ <span style=\"color: #7f7f7f; text-decoration-color: #7f7f7f\">NULL</span>           │ <span style=\"color: #7f7f7f; text-decoration-color: #7f7f7f\">NULL</span>        │ <span style=\"color: #7f7f7f; text-decoration-color: #7f7f7f\">NULL</span>             │ <span style=\"color: #7f7f7f; text-decoration-color: #7f7f7f\">NULL</span>           │ <span style=\"color: #7f7f7f; text-decoration-color: #7f7f7f\">NULL</span>          │ <span style=\"color: #7f7f7f; text-decoration-color: #7f7f7f\">NULL</span>        │        <span style=\"color: #7f7f7f; text-decoration-color: #7f7f7f\">NULL</span> │ <span style=\"color: #7f7f7f; text-decoration-color: #7f7f7f\">NULL</span>           │ <span style=\"color: #7f7f7f; text-decoration-color: #7f7f7f\">NULL</span>       │\n",
       "│ <span style=\"color: #008000; text-decoration-color: #008000\">1:H::Bruce Kendall:1  </span> │                 <span style=\"color: #008080; text-decoration-color: #008080; font-weight: bold\">1</span> │ <span style=\"color: #008000; text-decoration-color: #008000\">Bruce Kendall:1  </span> │ <span style=\"color: #7f7f7f; text-decoration-color: #7f7f7f\">NULL</span>       │ <span style=\"color: #008000; text-decoration-color: #008000\">H            </span> │ <span style=\"color: #7f7f7f; text-decoration-color: #7f7f7f\">NULL</span>           │ <span style=\"color: #7f7f7f; text-decoration-color: #7f7f7f\">NULL</span>        │ <span style=\"color: #7f7f7f; text-decoration-color: #7f7f7f\">NULL</span>             │ <span style=\"color: #7f7f7f; text-decoration-color: #7f7f7f\">NULL</span>           │ <span style=\"color: #7f7f7f; text-decoration-color: #7f7f7f\">NULL</span>          │ <span style=\"color: #7f7f7f; text-decoration-color: #7f7f7f\">NULL</span>        │        <span style=\"color: #7f7f7f; text-decoration-color: #7f7f7f\">NULL</span> │ <span style=\"color: #7f7f7f; text-decoration-color: #7f7f7f\">NULL</span>           │ <span style=\"color: #7f7f7f; text-decoration-color: #7f7f7f\">NULL</span>       │\n",
       "│ <span style=\"color: #7f7f7f; text-decoration-color: #7f7f7f\">…</span>                      │                 <span style=\"color: #7f7f7f; text-decoration-color: #7f7f7f\">…</span> │ <span style=\"color: #7f7f7f; text-decoration-color: #7f7f7f\">…</span>                 │ <span style=\"color: #7f7f7f; text-decoration-color: #7f7f7f\">…</span>          │ <span style=\"color: #7f7f7f; text-decoration-color: #7f7f7f\">…</span>             │ <span style=\"color: #7f7f7f; text-decoration-color: #7f7f7f\">…</span>              │ <span style=\"color: #7f7f7f; text-decoration-color: #7f7f7f\">…</span>           │ <span style=\"color: #7f7f7f; text-decoration-color: #7f7f7f\">…</span>                │ <span style=\"color: #7f7f7f; text-decoration-color: #7f7f7f\">…</span>              │ <span style=\"color: #7f7f7f; text-decoration-color: #7f7f7f\">…</span>             │ <span style=\"color: #7f7f7f; text-decoration-color: #7f7f7f\">…</span>           │           <span style=\"color: #7f7f7f; text-decoration-color: #7f7f7f\">…</span> │ <span style=\"color: #7f7f7f; text-decoration-color: #7f7f7f\">…</span>              │ <span style=\"color: #7f7f7f; text-decoration-color: #7f7f7f\">…</span>          │\n",
       "└────────────────────────┴───────────────────┴───────────────────┴────────────┴───────────────┴────────────────┴─────────────┴──────────────────┴────────────────┴───────────────┴─────────────┴─────────────┴────────────────┴────────────┘\n",
       "</pre>\n"
      ],
      "text/plain": [
       "┏━━━━━━━━━━━━━━━━━━━━━━━━┳━━━━━━━━━━━━━━━━━━━┳━━━━━━━━━━━━━━━━━━━┳━━━━━━━━━━━━┳━━━━━━━━━━━━━━━┳━━━━━━━━━━━━━━━━┳━━━━━━━━━━━━━┳━━━━━━━━━━━━━━━━━━┳━━━━━━━━━━━━━━━━┳━━━━━━━━━━━━━━━┳━━━━━━━━━━━━━┳━━━━━━━━━━━━━┳━━━━━━━━━━━━━━━━┳━━━━━━━━━━━━┓\n",
       "┃\u001b[1m \u001b[0m\u001b[1mMemberId\u001b[0m\u001b[1m              \u001b[0m\u001b[1m \u001b[0m┃\u001b[1m \u001b[0m\u001b[1mLegislatureNumber\u001b[0m\u001b[1m \u001b[0m┃\u001b[1m \u001b[0m\u001b[1mPersonId\u001b[0m\u001b[1m         \u001b[0m\u001b[1m \u001b[0m┃\u001b[1m \u001b[0m\u001b[1mMemberCode\u001b[0m\u001b[1m \u001b[0m┃\u001b[1m \u001b[0m\u001b[1mMemberChamber\u001b[0m\u001b[1m \u001b[0m┃\u001b[1m \u001b[0m\u001b[1mMemberDistrict\u001b[0m\u001b[1m \u001b[0m┃\u001b[1m \u001b[0m\u001b[1mMemberParty\u001b[0m\u001b[1m \u001b[0m┃\u001b[1m \u001b[0m\u001b[1mMemberIsMajority\u001b[0m\u001b[1m \u001b[0m┃\u001b[1m \u001b[0m\u001b[1mMemberIsActive\u001b[0m\u001b[1m \u001b[0m┃\u001b[1m \u001b[0m\u001b[1mMemberComment\u001b[0m\u001b[1m \u001b[0m┃\u001b[1m \u001b[0m\u001b[1mMemberEMail\u001b[0m\u001b[1m \u001b[0m┃\u001b[1m \u001b[0m\u001b[1mMemberPhone\u001b[0m\u001b[1m \u001b[0m┃\u001b[1m \u001b[0m\u001b[1mMemberBuilding\u001b[0m\u001b[1m \u001b[0m┃\u001b[1m \u001b[0m\u001b[1mMemberRoom\u001b[0m\u001b[1m \u001b[0m┃\n",
       "┡━━━━━━━━━━━━━━━━━━━━━━━━╇━━━━━━━━━━━━━━━━━━━╇━━━━━━━━━━━━━━━━━━━╇━━━━━━━━━━━━╇━━━━━━━━━━━━━━━╇━━━━━━━━━━━━━━━━╇━━━━━━━━━━━━━╇━━━━━━━━━━━━━━━━━━╇━━━━━━━━━━━━━━━━╇━━━━━━━━━━━━━━━╇━━━━━━━━━━━━━╇━━━━━━━━━━━━━╇━━━━━━━━━━━━━━━━╇━━━━━━━━━━━━┩\n",
       "│ \u001b[2mstring\u001b[0m                 │ \u001b[2mint64\u001b[0m             │ \u001b[2mstring\u001b[0m            │ \u001b[2mstring\u001b[0m     │ \u001b[2mstring\u001b[0m        │ \u001b[2mstring\u001b[0m         │ \u001b[2mstring\u001b[0m      │ \u001b[2mboolean\u001b[0m          │ \u001b[2mboolean\u001b[0m        │ \u001b[2mstring\u001b[0m        │ \u001b[2mstring\u001b[0m      │ \u001b[2mint64\u001b[0m       │ \u001b[2mstring\u001b[0m         │ \u001b[2mstring\u001b[0m     │\n",
       "├────────────────────────┼───────────────────┼───────────────────┼────────────┼───────────────┼────────────────┼─────────────┼──────────────────┼────────────────┼───────────────┼─────────────┼─────────────┼────────────────┼────────────┤\n",
       "│ \u001b[32m1:H::John Rader:1     \u001b[0m │                 \u001b[1;36m1\u001b[0m │ \u001b[32mJohn Rader:1     \u001b[0m │ \u001b[2mNULL\u001b[0m       │ \u001b[32mH            \u001b[0m │ \u001b[2mNULL\u001b[0m           │ \u001b[2mNULL\u001b[0m        │ \u001b[2mNULL\u001b[0m             │ \u001b[2mNULL\u001b[0m           │ \u001b[2mNULL\u001b[0m          │ \u001b[2mNULL\u001b[0m        │        \u001b[2mNULL\u001b[0m │ \u001b[2mNULL\u001b[0m           │ \u001b[2mNULL\u001b[0m       │\n",
       "│ \u001b[32m1:H::Oral Freeman:1   \u001b[0m │                 \u001b[1;36m1\u001b[0m │ \u001b[32mOral Freeman:1   \u001b[0m │ \u001b[2mNULL\u001b[0m       │ \u001b[32mH            \u001b[0m │ \u001b[2mNULL\u001b[0m           │ \u001b[2mNULL\u001b[0m        │ \u001b[2mNULL\u001b[0m             │ \u001b[2mNULL\u001b[0m           │ \u001b[2mNULL\u001b[0m          │ \u001b[2mNULL\u001b[0m        │        \u001b[2mNULL\u001b[0m │ \u001b[2mNULL\u001b[0m           │ \u001b[2mNULL\u001b[0m       │\n",
       "│ \u001b[32m1:H::Russ Meekins:1   \u001b[0m │                 \u001b[1;36m1\u001b[0m │ \u001b[32mRuss Meekins:1   \u001b[0m │ \u001b[2mNULL\u001b[0m       │ \u001b[32mH            \u001b[0m │ \u001b[2mNULL\u001b[0m           │ \u001b[2mNULL\u001b[0m        │ \u001b[2mNULL\u001b[0m             │ \u001b[2mNULL\u001b[0m           │ \u001b[2mNULL\u001b[0m          │ \u001b[2mNULL\u001b[0m        │        \u001b[2mNULL\u001b[0m │ \u001b[2mNULL\u001b[0m           │ \u001b[2mNULL\u001b[0m       │\n",
       "│ \u001b[32m1:H::Charles M Jones:1\u001b[0m │                 \u001b[1;36m1\u001b[0m │ \u001b[32mCharles M Jones:1\u001b[0m │ \u001b[2mNULL\u001b[0m       │ \u001b[32mH            \u001b[0m │ \u001b[2mNULL\u001b[0m           │ \u001b[2mNULL\u001b[0m        │ \u001b[2mNULL\u001b[0m             │ \u001b[2mNULL\u001b[0m           │ \u001b[2mNULL\u001b[0m          │ \u001b[2mNULL\u001b[0m        │        \u001b[2mNULL\u001b[0m │ \u001b[2mNULL\u001b[0m           │ \u001b[2mNULL\u001b[0m       │\n",
       "│ \u001b[32m1:H::Allen Peterson:1 \u001b[0m │                 \u001b[1;36m1\u001b[0m │ \u001b[32mAllen Peterson:1 \u001b[0m │ \u001b[2mNULL\u001b[0m       │ \u001b[32mH            \u001b[0m │ \u001b[2mNULL\u001b[0m           │ \u001b[2mNULL\u001b[0m        │ \u001b[2mNULL\u001b[0m             │ \u001b[2mNULL\u001b[0m           │ \u001b[2mNULL\u001b[0m          │ \u001b[2mNULL\u001b[0m        │        \u001b[2mNULL\u001b[0m │ \u001b[2mNULL\u001b[0m           │ \u001b[2mNULL\u001b[0m       │\n",
       "│ \u001b[32m1:H::Andrew Hope:1    \u001b[0m │                 \u001b[1;36m1\u001b[0m │ \u001b[32mAndrew Hope:1    \u001b[0m │ \u001b[2mNULL\u001b[0m       │ \u001b[32mH            \u001b[0m │ \u001b[2mNULL\u001b[0m           │ \u001b[2mNULL\u001b[0m        │ \u001b[2mNULL\u001b[0m             │ \u001b[2mNULL\u001b[0m           │ \u001b[2mNULL\u001b[0m          │ \u001b[2mNULL\u001b[0m        │        \u001b[2mNULL\u001b[0m │ \u001b[2mNULL\u001b[0m           │ \u001b[2mNULL\u001b[0m       │\n",
       "│ \u001b[32m1:H::Axel Johnson:1   \u001b[0m │                 \u001b[1;36m1\u001b[0m │ \u001b[32mAxel Johnson:1   \u001b[0m │ \u001b[2mNULL\u001b[0m       │ \u001b[32mH            \u001b[0m │ \u001b[2mNULL\u001b[0m           │ \u001b[2mNULL\u001b[0m        │ \u001b[2mNULL\u001b[0m             │ \u001b[2mNULL\u001b[0m           │ \u001b[2mNULL\u001b[0m          │ \u001b[2mNULL\u001b[0m        │        \u001b[2mNULL\u001b[0m │ \u001b[2mNULL\u001b[0m           │ \u001b[2mNULL\u001b[0m       │\n",
       "│ \u001b[32m1:H::Blanche McSmith:1\u001b[0m │                 \u001b[1;36m1\u001b[0m │ \u001b[32mBlanche McSmith:1\u001b[0m │ \u001b[2mNULL\u001b[0m       │ \u001b[32mH            \u001b[0m │ \u001b[2mNULL\u001b[0m           │ \u001b[2mNULL\u001b[0m        │ \u001b[2mNULL\u001b[0m             │ \u001b[2mNULL\u001b[0m           │ \u001b[2mNULL\u001b[0m          │ \u001b[2mNULL\u001b[0m        │        \u001b[2mNULL\u001b[0m │ \u001b[2mNULL\u001b[0m           │ \u001b[2mNULL\u001b[0m       │\n",
       "│ \u001b[32m1:H::Bob Giersdorf:1  \u001b[0m │                 \u001b[1;36m1\u001b[0m │ \u001b[32mBob Giersdorf:1  \u001b[0m │ \u001b[2mNULL\u001b[0m       │ \u001b[32mH            \u001b[0m │ \u001b[2mNULL\u001b[0m           │ \u001b[2mNULL\u001b[0m        │ \u001b[2mNULL\u001b[0m             │ \u001b[2mNULL\u001b[0m           │ \u001b[2mNULL\u001b[0m          │ \u001b[2mNULL\u001b[0m        │        \u001b[2mNULL\u001b[0m │ \u001b[2mNULL\u001b[0m           │ \u001b[2mNULL\u001b[0m       │\n",
       "│ \u001b[32m1:H::Bruce Kendall:1  \u001b[0m │                 \u001b[1;36m1\u001b[0m │ \u001b[32mBruce Kendall:1  \u001b[0m │ \u001b[2mNULL\u001b[0m       │ \u001b[32mH            \u001b[0m │ \u001b[2mNULL\u001b[0m           │ \u001b[2mNULL\u001b[0m        │ \u001b[2mNULL\u001b[0m             │ \u001b[2mNULL\u001b[0m           │ \u001b[2mNULL\u001b[0m          │ \u001b[2mNULL\u001b[0m        │        \u001b[2mNULL\u001b[0m │ \u001b[2mNULL\u001b[0m           │ \u001b[2mNULL\u001b[0m       │\n",
       "│ \u001b[2m…\u001b[0m                      │                 \u001b[2m…\u001b[0m │ \u001b[2m…\u001b[0m                 │ \u001b[2m…\u001b[0m          │ \u001b[2m…\u001b[0m             │ \u001b[2m…\u001b[0m              │ \u001b[2m…\u001b[0m           │ \u001b[2m…\u001b[0m                │ \u001b[2m…\u001b[0m              │ \u001b[2m…\u001b[0m             │ \u001b[2m…\u001b[0m           │           \u001b[2m…\u001b[0m │ \u001b[2m…\u001b[0m              │ \u001b[2m…\u001b[0m          │\n",
       "└────────────────────────┴───────────────────┴───────────────────┴────────────┴───────────────┴────────────────┴─────────────┴──────────────────┴────────────────┴───────────────┴─────────────┴─────────────┴────────────────┴────────────┘"
      ]
     },
     "execution_count": 30,
     "metadata": {},
     "output_type": "execute_result"
    }
   ],
   "source": [
    "members = _curated.read_members(backend=db)\n",
    "members"
   ]
  },
  {
   "cell_type": "code",
   "execution_count": 33,
   "id": "73acd510",
   "metadata": {},
   "outputs": [
    {
     "data": {
      "text/html": [
       "<pre style=\"white-space:pre;overflow-x:auto;line-height:normal;font-family:Menlo,'DejaVu Sans Mono',consolas,'Courier New',monospace\">┏━━━━━━━━━━━━━━━━━━━━━━━━┳━━━━━━━━━━━━━━━━━━━┳━━━━━━━━━━━━━━━━━━━┳━━━━━━━━━━━━━━━┳━━━━━━━━━━━━━━━━┳━━━━━━━━━━━━━━━━━━┳━━━━━━━━━━━━━┳━━━━━━━━━━━━┓\n",
       "┃<span style=\"font-weight: bold\"> MemberId               </span>┃<span style=\"font-weight: bold\"> LegislatureNumber </span>┃<span style=\"font-weight: bold\"> PersonId          </span>┃<span style=\"font-weight: bold\"> MemberChamber </span>┃<span style=\"font-weight: bold\"> MemberDistrict </span>┃<span style=\"font-weight: bold\"> MemberIsMajority </span>┃<span style=\"font-weight: bold\"> MemberParty </span>┃<span style=\"font-weight: bold\"> MemberCode </span>┃\n",
       "┡━━━━━━━━━━━━━━━━━━━━━━━━╇━━━━━━━━━━━━━━━━━━━╇━━━━━━━━━━━━━━━━━━━╇━━━━━━━━━━━━━━━╇━━━━━━━━━━━━━━━━╇━━━━━━━━━━━━━━━━━━╇━━━━━━━━━━━━━╇━━━━━━━━━━━━┩\n",
       "│ <span style=\"color: #7f7f7f; text-decoration-color: #7f7f7f\">!string</span>                │ <span style=\"color: #7f7f7f; text-decoration-color: #7f7f7f\">!int32</span>            │ <span style=\"color: #7f7f7f; text-decoration-color: #7f7f7f\">!string</span>           │ <span style=\"color: #7f7f7f; text-decoration-color: #7f7f7f\">!string</span>       │ <span style=\"color: #7f7f7f; text-decoration-color: #7f7f7f\">string</span>         │ <span style=\"color: #7f7f7f; text-decoration-color: #7f7f7f\">boolean</span>          │ <span style=\"color: #7f7f7f; text-decoration-color: #7f7f7f\">string</span>      │ <span style=\"color: #7f7f7f; text-decoration-color: #7f7f7f\">string</span>     │\n",
       "├────────────────────────┼───────────────────┼───────────────────┼───────────────┼────────────────┼──────────────────┼─────────────┼────────────┤\n",
       "│ <span style=\"color: #008000; text-decoration-color: #008000\">1:H::Oral Freeman:1   </span> │                 <span style=\"color: #008080; text-decoration-color: #008080; font-weight: bold\">1</span> │ <span style=\"color: #008000; text-decoration-color: #008000\">Oral Freeman:1   </span> │ <span style=\"color: #008000; text-decoration-color: #008000\">H            </span> │ <span style=\"color: #7f7f7f; text-decoration-color: #7f7f7f\">NULL</span>           │ <span style=\"color: #7f7f7f; text-decoration-color: #7f7f7f\">NULL</span>             │ <span style=\"color: #7f7f7f; text-decoration-color: #7f7f7f\">NULL</span>        │ <span style=\"color: #7f7f7f; text-decoration-color: #7f7f7f\">NULL</span>       │\n",
       "│ <span style=\"color: #008000; text-decoration-color: #008000\">1:H::Earl Hillstrand:1</span> │                 <span style=\"color: #008080; text-decoration-color: #008080; font-weight: bold\">1</span> │ <span style=\"color: #008000; text-decoration-color: #008000\">Earl Hillstrand:1</span> │ <span style=\"color: #008000; text-decoration-color: #008000\">H            </span> │ <span style=\"color: #7f7f7f; text-decoration-color: #7f7f7f\">NULL</span>           │ <span style=\"color: #7f7f7f; text-decoration-color: #7f7f7f\">NULL</span>             │ <span style=\"color: #7f7f7f; text-decoration-color: #7f7f7f\">NULL</span>        │ <span style=\"color: #7f7f7f; text-decoration-color: #7f7f7f\">NULL</span>       │\n",
       "│ <span style=\"color: #008000; text-decoration-color: #008000\">1:H::James Hurley:1   </span> │                 <span style=\"color: #008080; text-decoration-color: #008080; font-weight: bold\">1</span> │ <span style=\"color: #008000; text-decoration-color: #008000\">James Hurley:1   </span> │ <span style=\"color: #008000; text-decoration-color: #008000\">H            </span> │ <span style=\"color: #7f7f7f; text-decoration-color: #7f7f7f\">NULL</span>           │ <span style=\"color: #7f7f7f; text-decoration-color: #7f7f7f\">NULL</span>             │ <span style=\"color: #7f7f7f; text-decoration-color: #7f7f7f\">NULL</span>        │ <span style=\"color: #7f7f7f; text-decoration-color: #7f7f7f\">NULL</span>       │\n",
       "│ <span style=\"color: #008000; text-decoration-color: #008000\">1:H::John Rader:1     </span> │                 <span style=\"color: #008080; text-decoration-color: #008080; font-weight: bold\">1</span> │ <span style=\"color: #008000; text-decoration-color: #008000\">John Rader:1     </span> │ <span style=\"color: #008000; text-decoration-color: #008000\">H            </span> │ <span style=\"color: #7f7f7f; text-decoration-color: #7f7f7f\">NULL</span>           │ <span style=\"color: #7f7f7f; text-decoration-color: #7f7f7f\">NULL</span>             │ <span style=\"color: #7f7f7f; text-decoration-color: #7f7f7f\">NULL</span>        │ <span style=\"color: #7f7f7f; text-decoration-color: #7f7f7f\">NULL</span>       │\n",
       "│ <span style=\"color: #008000; text-decoration-color: #008000\">1:H::Charles M Jones:1</span> │                 <span style=\"color: #008080; text-decoration-color: #008080; font-weight: bold\">1</span> │ <span style=\"color: #008000; text-decoration-color: #008000\">Charles M Jones:1</span> │ <span style=\"color: #008000; text-decoration-color: #008000\">H            </span> │ <span style=\"color: #7f7f7f; text-decoration-color: #7f7f7f\">NULL</span>           │ <span style=\"color: #7f7f7f; text-decoration-color: #7f7f7f\">NULL</span>             │ <span style=\"color: #7f7f7f; text-decoration-color: #7f7f7f\">NULL</span>        │ <span style=\"color: #7f7f7f; text-decoration-color: #7f7f7f\">NULL</span>       │\n",
       "│ <span style=\"color: #008000; text-decoration-color: #008000\">1:H::Allen Peterson:1 </span> │                 <span style=\"color: #008080; text-decoration-color: #008080; font-weight: bold\">1</span> │ <span style=\"color: #008000; text-decoration-color: #008000\">Allen Peterson:1 </span> │ <span style=\"color: #008000; text-decoration-color: #008000\">H            </span> │ <span style=\"color: #7f7f7f; text-decoration-color: #7f7f7f\">NULL</span>           │ <span style=\"color: #7f7f7f; text-decoration-color: #7f7f7f\">NULL</span>             │ <span style=\"color: #7f7f7f; text-decoration-color: #7f7f7f\">NULL</span>        │ <span style=\"color: #7f7f7f; text-decoration-color: #7f7f7f\">NULL</span>       │\n",
       "│ <span style=\"color: #008000; text-decoration-color: #008000\">1:H::Andrew Hope:1    </span> │                 <span style=\"color: #008080; text-decoration-color: #008080; font-weight: bold\">1</span> │ <span style=\"color: #008000; text-decoration-color: #008000\">Andrew Hope:1    </span> │ <span style=\"color: #008000; text-decoration-color: #008000\">H            </span> │ <span style=\"color: #7f7f7f; text-decoration-color: #7f7f7f\">NULL</span>           │ <span style=\"color: #7f7f7f; text-decoration-color: #7f7f7f\">NULL</span>             │ <span style=\"color: #7f7f7f; text-decoration-color: #7f7f7f\">NULL</span>        │ <span style=\"color: #7f7f7f; text-decoration-color: #7f7f7f\">NULL</span>       │\n",
       "│ <span style=\"color: #008000; text-decoration-color: #008000\">1:H::Axel Johnson:1   </span> │                 <span style=\"color: #008080; text-decoration-color: #008080; font-weight: bold\">1</span> │ <span style=\"color: #008000; text-decoration-color: #008000\">Axel Johnson:1   </span> │ <span style=\"color: #008000; text-decoration-color: #008000\">H            </span> │ <span style=\"color: #7f7f7f; text-decoration-color: #7f7f7f\">NULL</span>           │ <span style=\"color: #7f7f7f; text-decoration-color: #7f7f7f\">NULL</span>             │ <span style=\"color: #7f7f7f; text-decoration-color: #7f7f7f\">NULL</span>        │ <span style=\"color: #7f7f7f; text-decoration-color: #7f7f7f\">NULL</span>       │\n",
       "│ <span style=\"color: #008000; text-decoration-color: #008000\">1:H::Bob Giersdorf:1  </span> │                 <span style=\"color: #008080; text-decoration-color: #008080; font-weight: bold\">1</span> │ <span style=\"color: #008000; text-decoration-color: #008000\">Bob Giersdorf:1  </span> │ <span style=\"color: #008000; text-decoration-color: #008000\">H            </span> │ <span style=\"color: #7f7f7f; text-decoration-color: #7f7f7f\">NULL</span>           │ <span style=\"color: #7f7f7f; text-decoration-color: #7f7f7f\">NULL</span>             │ <span style=\"color: #7f7f7f; text-decoration-color: #7f7f7f\">NULL</span>        │ <span style=\"color: #7f7f7f; text-decoration-color: #7f7f7f\">NULL</span>       │\n",
       "│ <span style=\"color: #008000; text-decoration-color: #008000\">1:H::Bruce Kendall:1  </span> │                 <span style=\"color: #008080; text-decoration-color: #008080; font-weight: bold\">1</span> │ <span style=\"color: #008000; text-decoration-color: #008000\">Bruce Kendall:1  </span> │ <span style=\"color: #008000; text-decoration-color: #008000\">H            </span> │ <span style=\"color: #7f7f7f; text-decoration-color: #7f7f7f\">NULL</span>           │ <span style=\"color: #7f7f7f; text-decoration-color: #7f7f7f\">NULL</span>             │ <span style=\"color: #7f7f7f; text-decoration-color: #7f7f7f\">NULL</span>        │ <span style=\"color: #7f7f7f; text-decoration-color: #7f7f7f\">NULL</span>       │\n",
       "│ <span style=\"color: #7f7f7f; text-decoration-color: #7f7f7f\">…</span>                      │                 <span style=\"color: #7f7f7f; text-decoration-color: #7f7f7f\">…</span> │ <span style=\"color: #7f7f7f; text-decoration-color: #7f7f7f\">…</span>                 │ <span style=\"color: #7f7f7f; text-decoration-color: #7f7f7f\">…</span>             │ <span style=\"color: #7f7f7f; text-decoration-color: #7f7f7f\">…</span>              │ <span style=\"color: #7f7f7f; text-decoration-color: #7f7f7f\">…</span>                │ <span style=\"color: #7f7f7f; text-decoration-color: #7f7f7f\">…</span>           │ <span style=\"color: #7f7f7f; text-decoration-color: #7f7f7f\">…</span>          │\n",
       "└────────────────────────┴───────────────────┴───────────────────┴───────────────┴────────────────┴──────────────────┴─────────────┴────────────┘\n",
       "</pre>\n"
      ],
      "text/plain": [
       "┏━━━━━━━━━━━━━━━━━━━━━━━━┳━━━━━━━━━━━━━━━━━━━┳━━━━━━━━━━━━━━━━━━━┳━━━━━━━━━━━━━━━┳━━━━━━━━━━━━━━━━┳━━━━━━━━━━━━━━━━━━┳━━━━━━━━━━━━━┳━━━━━━━━━━━━┓\n",
       "┃\u001b[1m \u001b[0m\u001b[1mMemberId\u001b[0m\u001b[1m              \u001b[0m\u001b[1m \u001b[0m┃\u001b[1m \u001b[0m\u001b[1mLegislatureNumber\u001b[0m\u001b[1m \u001b[0m┃\u001b[1m \u001b[0m\u001b[1mPersonId\u001b[0m\u001b[1m         \u001b[0m\u001b[1m \u001b[0m┃\u001b[1m \u001b[0m\u001b[1mMemberChamber\u001b[0m\u001b[1m \u001b[0m┃\u001b[1m \u001b[0m\u001b[1mMemberDistrict\u001b[0m\u001b[1m \u001b[0m┃\u001b[1m \u001b[0m\u001b[1mMemberIsMajority\u001b[0m\u001b[1m \u001b[0m┃\u001b[1m \u001b[0m\u001b[1mMemberParty\u001b[0m\u001b[1m \u001b[0m┃\u001b[1m \u001b[0m\u001b[1mMemberCode\u001b[0m\u001b[1m \u001b[0m┃\n",
       "┡━━━━━━━━━━━━━━━━━━━━━━━━╇━━━━━━━━━━━━━━━━━━━╇━━━━━━━━━━━━━━━━━━━╇━━━━━━━━━━━━━━━╇━━━━━━━━━━━━━━━━╇━━━━━━━━━━━━━━━━━━╇━━━━━━━━━━━━━╇━━━━━━━━━━━━┩\n",
       "│ \u001b[2m!string\u001b[0m                │ \u001b[2m!int32\u001b[0m            │ \u001b[2m!string\u001b[0m           │ \u001b[2m!string\u001b[0m       │ \u001b[2mstring\u001b[0m         │ \u001b[2mboolean\u001b[0m          │ \u001b[2mstring\u001b[0m      │ \u001b[2mstring\u001b[0m     │\n",
       "├────────────────────────┼───────────────────┼───────────────────┼───────────────┼────────────────┼──────────────────┼─────────────┼────────────┤\n",
       "│ \u001b[32m1:H::Oral Freeman:1   \u001b[0m │                 \u001b[1;36m1\u001b[0m │ \u001b[32mOral Freeman:1   \u001b[0m │ \u001b[32mH            \u001b[0m │ \u001b[2mNULL\u001b[0m           │ \u001b[2mNULL\u001b[0m             │ \u001b[2mNULL\u001b[0m        │ \u001b[2mNULL\u001b[0m       │\n",
       "│ \u001b[32m1:H::Earl Hillstrand:1\u001b[0m │                 \u001b[1;36m1\u001b[0m │ \u001b[32mEarl Hillstrand:1\u001b[0m │ \u001b[32mH            \u001b[0m │ \u001b[2mNULL\u001b[0m           │ \u001b[2mNULL\u001b[0m             │ \u001b[2mNULL\u001b[0m        │ \u001b[2mNULL\u001b[0m       │\n",
       "│ \u001b[32m1:H::James Hurley:1   \u001b[0m │                 \u001b[1;36m1\u001b[0m │ \u001b[32mJames Hurley:1   \u001b[0m │ \u001b[32mH            \u001b[0m │ \u001b[2mNULL\u001b[0m           │ \u001b[2mNULL\u001b[0m             │ \u001b[2mNULL\u001b[0m        │ \u001b[2mNULL\u001b[0m       │\n",
       "│ \u001b[32m1:H::John Rader:1     \u001b[0m │                 \u001b[1;36m1\u001b[0m │ \u001b[32mJohn Rader:1     \u001b[0m │ \u001b[32mH            \u001b[0m │ \u001b[2mNULL\u001b[0m           │ \u001b[2mNULL\u001b[0m             │ \u001b[2mNULL\u001b[0m        │ \u001b[2mNULL\u001b[0m       │\n",
       "│ \u001b[32m1:H::Charles M Jones:1\u001b[0m │                 \u001b[1;36m1\u001b[0m │ \u001b[32mCharles M Jones:1\u001b[0m │ \u001b[32mH            \u001b[0m │ \u001b[2mNULL\u001b[0m           │ \u001b[2mNULL\u001b[0m             │ \u001b[2mNULL\u001b[0m        │ \u001b[2mNULL\u001b[0m       │\n",
       "│ \u001b[32m1:H::Allen Peterson:1 \u001b[0m │                 \u001b[1;36m1\u001b[0m │ \u001b[32mAllen Peterson:1 \u001b[0m │ \u001b[32mH            \u001b[0m │ \u001b[2mNULL\u001b[0m           │ \u001b[2mNULL\u001b[0m             │ \u001b[2mNULL\u001b[0m        │ \u001b[2mNULL\u001b[0m       │\n",
       "│ \u001b[32m1:H::Andrew Hope:1    \u001b[0m │                 \u001b[1;36m1\u001b[0m │ \u001b[32mAndrew Hope:1    \u001b[0m │ \u001b[32mH            \u001b[0m │ \u001b[2mNULL\u001b[0m           │ \u001b[2mNULL\u001b[0m             │ \u001b[2mNULL\u001b[0m        │ \u001b[2mNULL\u001b[0m       │\n",
       "│ \u001b[32m1:H::Axel Johnson:1   \u001b[0m │                 \u001b[1;36m1\u001b[0m │ \u001b[32mAxel Johnson:1   \u001b[0m │ \u001b[32mH            \u001b[0m │ \u001b[2mNULL\u001b[0m           │ \u001b[2mNULL\u001b[0m             │ \u001b[2mNULL\u001b[0m        │ \u001b[2mNULL\u001b[0m       │\n",
       "│ \u001b[32m1:H::Bob Giersdorf:1  \u001b[0m │                 \u001b[1;36m1\u001b[0m │ \u001b[32mBob Giersdorf:1  \u001b[0m │ \u001b[32mH            \u001b[0m │ \u001b[2mNULL\u001b[0m           │ \u001b[2mNULL\u001b[0m             │ \u001b[2mNULL\u001b[0m        │ \u001b[2mNULL\u001b[0m       │\n",
       "│ \u001b[32m1:H::Bruce Kendall:1  \u001b[0m │                 \u001b[1;36m1\u001b[0m │ \u001b[32mBruce Kendall:1  \u001b[0m │ \u001b[32mH            \u001b[0m │ \u001b[2mNULL\u001b[0m           │ \u001b[2mNULL\u001b[0m             │ \u001b[2mNULL\u001b[0m        │ \u001b[2mNULL\u001b[0m       │\n",
       "│ \u001b[2m…\u001b[0m                      │                 \u001b[2m…\u001b[0m │ \u001b[2m…\u001b[0m                 │ \u001b[2m…\u001b[0m             │ \u001b[2m…\u001b[0m              │ \u001b[2m…\u001b[0m                │ \u001b[2m…\u001b[0m           │ \u001b[2m…\u001b[0m          │\n",
       "└────────────────────────┴───────────────────┴───────────────────┴───────────────┴────────────────┴──────────────────┴─────────────┴────────────┘"
      ]
     },
     "execution_count": 33,
     "metadata": {},
     "output_type": "execute_result"
    }
   ],
   "source": [
    "def update(\n",
    "    db: SQLBackend,\n",
    "    table_name: str,\n",
    "    new_data: ir.Table,\n",
    "    *,\n",
    "    database: str | tuple[str, str] | None = None,\n",
    "    join_key: str | None = None,\n",
    ") -> ir.Table:\n",
    "    \"\"\"\n",
    "    Update data in a backend's table.\n",
    "\n",
    "    Parameters\n",
    "    ----------\n",
    "    db\n",
    "        The backend to update.\n",
    "    table_name\n",
    "        The name of the table to update.\n",
    "    new_data\n",
    "        The new data to update with. You don't have to pass all the columns in the\n",
    "        existing table, just the ones you want to update.\n",
    "    database\n",
    "        The database or (catalog, database) tuple to lookup the existing table in.\n",
    "    join_key\n",
    "        The column to join on.\n",
    "        If None, the primary key of the existing table will be used.\n",
    "\n",
    "    Returns\n",
    "    -------\n",
    "    The updated table.\n",
    "    \"\"\"\n",
    "    existing_table = db.table(table_name, database=database)\n",
    "    extra = [c for c in new_data.columns if c not in existing_table.columns]\n",
    "    if extra:\n",
    "        raise ValueError(f\"new data has extra columns: {extra}\")\n",
    "    if join_key is None:\n",
    "        join_key = get_primary_key(existing_table)\n",
    "        if join_key is None:\n",
    "            raise ValueError(\n",
    "                f\"If you don't specify join_key, table {table_name} must have a primary key.\"  # noqa: E501\n",
    "            )\n",
    "    if database is None:\n",
    "        table_spec = f'\"{table_name}\"'\n",
    "    elif isinstance(database, str):\n",
    "        table_spec = f'\"{database}\".\"{table_name}\"'\n",
    "    else:\n",
    "        table_spec = f'\"{database[0]}\".\"{database[1]}\".\"{table_name}\"'\n",
    "\n",
    "    if join_key not in existing_table:\n",
    "        raise ValueError(f\"join key '{join_key}' not found in table '{table_spec}'\")\n",
    "    # This appears to have a bug with over-eager key constraints if you\n",
    "    # try to update array columns. I'm not sure how to fix it yet.\n",
    "    template = \"\"\"\n",
    "    WITH new AS (\n",
    "        {new_sql}\n",
    "    )\n",
    "    UPDATE {table_spec}\n",
    "    SET {set_sql}\n",
    "    FROM new\n",
    "    WHERE {table_spec}.\"{join_key}\" = new.\"{join_key}\";\n",
    "    \"\"\"\n",
    "    new_sql = db.compile(new_data)\n",
    "    cols_to_update = [\n",
    "        c for c in existing_table.columns if c in new_data.columns and c != join_key\n",
    "    ]\n",
    "    set_sql = \", \".join(f'\"{col}\" = new.\"{col}\"' for col in cols_to_update)\n",
    "    sql = template.format(\n",
    "        new_sql=new_sql,\n",
    "        table_spec=table_spec,\n",
    "        set_sql=set_sql,\n",
    "        join_key=join_key,\n",
    "    )\n",
    "    # logger.info(f\"Running SQL:\\n{sql}\")\n",
    "    db.raw_sql(sql)\n",
    "    return existing_table\n",
    "\n",
    "\n",
    "update(db, \"members\", members.select(\"MemberId\", \"MemberCode\"), join_key=\"MemberId\")"
   ]
  },
  {
   "cell_type": "code",
   "execution_count": 27,
   "id": "95b5b044",
   "metadata": {},
   "outputs": [
    {
     "data": {
      "text/html": [
       "<pre style=\"white-space:pre;overflow-x:auto;line-height:normal;font-family:Menlo,'DejaVu Sans Mono',consolas,'Courier New',monospace\">┏━━━━━━━━━━━━┳━━━━━━━━━━━━━━━━━━┓\n",
       "┃<span style=\"font-weight: bold\"> MemberCode </span>┃<span style=\"font-weight: bold\"> MemberCode_count </span>┃\n",
       "┡━━━━━━━━━━━━╇━━━━━━━━━━━━━━━━━━┩\n",
       "│ <span style=\"color: #7f7f7f; text-decoration-color: #7f7f7f\">string</span>     │ <span style=\"color: #7f7f7f; text-decoration-color: #7f7f7f\">int64</span>            │\n",
       "├────────────┼──────────────────┤\n",
       "│ <span style=\"color: #7f7f7f; text-decoration-color: #7f7f7f\">NULL</span>       │              <span style=\"color: #008080; text-decoration-color: #008080; font-weight: bold\">555</span> │\n",
       "│ <span style=\"color: #008000; text-decoration-color: #008000\">HOF       </span> │               <span style=\"color: #008080; text-decoration-color: #008080; font-weight: bold\">18</span> │\n",
       "│ <span style=\"color: #008000; text-decoration-color: #008000\">OLS       </span> │               <span style=\"color: #008080; text-decoration-color: #008080; font-weight: bold\">13</span> │\n",
       "│ <span style=\"color: #008000; text-decoration-color: #008000\">ELL       </span> │               <span style=\"color: #008080; text-decoration-color: #008080; font-weight: bold\">13</span> │\n",
       "│ <span style=\"color: #008000; text-decoration-color: #008000\">SAN       </span> │               <span style=\"color: #008080; text-decoration-color: #008080; font-weight: bold\">12</span> │\n",
       "│ <span style=\"color: #008000; text-decoration-color: #008000\">STG       </span> │               <span style=\"color: #008080; text-decoration-color: #008080; font-weight: bold\">12</span> │\n",
       "│ <span style=\"color: #008000; text-decoration-color: #008000\">SMN       </span> │               <span style=\"color: #008080; text-decoration-color: #008080; font-weight: bold\">12</span> │\n",
       "│ <span style=\"color: #008000; text-decoration-color: #008000\">WIE       </span> │               <span style=\"color: #008080; text-decoration-color: #008080; font-weight: bold\">10</span> │\n",
       "│ <span style=\"color: #008000; text-decoration-color: #008000\">KER       </span> │               <span style=\"color: #008080; text-decoration-color: #008080; font-weight: bold\">10</span> │\n",
       "│ <span style=\"color: #008000; text-decoration-color: #008000\">FOS       </span> │               <span style=\"color: #008080; text-decoration-color: #008080; font-weight: bold\">10</span> │\n",
       "│ <span style=\"color: #7f7f7f; text-decoration-color: #7f7f7f\">…</span>          │                <span style=\"color: #7f7f7f; text-decoration-color: #7f7f7f\">…</span> │\n",
       "└────────────┴──────────────────┘\n",
       "</pre>\n"
      ],
      "text/plain": [
       "┏━━━━━━━━━━━━┳━━━━━━━━━━━━━━━━━━┓\n",
       "┃\u001b[1m \u001b[0m\u001b[1mMemberCode\u001b[0m\u001b[1m \u001b[0m┃\u001b[1m \u001b[0m\u001b[1mMemberCode_count\u001b[0m\u001b[1m \u001b[0m┃\n",
       "┡━━━━━━━━━━━━╇━━━━━━━━━━━━━━━━━━┩\n",
       "│ \u001b[2mstring\u001b[0m     │ \u001b[2mint64\u001b[0m            │\n",
       "├────────────┼──────────────────┤\n",
       "│ \u001b[2mNULL\u001b[0m       │              \u001b[1;36m555\u001b[0m │\n",
       "│ \u001b[32mHOF       \u001b[0m │               \u001b[1;36m18\u001b[0m │\n",
       "│ \u001b[32mOLS       \u001b[0m │               \u001b[1;36m13\u001b[0m │\n",
       "│ \u001b[32mELL       \u001b[0m │               \u001b[1;36m13\u001b[0m │\n",
       "│ \u001b[32mSAN       \u001b[0m │               \u001b[1;36m12\u001b[0m │\n",
       "│ \u001b[32mSTG       \u001b[0m │               \u001b[1;36m12\u001b[0m │\n",
       "│ \u001b[32mSMN       \u001b[0m │               \u001b[1;36m12\u001b[0m │\n",
       "│ \u001b[32mWIE       \u001b[0m │               \u001b[1;36m10\u001b[0m │\n",
       "│ \u001b[32mKER       \u001b[0m │               \u001b[1;36m10\u001b[0m │\n",
       "│ \u001b[32mFOS       \u001b[0m │               \u001b[1;36m10\u001b[0m │\n",
       "│ \u001b[2m…\u001b[0m          │                \u001b[2m…\u001b[0m │\n",
       "└────────────┴──────────────────┘"
      ]
     },
     "execution_count": 27,
     "metadata": {},
     "output_type": "execute_result"
    }
   ],
   "source": [
    "members.MemberCode.topk()"
   ]
  },
  {
   "cell_type": "code",
   "execution_count": 34,
   "id": "e52c7c02",
   "metadata": {},
   "outputs": [
    {
     "name": "stderr",
     "output_type": "stream",
     "text": [
      "Reading members from /Users/nc/code/scg/alaska-legislative-data/python/alaska_legislative_data/members.csv\n",
      "Reading members from /Users/nc/code/scg/alaska-legislative-data/python/alaska_legislative_data/members.csv\n"
     ]
    },
    {
     "name": "stderr",
     "output_type": "stream",
     "text": [
      "Ingesting 2088 members\n",
      "Ingesting 2088 members\n",
      "Found 2088 existing members\n",
      "Found 2088 existing members\n",
      "Found 0 new members\n",
      "Found 0 new members\n"
     ]
    }
   ],
   "source": [
    "_ingest.ingest_members(db)"
   ]
  },
  {
   "cell_type": "code",
   "execution_count": 35,
   "id": "4d7f246f",
   "metadata": {},
   "outputs": [
    {
     "name": "stderr",
     "output_type": "stream",
     "text": [
      "Desired leg_nums: [19, 20, 21, 22, 23, 24, 25, 26, 27, 28, 29, 30, 31, 32, 33, 34]\n",
      "Desired leg_nums: [19, 20, 21, 22, 23, 24, 25, 26, 27, 28, 29, 30, 31, 32, 33, 34]\n",
      "Existing leg_nums: [19, 20, 21, 22, 23, 24, 25, 26, 27, 28, 29, 30, 31, 32, 33, 34]\n",
      "Existing leg_nums: [19, 20, 21, 22, 23, 24, 25, 26, 27, 28, 29, 30, 31, 32, 33, 34]\n",
      "Missing leg_nums: [34]\n",
      "Missing leg_nums: [34]\n",
      "Scraping missing votes for [(34, 'STO'), (34, 'HNN'), (34, 'STS'), (34, 'RUF'), (34, 'ELA'), (34, 'HLA'), (34, 'KOP'), (34, 'COU'), (34, 'SCG'), (34, 'JOS'), (34, 'GAL'), (34, 'FIE'), (34, 'NED'), (34, 'MNA'), (34, 'GRY'), (34, 'BYN'), (34, 'HMS'), (34, 'VAN'), (34, 'COS'), (34, 'HLL'), (34, 'MEA'), (34, 'EIS'), (34, 'ALR'), (34, 'JHS'), (34, 'TLT'), (34, 'UND'), (34, 'MOO'), (34, 'RAU'), (34, 'MCA'), (34, 'DIB'), (34, 'SPP'), (34, 'PRA'), (34, 'TMZ'), (34, 'CAI'), (34, 'SCW'), (34, 'EDG'), (34, 'JIM'), (34, 'FON'), (34, 'BUR'), (34, 'SMN'), (34, 'KIE'), (34, 'STG'), (34, 'BJK'), (34, 'GIE'), (34, 'KAU'), (34, 'GRA'), (34, 'CLA'), (34, 'TOB'), (34, 'DNB'), (34, 'WIE'), (34, 'MRR'), (34, 'HUS'), (34, 'SHO'), (34, 'KAW'), (34, 'MYE'), (34, 'CRN'), (34, 'OLS'), (34, 'SAD'), (34, 'YUN'), (34, 'HOF')]\n",
      "Scraping missing votes for [(34, 'STO'), (34, 'HNN'), (34, 'STS'), (34, 'RUF'), (34, 'ELA'), (34, 'HLA'), (34, 'KOP'), (34, 'COU'), (34, 'SCG'), (34, 'JOS'), (34, 'GAL'), (34, 'FIE'), (34, 'NED'), (34, 'MNA'), (34, 'GRY'), (34, 'BYN'), (34, 'HMS'), (34, 'VAN'), (34, 'COS'), (34, 'HLL'), (34, 'MEA'), (34, 'EIS'), (34, 'ALR'), (34, 'JHS'), (34, 'TLT'), (34, 'UND'), (34, 'MOO'), (34, 'RAU'), (34, 'MCA'), (34, 'DIB'), (34, 'SPP'), (34, 'PRA'), (34, 'TMZ'), (34, 'CAI'), (34, 'SCW'), (34, 'EDG'), (34, 'JIM'), (34, 'FON'), (34, 'BUR'), (34, 'SMN'), (34, 'KIE'), (34, 'STG'), (34, 'BJK'), (34, 'GIE'), (34, 'KAU'), (34, 'GRA'), (34, 'CLA'), (34, 'TOB'), (34, 'DNB'), (34, 'WIE'), (34, 'MRR'), (34, 'HUS'), (34, 'SHO'), (34, 'KAW'), (34, 'MYE'), (34, 'CRN'), (34, 'OLS'), (34, 'SAD'), (34, 'YUN'), (34, 'HOF')]\n"
     ]
    },
    {
     "ename": "RuntimeError",
     "evalue": "asyncio.run() cannot be called from a running event loop",
     "output_type": "error",
     "traceback": [
      "\u001b[31m---------------------------------------------------------------------------\u001b[39m",
      "\u001b[31mRuntimeError\u001b[39m                              Traceback (most recent call last)",
      "\u001b[36mCell\u001b[39m\u001b[36m \u001b[39m\u001b[32mIn[35]\u001b[39m\u001b[32m, line 1\u001b[39m\n\u001b[32m----> \u001b[39m\u001b[32m1\u001b[39m \u001b[43m_ingest\u001b[49m\u001b[43m.\u001b[49m\u001b[43mingest_votes_and_choices\u001b[49m\u001b[43m(\u001b[49m\u001b[43mdb\u001b[49m\u001b[43m)\u001b[49m\n",
      "\u001b[36mFile \u001b[39m\u001b[32m~/code/scg/alaska-legislative-data/python/alaska_legislative_data/_ingest.py:189\u001b[39m, in \u001b[36mingest_votes_and_choices\u001b[39m\u001b[34m(db, votes, choices)\u001b[39m\n\u001b[32m    187\u001b[39m db = get_db(db)\n\u001b[32m    188\u001b[39m \u001b[38;5;28;01mif\u001b[39;00m votes \u001b[38;5;129;01mis\u001b[39;00m \u001b[38;5;28;01mNone\u001b[39;00m \u001b[38;5;129;01mor\u001b[39;00m choices \u001b[38;5;129;01mis\u001b[39;00m \u001b[38;5;28;01mNone\u001b[39;00m:\n\u001b[32m--> \u001b[39m\u001b[32m189\u001b[39m     v, c = \u001b[43m_scrape_missing_votes_and_choices\u001b[49m\u001b[43m(\u001b[49m\u001b[43mdb\u001b[49m\u001b[43m)\u001b[49m\n\u001b[32m    190\u001b[39m     \u001b[38;5;28;01mif\u001b[39;00m votes \u001b[38;5;129;01mis\u001b[39;00m \u001b[38;5;28;01mNone\u001b[39;00m:\n\u001b[32m    191\u001b[39m         votes = v\n",
      "\u001b[36mFile \u001b[39m\u001b[32m~/code/scg/alaska-legislative-data/python/alaska_legislative_data/_ingest.py:364\u001b[39m, in \u001b[36m_scrape_missing_votes_and_choices\u001b[39m\u001b[34m(db, votes_to_scrape)\u001b[39m\n\u001b[32m    362\u001b[39m     votes_to_scrape = _votes_to_scrape(db)\n\u001b[32m    363\u001b[39m logger.info(\u001b[33mf\u001b[39m\u001b[33m\"\u001b[39m\u001b[33mScraping missing votes for \u001b[39m\u001b[38;5;132;01m{\u001b[39;00mvotes_to_scrape\u001b[38;5;132;01m}\u001b[39;00m\u001b[33m\"\u001b[39m)\n\u001b[32m--> \u001b[39m\u001b[32m364\u001b[39m dicts = \u001b[43m_scrape\u001b[49m\u001b[43m.\u001b[49m\u001b[43mscrape_votes\u001b[49m\u001b[43m(\u001b[49m\u001b[43mleg_num_and_member_codes\u001b[49m\u001b[43m=\u001b[49m\u001b[43mvotes_to_scrape\u001b[49m\u001b[43m)\u001b[49m\n\u001b[32m    365\u001b[39m \u001b[38;5;28;01mif\u001b[39;00m \u001b[38;5;129;01mnot\u001b[39;00m dicts:\n\u001b[32m    366\u001b[39m     \u001b[38;5;66;03m# workaround for https://github.com/ibis-project/ibis/issues/10940\u001b[39;00m\n\u001b[32m    367\u001b[39m     votes = db.Vote.limit(\u001b[32m0\u001b[39m)\n",
      "\u001b[36mFile \u001b[39m\u001b[32m~/code/scg/alaska-legislative-data/python/alaska_legislative_data/_scrape.py:164\u001b[39m, in \u001b[36mscrape_votes\u001b[39m\u001b[34m(leg_num_and_member_codes)\u001b[39m\n\u001b[32m    161\u001b[39m             results.extend(v)\n\u001b[32m    162\u001b[39m     \u001b[38;5;28;01mreturn\u001b[39;00m results\n\u001b[32m--> \u001b[39m\u001b[32m164\u001b[39m results = \u001b[43masyncio\u001b[49m\u001b[43m.\u001b[49m\u001b[43mrun\u001b[49m\u001b[43m(\u001b[49m\u001b[43mmain\u001b[49m\u001b[43m(\u001b[49m\u001b[43m)\u001b[49m\u001b[43m)\u001b[49m\n\u001b[32m    165\u001b[39m \u001b[38;5;28;01mreturn\u001b[39;00m results\n",
      "\u001b[36mFile \u001b[39m\u001b[32m~/.pyenv/versions/3.11.6/lib/python3.11/asyncio/runners.py:186\u001b[39m, in \u001b[36mrun\u001b[39m\u001b[34m(main, debug)\u001b[39m\n\u001b[32m    161\u001b[39m \u001b[38;5;250m\u001b[39m\u001b[33;03m\"\"\"Execute the coroutine and return the result.\u001b[39;00m\n\u001b[32m    162\u001b[39m \n\u001b[32m    163\u001b[39m \u001b[33;03mThis function runs the passed coroutine, taking care of\u001b[39;00m\n\u001b[32m   (...)\u001b[39m\u001b[32m    182\u001b[39m \u001b[33;03m    asyncio.run(main())\u001b[39;00m\n\u001b[32m    183\u001b[39m \u001b[33;03m\"\"\"\u001b[39;00m\n\u001b[32m    184\u001b[39m \u001b[38;5;28;01mif\u001b[39;00m events._get_running_loop() \u001b[38;5;129;01mis\u001b[39;00m \u001b[38;5;129;01mnot\u001b[39;00m \u001b[38;5;28;01mNone\u001b[39;00m:\n\u001b[32m    185\u001b[39m     \u001b[38;5;66;03m# fail fast with short traceback\u001b[39;00m\n\u001b[32m--> \u001b[39m\u001b[32m186\u001b[39m     \u001b[38;5;28;01mraise\u001b[39;00m \u001b[38;5;167;01mRuntimeError\u001b[39;00m(\n\u001b[32m    187\u001b[39m         \u001b[33m\"\u001b[39m\u001b[33masyncio.run() cannot be called from a running event loop\u001b[39m\u001b[33m\"\u001b[39m)\n\u001b[32m    189\u001b[39m \u001b[38;5;28;01mwith\u001b[39;00m Runner(debug=debug) \u001b[38;5;28;01mas\u001b[39;00m runner:\n\u001b[32m    190\u001b[39m     \u001b[38;5;28;01mreturn\u001b[39;00m runner.run(main)\n",
      "\u001b[31mRuntimeError\u001b[39m: asyncio.run() cannot be called from a running event loop"
     ]
    }
   ],
   "source": [
    "_ingest.ingest_votes_and_choices(db)"
   ]
  },
  {
   "cell_type": "code",
   "execution_count": 4,
   "id": "e26e77fc",
   "metadata": {},
   "outputs": [
    {
     "data": {
      "text/plain": [
       "┌────────────┬────────────────────────────┐\n",
       "│    name    │        current_mood        │\n",
       "│  varchar   │ enum('sad', 'ok', 'happy') │\n",
       "├────────────┼────────────────────────────┤\n",
       "│ Pedro      │ happy                      │\n",
       "│ Mark       │ NULL                       │\n",
       "│ Pagliacci  │ sad                        │\n",
       "│ Mr. Mackey │ ok                         │\n",
       "└────────────┴────────────────────────────┘"
      ]
     },
     "execution_count": 4,
     "metadata": {},
     "output_type": "execute_result"
    }
   ],
   "source": [
    "import duckdb\n",
    "\n",
    "con = duckdb.connect()\n",
    "con.sql(\"\"\"\n",
    "    CREATE TYPE mood AS ENUM ('sad', 'ok', 'happy');\n",
    "    CREATE TABLE person (\n",
    "        name text,\n",
    "        current_mood mood\n",
    "    );\n",
    "    INSERT INTO person VALUES ('Pedro','happy'), ('Mark', NULL), ('Pagliacci', 'sad'), ('Mr. Mackey', 'ok');\n",
    "    SELECT * FROM person;\n",
    "\"\"\")"
   ]
  },
  {
   "cell_type": "code",
   "execution_count": 8,
   "id": "5e34231f",
   "metadata": {},
   "outputs": [
    {
     "data": {
      "text/plain": [
       "pyarrow.Table\n",
       "current_mood: dictionary<values=string, indices=uint8, ordered=0>\n",
       "----\n",
       "current_mood: [  -- dictionary:\n",
       "[\"sad\",\"ok\",\"happy\"]  -- indices:\n",
       "[2,null,0,1]]"
      ]
     },
     "execution_count": 8,
     "metadata": {},
     "output_type": "execute_result"
    }
   ],
   "source": [
    "db2 = ibis.duckdb.from_connection(con)\n",
    "moods = db2.table(\"person\").select(\"current_mood\")\n",
    "at2 = db2._to_duckdb_relation(moods).arrow()\n",
    "at2"
   ]
  },
  {
   "cell_type": "code",
   "execution_count": 9,
   "id": "2decf110",
   "metadata": {},
   "outputs": [
    {
     "data": {
      "text/html": [
       "<div>\n",
       "<style scoped>\n",
       "    .dataframe tbody tr th:only-of-type {\n",
       "        vertical-align: middle;\n",
       "    }\n",
       "\n",
       "    .dataframe tbody tr th {\n",
       "        vertical-align: top;\n",
       "    }\n",
       "\n",
       "    .dataframe thead th {\n",
       "        text-align: right;\n",
       "    }\n",
       "</style>\n",
       "<table border=\"1\" class=\"dataframe\">\n",
       "  <thead>\n",
       "    <tr style=\"text-align: right;\">\n",
       "      <th></th>\n",
       "      <th>current_mood</th>\n",
       "    </tr>\n",
       "  </thead>\n",
       "  <tbody>\n",
       "    <tr>\n",
       "      <th>0</th>\n",
       "      <td>happy</td>\n",
       "    </tr>\n",
       "    <tr>\n",
       "      <th>1</th>\n",
       "      <td>None</td>\n",
       "    </tr>\n",
       "    <tr>\n",
       "      <th>2</th>\n",
       "      <td>sad</td>\n",
       "    </tr>\n",
       "    <tr>\n",
       "      <th>3</th>\n",
       "      <td>ok</td>\n",
       "    </tr>\n",
       "  </tbody>\n",
       "</table>\n",
       "</div>"
      ],
      "text/plain": [
       "  current_mood\n",
       "0        happy\n",
       "1         None\n",
       "2          sad\n",
       "3           ok"
      ]
     },
     "execution_count": 9,
     "metadata": {},
     "output_type": "execute_result"
    }
   ],
   "source": [
    "moods.execute()"
   ]
  },
  {
   "cell_type": "code",
   "execution_count": 10,
   "id": "7b0446a7",
   "metadata": {},
   "outputs": [
    {
     "ename": "ArrowTypeError",
     "evalue": "Converting unsigned dictionary indices to pandas not yet supported, index type: uint8",
     "output_type": "error",
     "traceback": [
      "\u001b[31m---------------------------------------------------------------------------\u001b[39m",
      "\u001b[31mArrowTypeError\u001b[39m                            Traceback (most recent call last)",
      "\u001b[36mCell\u001b[39m\u001b[36m \u001b[39m\u001b[32mIn[10]\u001b[39m\u001b[32m, line 1\u001b[39m\n\u001b[32m----> \u001b[39m\u001b[32m1\u001b[39m \u001b[43mat2\u001b[49m\u001b[43m.\u001b[49m\u001b[43mcolumn\u001b[49m\u001b[43m(\u001b[49m\u001b[32;43m0\u001b[39;49m\u001b[43m)\u001b[49m\u001b[43m.\u001b[49m\u001b[43mto_pandas\u001b[49m\u001b[43m(\u001b[49m\u001b[43m)\u001b[49m\n",
      "\u001b[36mFile \u001b[39m\u001b[32m~/code/scg/alaska-legislative-data/python/.venv/lib/python3.11/site-packages/pyarrow/array.pxi:987\u001b[39m, in \u001b[36mpyarrow.lib._PandasConvertible.to_pandas\u001b[39m\u001b[34m()\u001b[39m\n",
      "\u001b[36mFile \u001b[39m\u001b[32m~/code/scg/alaska-legislative-data/python/.venv/lib/python3.11/site-packages/pyarrow/table.pxi:488\u001b[39m, in \u001b[36mpyarrow.lib.ChunkedArray._to_pandas\u001b[39m\u001b[34m()\u001b[39m\n",
      "\u001b[36mFile \u001b[39m\u001b[32m~/code/scg/alaska-legislative-data/python/.venv/lib/python3.11/site-packages/pyarrow/array.pxi:2249\u001b[39m, in \u001b[36mpyarrow.lib._array_like_to_pandas\u001b[39m\u001b[34m()\u001b[39m\n",
      "\u001b[36mFile \u001b[39m\u001b[32m~/code/scg/alaska-legislative-data/python/.venv/lib/python3.11/site-packages/pyarrow/error.pxi:92\u001b[39m, in \u001b[36mpyarrow.lib.check_status\u001b[39m\u001b[34m()\u001b[39m\n",
      "\u001b[31mArrowTypeError\u001b[39m: Converting unsigned dictionary indices to pandas not yet supported, index type: uint8"
     ]
    }
   ],
   "source": [
    "at2.column(0).to_pandas()"
   ]
  },
  {
   "cell_type": "code",
   "execution_count": 14,
   "id": "ec1d54c6",
   "metadata": {},
   "outputs": [
    {
     "ename": "ArrowTypeError",
     "evalue": "Converting unsigned dictionary indices to pandas not yet supported, index type: uint8",
     "output_type": "error",
     "traceback": [
      "\u001b[31m---------------------------------------------------------------------------\u001b[39m",
      "\u001b[31mArrowTypeError\u001b[39m                            Traceback (most recent call last)",
      "\u001b[36mCell\u001b[39m\u001b[36m \u001b[39m\u001b[32mIn[14]\u001b[39m\u001b[32m, line 1\u001b[39m\n\u001b[32m----> \u001b[39m\u001b[32m1\u001b[39m \u001b[43mdb\u001b[49m\u001b[43m.\u001b[49m\u001b[43msql\u001b[49m\u001b[43m(\u001b[49m\u001b[33;43m\"\u001b[39;49m\u001b[33;43mSELECT Chamber from members\u001b[39;49m\u001b[33;43m\"\u001b[39;49m\u001b[43m)\u001b[49m\u001b[43m.\u001b[49m\u001b[43mto_pandas\u001b[49m\u001b[43m(\u001b[49m\u001b[43m)\u001b[49m\n",
      "\u001b[36mFile \u001b[39m\u001b[32m~/code/scg/alaska-legislative-data/python/.venv/lib/python3.11/site-packages/ibis/expr/types/relations.py:3596\u001b[39m, in \u001b[36mTable.to_pandas\u001b[39m\u001b[34m(self, params, limit, **kwargs)\u001b[39m\n\u001b[32m   3572\u001b[39m \u001b[38;5;28;01mdef\u001b[39;00m\u001b[38;5;250m \u001b[39m\u001b[34mto_pandas\u001b[39m(\n\u001b[32m   3573\u001b[39m     \u001b[38;5;28mself\u001b[39m,\n\u001b[32m   3574\u001b[39m     *,\n\u001b[32m   (...)\u001b[39m\u001b[32m   3577\u001b[39m     **kwargs: Any,\n\u001b[32m   3578\u001b[39m ) -> pd.DataFrame:\n\u001b[32m   3579\u001b[39m \u001b[38;5;250m    \u001b[39m\u001b[33;03m\"\"\"Convert a table expression to a pandas DataFrame.\u001b[39;00m\n\u001b[32m   3580\u001b[39m \n\u001b[32m   3581\u001b[39m \u001b[33;03m    Parameters\u001b[39;00m\n\u001b[32m   (...)\u001b[39m\u001b[32m   3594\u001b[39m \u001b[33;03m        The result of executing the expression as a pandas DataFrame\u001b[39;00m\n\u001b[32m   3595\u001b[39m \u001b[33;03m    \"\"\"\u001b[39;00m\n\u001b[32m-> \u001b[39m\u001b[32m3596\u001b[39m     \u001b[38;5;28;01mreturn\u001b[39;00m \u001b[38;5;28;43mself\u001b[39;49m\u001b[43m.\u001b[49m\u001b[43mexecute\u001b[49m\u001b[43m(\u001b[49m\u001b[43mparams\u001b[49m\u001b[43m=\u001b[49m\u001b[43mparams\u001b[49m\u001b[43m,\u001b[49m\u001b[43m \u001b[49m\u001b[43mlimit\u001b[49m\u001b[43m=\u001b[49m\u001b[43mlimit\u001b[49m\u001b[43m,\u001b[49m\u001b[43m \u001b[49m\u001b[43m*\u001b[49m\u001b[43m*\u001b[49m\u001b[43mkwargs\u001b[49m\u001b[43m)\u001b[49m\n",
      "\u001b[36mFile \u001b[39m\u001b[32m~/code/scg/alaska-legislative-data/python/.venv/lib/python3.11/site-packages/ibis/expr/types/core.py:454\u001b[39m, in \u001b[36mExpr.execute\u001b[39m\u001b[34m(self, limit, params, **kwargs)\u001b[39m\n\u001b[32m    400\u001b[39m \u001b[38;5;28;01mdef\u001b[39;00m\u001b[38;5;250m \u001b[39m\u001b[34mexecute\u001b[39m(\n\u001b[32m    401\u001b[39m     \u001b[38;5;28mself\u001b[39m,\n\u001b[32m    402\u001b[39m     *,\n\u001b[32m   (...)\u001b[39m\u001b[32m    405\u001b[39m     **kwargs: Any,\n\u001b[32m    406\u001b[39m ) -> pd.DataFrame | pd.Series | Any:\n\u001b[32m    407\u001b[39m \u001b[38;5;250m    \u001b[39m\u001b[33;03m\"\"\"Execute an expression against its backend if one exists.\u001b[39;00m\n\u001b[32m    408\u001b[39m \n\u001b[32m    409\u001b[39m \u001b[33;03m    Parameters\u001b[39;00m\n\u001b[32m   (...)\u001b[39m\u001b[32m    452\u001b[39m \u001b[33;03m    [`Value.to_pandas()`](./expression-generic.qmd#ibis.expr.types.generic.Value.to_pandas)\u001b[39;00m\n\u001b[32m    453\u001b[39m \u001b[33;03m    \"\"\"\u001b[39;00m\n\u001b[32m--> \u001b[39m\u001b[32m454\u001b[39m     \u001b[38;5;28;01mreturn\u001b[39;00m \u001b[38;5;28;43mself\u001b[39;49m\u001b[43m.\u001b[49m\u001b[43m_find_backend\u001b[49m\u001b[43m(\u001b[49m\u001b[43muse_default\u001b[49m\u001b[43m=\u001b[49m\u001b[38;5;28;43;01mTrue\u001b[39;49;00m\u001b[43m)\u001b[49m\u001b[43m.\u001b[49m\u001b[43mexecute\u001b[49m\u001b[43m(\u001b[49m\n\u001b[32m    455\u001b[39m \u001b[43m        \u001b[49m\u001b[38;5;28;43mself\u001b[39;49m\u001b[43m,\u001b[49m\u001b[43m \u001b[49m\u001b[43mlimit\u001b[49m\u001b[43m=\u001b[49m\u001b[43mlimit\u001b[49m\u001b[43m,\u001b[49m\u001b[43m \u001b[49m\u001b[43mparams\u001b[49m\u001b[43m=\u001b[49m\u001b[43mparams\u001b[49m\u001b[43m,\u001b[49m\u001b[43m \u001b[49m\u001b[43m*\u001b[49m\u001b[43m*\u001b[49m\u001b[43mkwargs\u001b[49m\n\u001b[32m    456\u001b[39m \u001b[43m    \u001b[49m\u001b[43m)\u001b[49m\n",
      "\u001b[36mFile \u001b[39m\u001b[32m~/code/scg/alaska-legislative-data/python/.venv/lib/python3.11/site-packages/ibis/backends/duckdb/__init__.py:1448\u001b[39m, in \u001b[36mBackend.execute\u001b[39m\u001b[34m(self, expr, params, limit, **kwargs)\u001b[39m\n\u001b[32m   1444\u001b[39m rel = \u001b[38;5;28mself\u001b[39m._to_duckdb_relation(expr, params=params, limit=limit, **kwargs)\n\u001b[32m   1445\u001b[39m table = rel.arrow()\n\u001b[32m   1447\u001b[39m df = pd.DataFrame(\n\u001b[32m-> \u001b[39m\u001b[32m1448\u001b[39m     \u001b[43m{\u001b[49m\n\u001b[32m   1449\u001b[39m \u001b[43m        \u001b[49m\u001b[43mname\u001b[49m\u001b[43m:\u001b[49m\u001b[43m \u001b[49m\u001b[43m(\u001b[49m\n\u001b[32m   1450\u001b[39m \u001b[43m            \u001b[49m\u001b[43mcol\u001b[49m\u001b[43m.\u001b[49m\u001b[43mto_pylist\u001b[49m\u001b[43m(\u001b[49m\u001b[43m)\u001b[49m\n\u001b[32m   1451\u001b[39m \u001b[43m            \u001b[49m\u001b[38;5;28;43;01mif\u001b[39;49;00m\u001b[43m \u001b[49m\u001b[43m(\u001b[49m\n\u001b[32m   1452\u001b[39m \u001b[43m                \u001b[49m\u001b[43mpat\u001b[49m\u001b[43m.\u001b[49m\u001b[43mis_nested\u001b[49m\u001b[43m(\u001b[49m\u001b[43mcol\u001b[49m\u001b[43m.\u001b[49m\u001b[43mtype\u001b[49m\u001b[43m)\u001b[49m\n\u001b[32m   1453\u001b[39m \u001b[43m                \u001b[49m\u001b[38;5;129;43;01mor\u001b[39;49;00m\n\u001b[32m   1454\u001b[39m \u001b[43m                \u001b[49m\u001b[38;5;66;43;03m# pyarrow / duckdb type null literals columns as int32?\u001b[39;49;00m\n\u001b[32m   1455\u001b[39m \u001b[43m                \u001b[49m\u001b[38;5;66;43;03m# but calling `to_pylist()` will render it as None\u001b[39;49;00m\n\u001b[32m   1456\u001b[39m \u001b[43m                \u001b[49m\u001b[43mcol\u001b[49m\u001b[43m.\u001b[49m\u001b[43mnull_count\u001b[49m\n\u001b[32m   1457\u001b[39m \u001b[43m            \u001b[49m\u001b[43m)\u001b[49m\n\u001b[32m   1458\u001b[39m \u001b[43m            \u001b[49m\u001b[38;5;28;43;01melse\u001b[39;49;00m\u001b[43m \u001b[49m\u001b[43mcol\u001b[49m\u001b[43m.\u001b[49m\u001b[43mto_pandas\u001b[49m\u001b[43m(\u001b[49m\u001b[43m)\u001b[49m\n\u001b[32m   1459\u001b[39m \u001b[43m        \u001b[49m\u001b[43m)\u001b[49m\n\u001b[32m   1460\u001b[39m \u001b[43m        \u001b[49m\u001b[38;5;28;43;01mfor\u001b[39;49;00m\u001b[43m \u001b[49m\u001b[43mname\u001b[49m\u001b[43m,\u001b[49m\u001b[43m \u001b[49m\u001b[43mcol\u001b[49m\u001b[43m \u001b[49m\u001b[38;5;129;43;01min\u001b[39;49;00m\u001b[43m \u001b[49m\u001b[38;5;28;43mzip\u001b[39;49m\u001b[43m(\u001b[49m\u001b[43mtable\u001b[49m\u001b[43m.\u001b[49m\u001b[43mcolumn_names\u001b[49m\u001b[43m,\u001b[49m\u001b[43m \u001b[49m\u001b[43mtable\u001b[49m\u001b[43m.\u001b[49m\u001b[43mcolumns\u001b[49m\u001b[43m)\u001b[49m\n\u001b[32m   1461\u001b[39m \u001b[43m    \u001b[49m\u001b[43m}\u001b[49m\n\u001b[32m   1462\u001b[39m )\n\u001b[32m   1463\u001b[39m df = DuckDBPandasData.convert_table(df, expr.as_table().schema())\n\u001b[32m   1464\u001b[39m \u001b[38;5;28;01mreturn\u001b[39;00m expr.__pandas_result__(df)\n",
      "\u001b[36mFile \u001b[39m\u001b[32m~/code/scg/alaska-legislative-data/python/.venv/lib/python3.11/site-packages/ibis/backends/duckdb/__init__.py:1458\u001b[39m, in \u001b[36m<dictcomp>\u001b[39m\u001b[34m(.0)\u001b[39m\n\u001b[32m   1444\u001b[39m rel = \u001b[38;5;28mself\u001b[39m._to_duckdb_relation(expr, params=params, limit=limit, **kwargs)\n\u001b[32m   1445\u001b[39m table = rel.arrow()\n\u001b[32m   1447\u001b[39m df = pd.DataFrame(\n\u001b[32m   1448\u001b[39m     {\n\u001b[32m   1449\u001b[39m         name: (\n\u001b[32m   1450\u001b[39m             col.to_pylist()\n\u001b[32m   1451\u001b[39m             \u001b[38;5;28;01mif\u001b[39;00m (\n\u001b[32m   1452\u001b[39m                 pat.is_nested(col.type)\n\u001b[32m   1453\u001b[39m                 \u001b[38;5;129;01mor\u001b[39;00m\n\u001b[32m   1454\u001b[39m                 \u001b[38;5;66;03m# pyarrow / duckdb type null literals columns as int32?\u001b[39;00m\n\u001b[32m   1455\u001b[39m                 \u001b[38;5;66;03m# but calling `to_pylist()` will render it as None\u001b[39;00m\n\u001b[32m   1456\u001b[39m                 col.null_count\n\u001b[32m   1457\u001b[39m             )\n\u001b[32m-> \u001b[39m\u001b[32m1458\u001b[39m             \u001b[38;5;28;01melse\u001b[39;00m \u001b[43mcol\u001b[49m\u001b[43m.\u001b[49m\u001b[43mto_pandas\u001b[49m\u001b[43m(\u001b[49m\u001b[43m)\u001b[49m\n\u001b[32m   1459\u001b[39m         )\n\u001b[32m   1460\u001b[39m         \u001b[38;5;28;01mfor\u001b[39;00m name, col \u001b[38;5;129;01min\u001b[39;00m \u001b[38;5;28mzip\u001b[39m(table.column_names, table.columns)\n\u001b[32m   1461\u001b[39m     }\n\u001b[32m   1462\u001b[39m )\n\u001b[32m   1463\u001b[39m df = DuckDBPandasData.convert_table(df, expr.as_table().schema())\n\u001b[32m   1464\u001b[39m \u001b[38;5;28;01mreturn\u001b[39;00m expr.__pandas_result__(df)\n",
      "\u001b[36mFile \u001b[39m\u001b[32m~/code/scg/alaska-legislative-data/python/.venv/lib/python3.11/site-packages/pyarrow/array.pxi:987\u001b[39m, in \u001b[36mpyarrow.lib._PandasConvertible.to_pandas\u001b[39m\u001b[34m()\u001b[39m\n",
      "\u001b[36mFile \u001b[39m\u001b[32m~/code/scg/alaska-legislative-data/python/.venv/lib/python3.11/site-packages/pyarrow/table.pxi:488\u001b[39m, in \u001b[36mpyarrow.lib.ChunkedArray._to_pandas\u001b[39m\u001b[34m()\u001b[39m\n",
      "\u001b[36mFile \u001b[39m\u001b[32m~/code/scg/alaska-legislative-data/python/.venv/lib/python3.11/site-packages/pyarrow/array.pxi:2249\u001b[39m, in \u001b[36mpyarrow.lib._array_like_to_pandas\u001b[39m\u001b[34m()\u001b[39m\n",
      "\u001b[36mFile \u001b[39m\u001b[32m~/code/scg/alaska-legislative-data/python/.venv/lib/python3.11/site-packages/pyarrow/error.pxi:92\u001b[39m, in \u001b[36mpyarrow.lib.check_status\u001b[39m\u001b[34m()\u001b[39m\n",
      "\u001b[31mArrowTypeError\u001b[39m: Converting unsigned dictionary indices to pandas not yet supported, index type: uint8"
     ]
    }
   ],
   "source": [
    "db.sql(\"SELECT Chamber from members\").to_pandas()"
   ]
  },
  {
   "cell_type": "code",
   "execution_count": 12,
   "id": "ccdb0bfa",
   "metadata": {},
   "outputs": [
    {
     "data": {
      "text/plain": [
       "┌────────────────┐\n",
       "│    Chamber     │\n",
       "│ enum('h', 's') │\n",
       "├────────────────┤\n",
       "│ H              │\n",
       "│ H              │\n",
       "│ H              │\n",
       "│ H              │\n",
       "│ H              │\n",
       "│ S              │\n",
       "│ H              │\n",
       "│ S              │\n",
       "│ H              │\n",
       "│ H              │\n",
       "│ ·              │\n",
       "│ ·              │\n",
       "│ ·              │\n",
       "│ H              │\n",
       "│ H              │\n",
       "│ H              │\n",
       "│ S              │\n",
       "│ H              │\n",
       "│ H              │\n",
       "│ H              │\n",
       "│ H              │\n",
       "│ H              │\n",
       "│ H              │\n",
       "├────────────────┤\n",
       "│   1472 rows    │\n",
       "│   (20 shown)   │\n",
       "└────────────────┘"
      ]
     },
     "execution_count": 12,
     "metadata": {},
     "output_type": "execute_result"
    }
   ],
   "source": [
    "db.con.sql(\"SELECT Chamber from members\")"
   ]
  },
  {
   "cell_type": "code",
   "execution_count": 50,
   "id": "f6595ec0",
   "metadata": {},
   "outputs": [
    {
     "data": {
      "text/plain": [
       "pyarrow.Table\n",
       "Chamber: dictionary<values=string, indices=uint8, ordered=0>\n",
       "----\n",
       "Chamber: [  -- dictionary:\n",
       "[\"H\",\"S\"]  -- indices:\n",
       "[0,0,0,0,0,...,0,0,0,0,0]]"
      ]
     },
     "execution_count": 50,
     "metadata": {},
     "output_type": "execute_result"
    }
   ],
   "source": [
    "at = db.con.sql(\"SELECT Chamber from members\").arrow()\n",
    "at"
   ]
  },
  {
   "cell_type": "code",
   "execution_count": 30,
   "id": "04e8054f",
   "metadata": {},
   "outputs": [
    {
     "data": {
      "text/plain": [
       "DataType(\n",
       "  this=Type.ENUM,\n",
       "  expressions=[\n",
       "    Literal(this=sad, is_string=True),\n",
       "    Literal(this=ok, is_string=True),\n",
       "    Literal(this=happy, is_string=True)],\n",
       "  nested=False)"
      ]
     },
     "execution_count": 30,
     "metadata": {},
     "output_type": "execute_result"
    }
   ],
   "source": [
    "import sqlglot as sg\n",
    "import sqlglot.expressions as sge\n",
    "\n",
    "sgtype = sg.parse_one(\"ENUM('sad', 'ok', 'happy')\", into=sge.DataType, read=\"postgres\")\n",
    "sgtype"
   ]
  },
  {
   "cell_type": "code",
   "execution_count": 31,
   "id": "16b3467b",
   "metadata": {},
   "outputs": [
    {
     "data": {
      "text/plain": [
       "DataType(\n",
       "  this=Type.ENUM,\n",
       "  expressions=[\n",
       "    Literal(this=sad, is_string=True),\n",
       "    Literal(this=ok, is_string=True),\n",
       "    Literal(this=happy, is_string=True)],\n",
       "  nested=False)"
      ]
     },
     "execution_count": 31,
     "metadata": {},
     "output_type": "execute_result"
    }
   ],
   "source": [
    "sgtype = sg.parse_one(\"enum('sad', 'ok', 'happy')\", into=sge.DataType, read=\"postgres\")\n",
    "sgtype"
   ]
  },
  {
   "cell_type": "code",
   "execution_count": 34,
   "id": "0aa24193",
   "metadata": {},
   "outputs": [
    {
     "data": {
      "text/plain": [
       "┌─────────────────────────────────┬───────────────────┬────────────────────────┬────────────────┬──────────┬────────────┬─────────┐\n",
       "│            MemberId             │ LegislatureNumber │        PersonId        │    Chamber     │ District │ IsMajority │  Party  │\n",
       "│             varchar             │       int32       │        varchar         │ enum('h', 's') │ varchar  │  boolean   │ varchar │\n",
       "├─────────────────────────────────┼───────────────────┼────────────────────────┼────────────────┼──────────┼────────────┼─────────┤\n",
       "│ 13:H:20-A:Robert Bettisworth:11 │                13 │ Robert Bettisworth:11  │ H              │ 20-A     │ false      │ R       │\n",
       "│ 11:H:13:Patrick O'Connell:11    │                11 │ Patrick O'Connell:11   │ H              │ 13       │ false      │ R       │\n",
       "│ 11:H:18:Vernon Hurlbert:11      │                11 │ Vernon Hurlbert:11     │ H              │ 18       │ false      │ D       │\n",
       "│ 11:H:20:Brian Rogers:11         │                11 │ Brian Rogers:11        │ H              │ 20       │ false      │ D       │\n",
       "│ 12:H:3:Ben Grussendorf:12       │                12 │ Ben Grussendorf:12     │ H              │ 3        │ false      │ D       │\n",
       "│ 12:S:H:Arliss Sturgulewski:11   │                12 │ Arliss Sturgulewski:11 │ S              │ H        │ false      │ R       │\n",
       "│ 13:H:11-B:Mae Tischer:13        │                13 │ Mae Tischer:13         │ H              │ 11-B     │ false      │ R       │\n",
       "│ 13:S:G-B:Victor Fischer:12      │                13 │ Victor Fischer:12      │ S              │ G-B      │ false      │ D       │\n",
       "│ 14:H:1-B:John Sund:13           │                14 │ John Sund:13           │ H              │ 1-B      │ false      │ D       │\n",
       "│ 14:H:11-B:Max Gruenberg:14      │                14 │ Max Gruenberg:14       │ H              │ 11-B     │ false      │ D       │\n",
       "│           ·                     │                 · │       ·                │ ·              │ ·        │   ·        │ ·       │\n",
       "│           ·                     │                 · │       ·                │ ·              │ ·        │   ·        │ ·       │\n",
       "│           ·                     │                 · │       ·                │ ·              │ ·        │   ·        │ ·       │\n",
       "│ 30:H:24:Chuck Kopp:30           │                30 │ Chuck Kopp:30          │ H              │ 24       │ false      │ R       │\n",
       "│ 31:H:30:Gary Knopp:30           │                31 │ Gary Knopp:30          │ H              │ 30       │ true       │ R       │\n",
       "│ 32:H:9:George Rauscher:30       │                32 │ George Rauscher:30     │ H              │ 9        │ false      │ R       │\n",
       "│ 32:S:J:Tom Begich:30            │                32 │ Tom Begich:30          │ S              │ J        │ false      │ D       │\n",
       "│ 33:H:17:Zack Fields:31          │                33 │ Zack Fields:31         │ H              │ 17       │ false      │ D       │\n",
       "│ 33:H:21:Donna Mears:33          │                33 │ Donna Mears:33         │ H              │ 21       │ false      │ D       │\n",
       "│ 33:H:29:George Rauscher:30      │                33 │ George Rauscher:30     │ H              │ 29       │ true       │ R       │\n",
       "│ 34:H:15:Mia Costello:27         │                34 │ Mia Costello:27        │ H              │ 15       │ false      │ R       │\n",
       "│ 34:H:24:Dan Saddler:27          │                34 │ Dan Saddler:27         │ H              │ 24       │ false      │ R       │\n",
       "│ 34:H:39:Neal Foster:26          │                34 │ Neal Foster:26         │ H              │ 39       │ true       │ D       │\n",
       "├─────────────────────────────────┴───────────────────┴────────────────────────┴────────────────┴──────────┴────────────┴─────────┤\n",
       "│ 1472 rows (20 shown)                                                                                                  7 columns │\n",
       "└─────────────────────────────────────────────────────────────────────────────────────────────────────────────────────────────────┘"
      ]
     },
     "execution_count": 34,
     "metadata": {},
     "output_type": "execute_result"
    }
   ],
   "source": [
    "db._to_duckdb_relation(db.Member)"
   ]
  },
  {
   "cell_type": "code",
   "execution_count": 46,
   "id": "1d162eed",
   "metadata": {},
   "outputs": [
    {
     "ename": "ArrowTypeError",
     "evalue": "Converting unsigned dictionary indices to pandas not yet supported, index type: uint8",
     "output_type": "error",
     "traceback": [
      "\u001b[0;31m---------------------------------------------------------------------------\u001b[0m",
      "\u001b[0;31mArrowTypeError\u001b[0m                            Traceback (most recent call last)",
      "Cell \u001b[0;32mIn[46], line 1\u001b[0m\n\u001b[0;32m----> 1\u001b[0m \u001b[43mdb\u001b[49m\u001b[38;5;241;43m.\u001b[39;49m\u001b[43mcon\u001b[49m\u001b[38;5;241;43m.\u001b[39;49m\u001b[43msql\u001b[49m\u001b[43m(\u001b[49m\u001b[38;5;124;43m\"\u001b[39;49m\u001b[38;5;124;43mSELECT Chamber from members\u001b[39;49m\u001b[38;5;124;43m\"\u001b[39;49m\u001b[43m)\u001b[49m\u001b[38;5;241;43m.\u001b[39;49m\u001b[43marrow\u001b[49m\u001b[43m(\u001b[49m\u001b[43m)\u001b[49m\u001b[38;5;241;43m.\u001b[39;49m\u001b[43mcolumn\u001b[49m\u001b[43m(\u001b[49m\u001b[38;5;241;43m0\u001b[39;49m\u001b[43m)\u001b[49m\u001b[38;5;241;43m.\u001b[39;49m\u001b[43mto_pandas\u001b[49m\u001b[43m(\u001b[49m\u001b[43m)\u001b[49m\n",
      "File \u001b[0;32m~/code/scg/alaska-legislative-data/python/.venv/lib/python3.11/site-packages/pyarrow/array.pxi:889\u001b[0m, in \u001b[0;36mpyarrow.lib._PandasConvertible.to_pandas\u001b[0;34m()\u001b[0m\n",
      "File \u001b[0;32m~/code/scg/alaska-legislative-data/python/.venv/lib/python3.11/site-packages/pyarrow/table.pxi:488\u001b[0m, in \u001b[0;36mpyarrow.lib.ChunkedArray._to_pandas\u001b[0;34m()\u001b[0m\n",
      "File \u001b[0;32m~/code/scg/alaska-legislative-data/python/.venv/lib/python3.11/site-packages/pyarrow/array.pxi:2123\u001b[0m, in \u001b[0;36mpyarrow.lib._array_like_to_pandas\u001b[0;34m()\u001b[0m\n",
      "File \u001b[0;32m~/code/scg/alaska-legislative-data/python/.venv/lib/python3.11/site-packages/pyarrow/error.pxi:92\u001b[0m, in \u001b[0;36mpyarrow.lib.check_status\u001b[0;34m()\u001b[0m\n",
      "\u001b[0;31mArrowTypeError\u001b[0m: Converting unsigned dictionary indices to pandas not yet supported, index type: uint8"
     ]
    }
   ],
   "source": [
    "db.con.sql(\"SELECT Chamber from members\").arrow().column(0).to_pandas()"
   ]
  },
  {
   "cell_type": "code",
   "execution_count": 41,
   "id": "49f9a996",
   "metadata": {},
   "outputs": [
    {
     "ename": "ArrowTypeError",
     "evalue": "Converting unsigned dictionary indices to pandas not yet supported, index type: uint8",
     "output_type": "error",
     "traceback": [
      "\u001b[0;31m---------------------------------------------------------------------------\u001b[0m",
      "\u001b[0;31mArrowTypeError\u001b[0m                            Traceback (most recent call last)",
      "Cell \u001b[0;32mIn[41], line 9\u001b[0m\n\u001b[1;32m      1\u001b[0m \u001b[43mdb\u001b[49m\u001b[38;5;241;43m.\u001b[39;49m\u001b[43mMember\u001b[49m\u001b[38;5;241;43m.\u001b[39;49m\u001b[43mselect\u001b[49m\u001b[43m(\u001b[49m\n\u001b[1;32m      2\u001b[0m \u001b[43m    \u001b[49m\u001b[38;5;66;43;03m# \"MemberId\",\u001b[39;49;00m\n\u001b[1;32m      3\u001b[0m \u001b[43m    \u001b[49m\u001b[38;5;66;43;03m# \"LegislatureNumber\",\u001b[39;49;00m\n\u001b[1;32m      4\u001b[0m \u001b[43m    \u001b[49m\u001b[38;5;66;43;03m# \"PersonId\",\u001b[39;49;00m\n\u001b[1;32m      5\u001b[0m \u001b[43m    \u001b[49m\u001b[38;5;124;43m\"\u001b[39;49m\u001b[38;5;124;43mChamber\u001b[39;49m\u001b[38;5;124;43m\"\u001b[39;49m\u001b[43m,\u001b[49m\n\u001b[1;32m      6\u001b[0m \u001b[43m    \u001b[49m\u001b[38;5;66;43;03m# \"District\",\u001b[39;49;00m\n\u001b[1;32m      7\u001b[0m \u001b[43m    \u001b[49m\u001b[38;5;66;43;03m# \"IsMajority\",\u001b[39;49;00m\n\u001b[1;32m      8\u001b[0m \u001b[43m    \u001b[49m\u001b[38;5;66;43;03m# \"Party\",\u001b[39;49;00m\n\u001b[0;32m----> 9\u001b[0m \u001b[43m)\u001b[49m\u001b[38;5;241;43m.\u001b[39;49m\u001b[43mto_pandas\u001b[49m\u001b[43m(\u001b[49m\u001b[43m)\u001b[49m\n",
      "File \u001b[0;32m~/code/scg/alaska-legislative-data/python/.venv/lib/python3.11/site-packages/ibis/expr/types/relations.py:3592\u001b[0m, in \u001b[0;36mTable.to_pandas\u001b[0;34m(self, params, limit, **kwargs)\u001b[0m\n\u001b[1;32m   3566\u001b[0m \u001b[38;5;28;01mdef\u001b[39;00m\u001b[38;5;250m \u001b[39m\u001b[38;5;21mto_pandas\u001b[39m(\n\u001b[1;32m   3567\u001b[0m     \u001b[38;5;28mself\u001b[39m,\n\u001b[1;32m   3568\u001b[0m     \u001b[38;5;241m*\u001b[39m,\n\u001b[0;32m   (...)\u001b[0m\n\u001b[1;32m   3571\u001b[0m     \u001b[38;5;241m*\u001b[39m\u001b[38;5;241m*\u001b[39mkwargs: Any,\n\u001b[1;32m   3572\u001b[0m ) \u001b[38;5;241m-\u001b[39m\u001b[38;5;241m>\u001b[39m pd\u001b[38;5;241m.\u001b[39mDataFrame:\n\u001b[1;32m   3573\u001b[0m \u001b[38;5;250m    \u001b[39m\u001b[38;5;124;03m\"\"\"Convert a table expression to a pandas DataFrame.\u001b[39;00m\n\u001b[1;32m   3574\u001b[0m \n\u001b[1;32m   3575\u001b[0m \u001b[38;5;124;03m    Parameters\u001b[39;00m\n\u001b[0;32m   (...)\u001b[0m\n\u001b[1;32m   3590\u001b[0m \u001b[38;5;124;03m        The result of executing the expression as a pandas DataFrame\u001b[39;00m\n\u001b[1;32m   3591\u001b[0m \u001b[38;5;124;03m    \"\"\"\u001b[39;00m\n\u001b[0;32m-> 3592\u001b[0m     \u001b[38;5;28;01mreturn\u001b[39;00m \u001b[38;5;28;43mself\u001b[39;49m\u001b[38;5;241;43m.\u001b[39;49m\u001b[43mexecute\u001b[49m\u001b[43m(\u001b[49m\u001b[43mparams\u001b[49m\u001b[38;5;241;43m=\u001b[39;49m\u001b[43mparams\u001b[49m\u001b[43m,\u001b[49m\u001b[43m \u001b[49m\u001b[43mlimit\u001b[49m\u001b[38;5;241;43m=\u001b[39;49m\u001b[43mlimit\u001b[49m\u001b[43m,\u001b[49m\u001b[43m \u001b[49m\u001b[38;5;241;43m*\u001b[39;49m\u001b[38;5;241;43m*\u001b[39;49m\u001b[43mkwargs\u001b[49m\u001b[43m)\u001b[49m\n",
      "File \u001b[0;32m~/code/scg/alaska-legislative-data/python/.venv/lib/python3.11/site-packages/ibis/expr/types/core.py:454\u001b[0m, in \u001b[0;36mExpr.execute\u001b[0;34m(self, limit, params, **kwargs)\u001b[0m\n\u001b[1;32m    400\u001b[0m \u001b[38;5;28;01mdef\u001b[39;00m\u001b[38;5;250m \u001b[39m\u001b[38;5;21mexecute\u001b[39m(\n\u001b[1;32m    401\u001b[0m     \u001b[38;5;28mself\u001b[39m,\n\u001b[1;32m    402\u001b[0m     \u001b[38;5;241m*\u001b[39m,\n\u001b[0;32m   (...)\u001b[0m\n\u001b[1;32m    405\u001b[0m     \u001b[38;5;241m*\u001b[39m\u001b[38;5;241m*\u001b[39mkwargs: Any,\n\u001b[1;32m    406\u001b[0m ) \u001b[38;5;241m-\u001b[39m\u001b[38;5;241m>\u001b[39m pd\u001b[38;5;241m.\u001b[39mDataFrame \u001b[38;5;241m|\u001b[39m pd\u001b[38;5;241m.\u001b[39mSeries \u001b[38;5;241m|\u001b[39m Any:\n\u001b[1;32m    407\u001b[0m \u001b[38;5;250m    \u001b[39m\u001b[38;5;124;03m\"\"\"Execute an expression against its backend if one exists.\u001b[39;00m\n\u001b[1;32m    408\u001b[0m \n\u001b[1;32m    409\u001b[0m \u001b[38;5;124;03m    Parameters\u001b[39;00m\n\u001b[0;32m   (...)\u001b[0m\n\u001b[1;32m    452\u001b[0m \u001b[38;5;124;03m    [`Value.to_pandas()`](./expression-generic.qmd#ibis.expr.types.generic.Value.to_pandas)\u001b[39;00m\n\u001b[1;32m    453\u001b[0m \u001b[38;5;124;03m    \"\"\"\u001b[39;00m\n\u001b[0;32m--> 454\u001b[0m     \u001b[38;5;28;01mreturn\u001b[39;00m \u001b[38;5;28;43mself\u001b[39;49m\u001b[38;5;241;43m.\u001b[39;49m\u001b[43m_find_backend\u001b[49m\u001b[43m(\u001b[49m\u001b[43muse_default\u001b[49m\u001b[38;5;241;43m=\u001b[39;49m\u001b[38;5;28;43;01mTrue\u001b[39;49;00m\u001b[43m)\u001b[49m\u001b[38;5;241;43m.\u001b[39;49m\u001b[43mexecute\u001b[49m\u001b[43m(\u001b[49m\n\u001b[1;32m    455\u001b[0m \u001b[43m        \u001b[49m\u001b[38;5;28;43mself\u001b[39;49m\u001b[43m,\u001b[49m\u001b[43m \u001b[49m\u001b[43mlimit\u001b[49m\u001b[38;5;241;43m=\u001b[39;49m\u001b[43mlimit\u001b[49m\u001b[43m,\u001b[49m\u001b[43m \u001b[49m\u001b[43mparams\u001b[49m\u001b[38;5;241;43m=\u001b[39;49m\u001b[43mparams\u001b[49m\u001b[43m,\u001b[49m\u001b[43m \u001b[49m\u001b[38;5;241;43m*\u001b[39;49m\u001b[38;5;241;43m*\u001b[39;49m\u001b[43mkwargs\u001b[49m\n\u001b[1;32m    456\u001b[0m \u001b[43m    \u001b[49m\u001b[43m)\u001b[49m\n",
      "File \u001b[0;32m~/code/scg/alaska-legislative-data/python/.venv/lib/python3.11/site-packages/ibis/backends/duckdb/__init__.py:1335\u001b[0m, in \u001b[0;36mBackend.execute\u001b[0;34m(self, expr, params, limit, **kwargs)\u001b[0m\n\u001b[1;32m   1328\u001b[0m \u001b[38;5;28;01mimport\u001b[39;00m\u001b[38;5;250m \u001b[39m\u001b[38;5;21;01mpyarrow\u001b[39;00m\u001b[38;5;21;01m.\u001b[39;00m\u001b[38;5;21;01mtypes\u001b[39;00m\u001b[38;5;250m \u001b[39m\u001b[38;5;28;01mas\u001b[39;00m\u001b[38;5;250m \u001b[39m\u001b[38;5;21;01mpat\u001b[39;00m\n\u001b[1;32m   1330\u001b[0m table \u001b[38;5;241m=\u001b[39m \u001b[38;5;28mself\u001b[39m\u001b[38;5;241m.\u001b[39m_to_duckdb_relation(\n\u001b[1;32m   1331\u001b[0m     expr, params\u001b[38;5;241m=\u001b[39mparams, limit\u001b[38;5;241m=\u001b[39mlimit, \u001b[38;5;241m*\u001b[39m\u001b[38;5;241m*\u001b[39mkwargs\n\u001b[1;32m   1332\u001b[0m )\u001b[38;5;241m.\u001b[39marrow()\n\u001b[1;32m   1334\u001b[0m df \u001b[38;5;241m=\u001b[39m pd\u001b[38;5;241m.\u001b[39mDataFrame(\n\u001b[0;32m-> 1335\u001b[0m     \u001b[43m{\u001b[49m\n\u001b[1;32m   1336\u001b[0m \u001b[43m        \u001b[49m\u001b[43mname\u001b[49m\u001b[43m:\u001b[49m\u001b[43m \u001b[49m\u001b[43m(\u001b[49m\n\u001b[1;32m   1337\u001b[0m \u001b[43m            \u001b[49m\u001b[43mcol\u001b[49m\u001b[38;5;241;43m.\u001b[39;49m\u001b[43mto_pylist\u001b[49m\u001b[43m(\u001b[49m\u001b[43m)\u001b[49m\n\u001b[1;32m   1338\u001b[0m \u001b[43m            \u001b[49m\u001b[38;5;28;43;01mif\u001b[39;49;00m\u001b[43m \u001b[49m\u001b[43m(\u001b[49m\n\u001b[1;32m   1339\u001b[0m \u001b[43m                \u001b[49m\u001b[43mpat\u001b[49m\u001b[38;5;241;43m.\u001b[39;49m\u001b[43mis_nested\u001b[49m\u001b[43m(\u001b[49m\u001b[43mcol\u001b[49m\u001b[38;5;241;43m.\u001b[39;49m\u001b[43mtype\u001b[49m\u001b[43m)\u001b[49m\n\u001b[1;32m   1340\u001b[0m \u001b[43m                \u001b[49m\u001b[38;5;129;43;01mor\u001b[39;49;00m\n\u001b[1;32m   1341\u001b[0m \u001b[43m                \u001b[49m\u001b[38;5;66;43;03m# pyarrow / duckdb type null literals columns as int32?\u001b[39;49;00m\n\u001b[1;32m   1342\u001b[0m \u001b[43m                \u001b[49m\u001b[38;5;66;43;03m# but calling `to_pylist()` will render it as None\u001b[39;49;00m\n\u001b[1;32m   1343\u001b[0m \u001b[43m                \u001b[49m\u001b[43mcol\u001b[49m\u001b[38;5;241;43m.\u001b[39;49m\u001b[43mnull_count\u001b[49m\n\u001b[1;32m   1344\u001b[0m \u001b[43m            \u001b[49m\u001b[43m)\u001b[49m\n\u001b[1;32m   1345\u001b[0m \u001b[43m            \u001b[49m\u001b[38;5;28;43;01melse\u001b[39;49;00m\u001b[43m \u001b[49m\u001b[43mcol\u001b[49m\u001b[38;5;241;43m.\u001b[39;49m\u001b[43mto_pandas\u001b[49m\u001b[43m(\u001b[49m\u001b[43m)\u001b[49m\n\u001b[1;32m   1346\u001b[0m \u001b[43m        \u001b[49m\u001b[43m)\u001b[49m\n\u001b[1;32m   1347\u001b[0m \u001b[43m        \u001b[49m\u001b[38;5;28;43;01mfor\u001b[39;49;00m\u001b[43m \u001b[49m\u001b[43mname\u001b[49m\u001b[43m,\u001b[49m\u001b[43m \u001b[49m\u001b[43mcol\u001b[49m\u001b[43m \u001b[49m\u001b[38;5;129;43;01min\u001b[39;49;00m\u001b[43m \u001b[49m\u001b[38;5;28;43mzip\u001b[39;49m\u001b[43m(\u001b[49m\u001b[43mtable\u001b[49m\u001b[38;5;241;43m.\u001b[39;49m\u001b[43mcolumn_names\u001b[49m\u001b[43m,\u001b[49m\u001b[43m \u001b[49m\u001b[43mtable\u001b[49m\u001b[38;5;241;43m.\u001b[39;49m\u001b[43mcolumns\u001b[49m\u001b[43m)\u001b[49m\n\u001b[1;32m   1348\u001b[0m \u001b[43m    \u001b[49m\u001b[43m}\u001b[49m\n\u001b[1;32m   1349\u001b[0m )\n\u001b[1;32m   1350\u001b[0m df \u001b[38;5;241m=\u001b[39m DuckDBPandasData\u001b[38;5;241m.\u001b[39mconvert_table(df, expr\u001b[38;5;241m.\u001b[39mas_table()\u001b[38;5;241m.\u001b[39mschema())\n\u001b[1;32m   1351\u001b[0m \u001b[38;5;28;01mreturn\u001b[39;00m expr\u001b[38;5;241m.\u001b[39m__pandas_result__(df)\n",
      "File \u001b[0;32m~/code/scg/alaska-legislative-data/python/.venv/lib/python3.11/site-packages/ibis/backends/duckdb/__init__.py:1345\u001b[0m, in \u001b[0;36m<dictcomp>\u001b[0;34m(.0)\u001b[0m\n\u001b[1;32m   1328\u001b[0m \u001b[38;5;28;01mimport\u001b[39;00m\u001b[38;5;250m \u001b[39m\u001b[38;5;21;01mpyarrow\u001b[39;00m\u001b[38;5;21;01m.\u001b[39;00m\u001b[38;5;21;01mtypes\u001b[39;00m\u001b[38;5;250m \u001b[39m\u001b[38;5;28;01mas\u001b[39;00m\u001b[38;5;250m \u001b[39m\u001b[38;5;21;01mpat\u001b[39;00m\n\u001b[1;32m   1330\u001b[0m table \u001b[38;5;241m=\u001b[39m \u001b[38;5;28mself\u001b[39m\u001b[38;5;241m.\u001b[39m_to_duckdb_relation(\n\u001b[1;32m   1331\u001b[0m     expr, params\u001b[38;5;241m=\u001b[39mparams, limit\u001b[38;5;241m=\u001b[39mlimit, \u001b[38;5;241m*\u001b[39m\u001b[38;5;241m*\u001b[39mkwargs\n\u001b[1;32m   1332\u001b[0m )\u001b[38;5;241m.\u001b[39marrow()\n\u001b[1;32m   1334\u001b[0m df \u001b[38;5;241m=\u001b[39m pd\u001b[38;5;241m.\u001b[39mDataFrame(\n\u001b[1;32m   1335\u001b[0m     {\n\u001b[1;32m   1336\u001b[0m         name: (\n\u001b[1;32m   1337\u001b[0m             col\u001b[38;5;241m.\u001b[39mto_pylist()\n\u001b[1;32m   1338\u001b[0m             \u001b[38;5;28;01mif\u001b[39;00m (\n\u001b[1;32m   1339\u001b[0m                 pat\u001b[38;5;241m.\u001b[39mis_nested(col\u001b[38;5;241m.\u001b[39mtype)\n\u001b[1;32m   1340\u001b[0m                 \u001b[38;5;129;01mor\u001b[39;00m\n\u001b[1;32m   1341\u001b[0m                 \u001b[38;5;66;03m# pyarrow / duckdb type null literals columns as int32?\u001b[39;00m\n\u001b[1;32m   1342\u001b[0m                 \u001b[38;5;66;03m# but calling `to_pylist()` will render it as None\u001b[39;00m\n\u001b[1;32m   1343\u001b[0m                 col\u001b[38;5;241m.\u001b[39mnull_count\n\u001b[1;32m   1344\u001b[0m             )\n\u001b[0;32m-> 1345\u001b[0m             \u001b[38;5;28;01melse\u001b[39;00m \u001b[43mcol\u001b[49m\u001b[38;5;241;43m.\u001b[39;49m\u001b[43mto_pandas\u001b[49m\u001b[43m(\u001b[49m\u001b[43m)\u001b[49m\n\u001b[1;32m   1346\u001b[0m         )\n\u001b[1;32m   1347\u001b[0m         \u001b[38;5;28;01mfor\u001b[39;00m name, col \u001b[38;5;129;01min\u001b[39;00m \u001b[38;5;28mzip\u001b[39m(table\u001b[38;5;241m.\u001b[39mcolumn_names, table\u001b[38;5;241m.\u001b[39mcolumns)\n\u001b[1;32m   1348\u001b[0m     }\n\u001b[1;32m   1349\u001b[0m )\n\u001b[1;32m   1350\u001b[0m df \u001b[38;5;241m=\u001b[39m DuckDBPandasData\u001b[38;5;241m.\u001b[39mconvert_table(df, expr\u001b[38;5;241m.\u001b[39mas_table()\u001b[38;5;241m.\u001b[39mschema())\n\u001b[1;32m   1351\u001b[0m \u001b[38;5;28;01mreturn\u001b[39;00m expr\u001b[38;5;241m.\u001b[39m__pandas_result__(df)\n",
      "File \u001b[0;32m~/code/scg/alaska-legislative-data/python/.venv/lib/python3.11/site-packages/pyarrow/array.pxi:889\u001b[0m, in \u001b[0;36mpyarrow.lib._PandasConvertible.to_pandas\u001b[0;34m()\u001b[0m\n",
      "File \u001b[0;32m~/code/scg/alaska-legislative-data/python/.venv/lib/python3.11/site-packages/pyarrow/table.pxi:488\u001b[0m, in \u001b[0;36mpyarrow.lib.ChunkedArray._to_pandas\u001b[0;34m()\u001b[0m\n",
      "File \u001b[0;32m~/code/scg/alaska-legislative-data/python/.venv/lib/python3.11/site-packages/pyarrow/array.pxi:2123\u001b[0m, in \u001b[0;36mpyarrow.lib._array_like_to_pandas\u001b[0;34m()\u001b[0m\n",
      "File \u001b[0;32m~/code/scg/alaska-legislative-data/python/.venv/lib/python3.11/site-packages/pyarrow/error.pxi:92\u001b[0m, in \u001b[0;36mpyarrow.lib.check_status\u001b[0;34m()\u001b[0m\n",
      "\u001b[0;31mArrowTypeError\u001b[0m: Converting unsigned dictionary indices to pandas not yet supported, index type: uint8"
     ]
    }
   ],
   "source": [
    "db.Member.select(\n",
    "    # \"MemberId\",\n",
    "    # \"LegislatureNumber\",\n",
    "    # \"PersonId\",\n",
    "    \"Chamber\",\n",
    "    # \"District\",\n",
    "    # \"IsMajority\",\n",
    "    # \"Party\",\n",
    ").to_pandas()"
   ]
  },
  {
   "cell_type": "code",
   "execution_count": null,
   "id": "b22b310f",
   "metadata": {},
   "outputs": [],
   "source": []
  }
 ],
 "metadata": {
  "kernelspec": {
   "display_name": ".venv",
   "language": "python",
   "name": "python3"
  },
  "language_info": {
   "codemirror_mode": {
    "name": "ipython",
    "version": 3
   },
   "file_extension": ".py",
   "mimetype": "text/x-python",
   "name": "python",
   "nbconvert_exporter": "python",
   "pygments_lexer": "ipython3",
   "version": "3.11.6"
  }
 },
 "nbformat": 4,
 "nbformat_minor": 5
}
