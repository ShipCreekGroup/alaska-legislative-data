{
 "cells": [
  {
   "cell_type": "code",
   "execution_count": 1,
   "metadata": {},
   "outputs": [],
   "source": [
    "from alaska_legislative_api import _low, _scrape\n",
    "import logging\n",
    "\n",
    "logging.basicConfig(level=logging.DEBUG)"
   ]
  },
  {
   "cell_type": "code",
   "execution_count": 5,
   "metadata": {},
   "outputs": [
    {
     "name": "stderr",
     "output_type": "stream",
     "text": [
      "DEBUG:alaska_legislative_api._low:Requesting https://www.akleg.gov/publicservice/basis/sessions?minifyresult=false&json=true&session=1 with headers {'user-agent': 'Mozilla/5.0 (compatible; MSIE 9.0; Windows NT 6.1; Trident/5.0)', 'X-Alaska-Legislature-Basis-Version': '1.4', 'Accept-Encoding': 'gzip;q=1.0', 'X-Alaska-Legislature-Basis-Query': 'laws,journals,locations,subjects,requestors,sponsorts,stats,housestatus,senatestatus'}\n",
      "DEBUG:alaska_legislative_api._low:Requesting https://www.akleg.gov/publicservice/basis/sessions?minifyresult=false&json=true&session=2 with headers {'user-agent': 'Mozilla/5.0 (compatible; MSIE 9.0; Windows NT 6.1; Trident/5.0)', 'X-Alaska-Legislature-Basis-Version': '1.4', 'Accept-Encoding': 'gzip;q=1.0', 'X-Alaska-Legislature-Basis-Query': 'laws,journals,locations,subjects,requestors,sponsorts,stats,housestatus,senatestatus'}\n",
      "DEBUG:alaska_legislative_api._low:Requesting https://www.akleg.gov/publicservice/basis/sessions?minifyresult=false&json=true&session=3 with headers {'user-agent': 'Mozilla/5.0 (compatible; MSIE 9.0; Windows NT 6.1; Trident/5.0)', 'X-Alaska-Legislature-Basis-Version': '1.4', 'Accept-Encoding': 'gzip;q=1.0', 'X-Alaska-Legislature-Basis-Query': 'laws,journals,locations,subjects,requestors,sponsorts,stats,housestatus,senatestatus'}\n"
     ]
    }
   ],
   "source": [
    "_scrape.scrape(\"data/scraped_raw\")"
   ]
  },
  {
   "cell_type": "code",
   "execution_count": null,
   "metadata": {},
   "outputs": [],
   "source": []
  }
 ],
 "metadata": {
  "kernelspec": {
   "display_name": ".venv",
   "language": "python",
   "name": "python3"
  },
  "language_info": {
   "codemirror_mode": {
    "name": "ipython",
    "version": 3
   },
   "file_extension": ".py",
   "mimetype": "text/x-python",
   "name": "python",
   "nbconvert_exporter": "python",
   "pygments_lexer": "ipython3",
   "version": "3.11.6"
  }
 },
 "nbformat": 4,
 "nbformat_minor": 2
}
